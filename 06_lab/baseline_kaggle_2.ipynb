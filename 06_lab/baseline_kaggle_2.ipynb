{
  "nbformat": 4,
  "nbformat_minor": 0,
  "metadata": {
    "colab": {
      "name": "baseline_kaggle_2.ipynb",
      "version": "0.3.2",
      "provenance": [],
      "collapsed_sections": []
    },
    "kernelspec": {
      "name": "python3",
      "display_name": "Python 3"
    },
    "accelerator": "GPU"
  },
  "cells": [
    {
      "metadata": {
        "id": "yRrjMtqAoXHx",
        "colab_type": "text"
      },
      "cell_type": "markdown",
      "source": [
        "## Do not forget to click Edit -> Notebook settings -> Hardware accelerator ->GPU"
      ]
    },
    {
      "metadata": {
        "id": "bwXrUvM0oFRb",
        "colab_type": "text"
      },
      "cell_type": "markdown",
      "source": [
        "<a href=\"https://colab.research.google.com/github/yandexdataschool/MLatImperial2019/blob/master/06_lab/baseline_kaggle_2.ipynb\" target=\"_parent\"><img src=\"https://colab.research.google.com/assets/colab-badge.svg\" alt=\"Open In Colab\"/></a>"
      ]
    },
    {
      "metadata": {
        "id": "Gd_eJrz44j9h",
        "colab_type": "text"
      },
      "cell_type": "markdown",
      "source": [
        "As before - mount drive, download data"
      ]
    },
    {
      "metadata": {
        "id": "vQ6NgIT96s1Y",
        "colab_type": "code",
        "colab": {}
      },
      "cell_type": "code",
      "source": [
        "DATA_PREFIX = \"/content/gdrive/My Drive/kaggle_2/\""
      ],
      "execution_count": 0,
      "outputs": []
    },
    {
      "metadata": {
        "id": "b9eVPGyQ4lmD",
        "colab_type": "code",
        "outputId": "17b7e47c-c832-4a89-d014-78a544cc1cd0",
        "colab": {
          "base_uri": "https://localhost:8080/",
          "height": 289
        }
      },
      "cell_type": "code",
      "source": [
        "from google.colab import drive\n",
        "drive.mount('/content/gdrive')"
      ],
      "execution_count": 2,
      "outputs": [
        {
          "output_type": "stream",
          "text": [
            "Go to this URL in a browser: https://accounts.google.com/o/oauth2/auth?client_id=947318989803-6bn6qk8qdgf4n4g3pfee6491hc0brc4i.apps.googleusercontent.com&redirect_uri=urn%3Aietf%3Awg%3Aoauth%3A2.0%3Aoob&scope=email%20https%3A%2F%2Fwww.googleapis.com%2Fauth%2Fdocs.test%20https%3A%2F%2Fwww.googleapis.com%2Fauth%2Fdrive%20https%3A%2F%2Fwww.googleapis.com%2Fauth%2Fdrive.photos.readonly%20https%3A%2F%2Fwww.googleapis.com%2Fauth%2Fpeopleapi.readonly&response_type=code\n",
            "\n",
            "Enter your authorization code:\n",
            "··········\n",
            "Mounted at /content/gdrive\n"
          ],
          "name": "stdout"
        }
      ]
    },
    {
      "metadata": {
        "id": "D0sdJcR-47d_",
        "colab_type": "code",
        "outputId": "23607b04-e0dd-4e7c-b04a-f09670db0750",
        "colab": {
          "base_uri": "https://localhost:8080/",
          "height": 367
        }
      },
      "cell_type": "code",
      "source": [
        "!mkdir /content/.kaggle\n",
        "!cp /content/gdrive/My\\ Drive/kaggle.json /content/.kaggle/\n",
        "!chmod 600 /content/.kaggle/kaggle.json\n",
        "!ls -l /content/.kaggle\n",
        "\n",
        "%env KAGGLE_CONFIG_DIR=/content/.kaggle"
      ],
      "execution_count": 3,
      "outputs": [
        {
          "output_type": "stream",
          "text": [
            "total 4\n",
            "-rw------- 1 root root 63 Feb  4 21:52 kaggle.json\n",
            "env: KAGGLE_CONFIG_DIR=/content/.kaggle\n"
          ],
          "name": "stdout"
        }
      ]
    },
    {
      "metadata": {
        "id": "sv2fxrvm4-SR",
        "colab_type": "code",
        "outputId": "b558274b-cbc4-4bef-b73b-806bbd1fc9b0",
        "colab": {
          "base_uri": "https://localhost:8080/",
          "height": 1020
        }
      },
      "cell_type": "code",
      "source": [
        "!kaggle competitions download --force -c icl2019-jet -p '{DATA_PREFIX}'\n",
        "\n",
        "!unzip '{DATA_PREFIX}/kaggle_train.h5.zip' -d '{DATA_PREFIX}'\n",
        "!chmod +rw '{DATA_PREFIX}/kaggle_train.h5'\n",
        "!rm '{DATA_PREFIX}/kaggle_train.h5.zip'\n",
        "\n",
        "\n",
        "!unzip '{DATA_PREFIX}/kaggle_test.h5.zip' -d '{DATA_PREFIX}'\n",
        "!chmod +rw '{DATA_PREFIX}/kaggle_test.h5'\n",
        "!rm '{DATA_PREFIX}/kaggle_test.h5.zip'"
      ],
      "execution_count": 6,
      "outputs": [
        {
          "output_type": "stream",
          "text": [
            "Downloading kaggle_train.h5.zip to /content/gdrive/My Drive/kaggle_2\n",
            "100% 979M/982M [00:07<00:00, 126MB/s]\n",
            "100% 982M/982M [00:08<00:00, 129MB/s]\n",
            "Downloading kaggle_test.h5.zip to /content/gdrive/My Drive/kaggle_2\n",
            "100% 327M/329M [00:03<00:00, 123MB/s]\n",
            "100% 329M/329M [00:03<00:00, 108MB/s]\n",
            "Archive:  /content/gdrive/My Drive/kaggle_2//kaggle_train.h5.zip\n",
            "replace /content/gdrive/My Drive/kaggle_2/kaggle_train.h5? [y]es, [n]o, [A]ll, [N]one, [r]ename: y\n",
            "  inflating: /content/gdrive/My Drive/kaggle_2/kaggle_train.h5  \n",
            "Archive:  /content/gdrive/My Drive/kaggle_2//kaggle_test.h5.zip\n",
            "  inflating: /content/gdrive/My Drive/kaggle_2/kaggle_test.h5  \n"
          ],
          "name": "stdout"
        }
      ]
    },
    {
      "metadata": {
        "id": "Q9z-V_Mqgd5G",
        "colab_type": "code",
        "colab": {
          "base_uri": "https://localhost:8080/",
          "height": 227
        },
        "outputId": "14bacd19-2918-421b-8d8f-822d39c9627c"
      },
      "cell_type": "code",
      "source": [
        "!ls '{DATA_PREFIX}'"
      ],
      "execution_count": 7,
      "outputs": [
        {
          "output_type": "stream",
          "text": [
            "kaggle_test.h5\tkaggle_train.h5  nn_snapshots\n"
          ],
          "name": "stdout"
        }
      ]
    },
    {
      "metadata": {
        "id": "JvjMk58D5Ar4",
        "colab_type": "code",
        "colab": {
          "base_uri": "https://localhost:8080/",
          "height": 314
        },
        "outputId": "8d922fbd-5f29-4a73-8552-b4ef9b634e78"
      },
      "cell_type": "code",
      "source": [
        "import os\n",
        "# Create folder to save NN snapshots during training\n",
        "os.mkdir(os.path.join(\"/content/gdrive/My Drive/kaggle_2\", \"nn_snapshots\"))"
      ],
      "execution_count": 8,
      "outputs": [
        {
          "output_type": "error",
          "ename": "FileExistsError",
          "evalue": "ignored",
          "traceback": [
            "\u001b[0;31m---------------------------------------------------------------------------\u001b[0m",
            "\u001b[0;31mFileExistsError\u001b[0m                           Traceback (most recent call last)",
            "\u001b[0;32m<ipython-input-8-a8ff93d7a319>\u001b[0m in \u001b[0;36m<module>\u001b[0;34m()\u001b[0m\n\u001b[1;32m      1\u001b[0m \u001b[0;32mimport\u001b[0m \u001b[0mos\u001b[0m\u001b[0;34m\u001b[0m\u001b[0;34m\u001b[0m\u001b[0m\n\u001b[1;32m      2\u001b[0m \u001b[0;31m# Create folder to save NN snapshots during training\u001b[0m\u001b[0;34m\u001b[0m\u001b[0;34m\u001b[0m\u001b[0;34m\u001b[0m\u001b[0m\n\u001b[0;32m----> 3\u001b[0;31m \u001b[0mos\u001b[0m\u001b[0;34m.\u001b[0m\u001b[0mmkdir\u001b[0m\u001b[0;34m(\u001b[0m\u001b[0mos\u001b[0m\u001b[0;34m.\u001b[0m\u001b[0mpath\u001b[0m\u001b[0;34m.\u001b[0m\u001b[0mjoin\u001b[0m\u001b[0;34m(\u001b[0m\u001b[0;34m\"/content/gdrive/My Drive/kaggle_2\"\u001b[0m\u001b[0;34m,\u001b[0m \u001b[0;34m\"nn_snapshots\"\u001b[0m\u001b[0;34m)\u001b[0m\u001b[0;34m)\u001b[0m\u001b[0;34m\u001b[0m\u001b[0;34m\u001b[0m\u001b[0m\n\u001b[0m",
            "\u001b[0;31mFileExistsError\u001b[0m: [Errno 17] File exists: '/content/gdrive/My Drive/kaggle_2/nn_snapshots'"
          ]
        }
      ]
    },
    {
      "metadata": {
        "id": "JybtM5m4GXUO",
        "colab_type": "text"
      },
      "cell_type": "markdown",
      "source": [
        "# !Link to challenge!"
      ]
    },
    {
      "metadata": {
        "id": "dmaKRkuCGXUX",
        "colab_type": "text"
      },
      "cell_type": "markdown",
      "source": [
        "# https://www.kaggle.com/t/bd1e8764a756429b941df45ce9457632"
      ]
    },
    {
      "metadata": {
        "id": "G6SSIV_fxll-",
        "colab_type": "text"
      },
      "cell_type": "markdown",
      "source": [
        "# Util functions to preprocess and work with data"
      ]
    },
    {
      "metadata": {
        "id": "jcYBjvepxgEQ",
        "colab_type": "code",
        "colab": {}
      },
      "cell_type": "code",
      "source": [
        "def read_data(data, is_train=True, start_ind=0, end_ind=0):\n",
        "    layer_hcal = np.expand_dims(data['all_events']['histHCAL'][start_ind : end_ind], -1).astype(np.float32)\n",
        "    layer_em = np.expand_dims(data['all_events']['histEM'][start_ind : end_ind], -1).astype(np.float32)\n",
        "    layer_track = np.expand_dims(data['all_events']['histtrack'][start_ind : end_ind], -1).astype(np.float32)\n",
        "    \n",
        "    hit_map = np.concatenate((layer_hcal, layer_em, layer_track), axis=-1).astype(np.float32)\n",
        "    hit_map = np.rollaxis(hit_map, 3, 1)\n",
        "    hit_map = (hit_map - hit_map.mean(axis=0, keepdims=True)) / hit_map.std(axis=0, keepdims=True)\n",
        "    answers = None\n",
        "    if is_train:\n",
        "        answers = np.expand_dims(data['all_events']['y'][start_ind : end_ind], -1)\n",
        "    return hit_map, answers\n",
        "  \n",
        "def save_data_in_chunks(data, chunk_size):\n",
        "    for index, step in enumerate(range(0, len(data['all_events']['histHCAL']), chunk_size)):\n",
        "        X, y = read_data(train, True, step, step + chunk_size)\n",
        "        X_train, X_val, y_train, y_val = train_test_split(X, y, train_size=0.9, random_state=42)\n",
        "        np.save(\"X_train_{}\".format(index) , X_train)\n",
        "        np.save(\"y_train_{}\".format(index) , y_train)        \n",
        "        np.save(\"X_val_{}\".format(index) , X_val)\n",
        "        np.save(\"y_val_{}\".format(index) , y_val)\n",
        "        del X, y, X_train, X_val, y_train, y_val\n",
        "        gc.collect()\n",
        "        print(\"Done:{}\".format(index))  "
      ],
      "execution_count": 0,
      "outputs": []
    },
    {
      "metadata": {
        "id": "w248AVRhGXUd",
        "colab_type": "text"
      },
      "cell_type": "markdown",
      "source": [
        "### import standard packages"
      ]
    },
    {
      "metadata": {
        "id": "LwmX7UoxGXVO",
        "colab_type": "code",
        "colab": {}
      },
      "cell_type": "code",
      "source": [
        "import gc\n",
        "import numpy as np\n",
        "import pickle\n",
        "import os\n",
        "import matplotlib.pyplot as plt\n",
        "%matplotlib inline\n",
        "import scipy\n",
        "from sklearn.metrics import accuracy_score\n",
        "from sklearn.metrics import roc_auc_score\n",
        "from sklearn.model_selection import train_test_split"
      ],
      "execution_count": 0,
      "outputs": []
    },
    {
      "metadata": {
        "id": "3jo5_KXSGXVV",
        "colab_type": "text"
      },
      "cell_type": "markdown",
      "source": [
        "## import torch and h5 data format parser"
      ]
    },
    {
      "metadata": {
        "id": "YfQUq4w9GXVX",
        "colab_type": "code",
        "colab": {}
      },
      "cell_type": "code",
      "source": [
        "import h5py\n",
        "import torch"
      ],
      "execution_count": 0,
      "outputs": []
    },
    {
      "metadata": {
        "id": "NvVq5p2SyGFM",
        "colab_type": "text"
      },
      "cell_type": "markdown",
      "source": [
        "### Create small batches of train data locally(will be deleted after restrat of the session)"
      ]
    },
    {
      "metadata": {
        "id": "EQjimmEQyBWd",
        "colab_type": "code",
        "colab": {
          "base_uri": "https://localhost:8080/",
          "height": 753
        },
        "outputId": "b5324f02-3ba4-4197-b698-4867a25075df"
      },
      "cell_type": "code",
      "source": [
        "train = h5py.File(os.path.join(DATA_PREFIX, \"kaggle_train.h5\"), 'r')\n",
        "save_data_in_chunks(train, 50000)"
      ],
      "execution_count": 12,
      "outputs": [
        {
          "output_type": "stream",
          "text": [
            "/usr/local/lib/python3.6/dist-packages/sklearn/model_selection/_split.py:2179: FutureWarning: From version 0.21, test_size will always complement train_size unless both are specified.\n",
            "  FutureWarning)\n"
          ],
          "name": "stderr"
        },
        {
          "output_type": "stream",
          "text": [
            "Done:0\n",
            "Done:1\n",
            "Done:2\n"
          ],
          "name": "stdout"
        },
        {
          "output_type": "error",
          "ename": "KeyboardInterrupt",
          "evalue": "ignored",
          "traceback": [
            "\u001b[0;31m---------------------------------------------------------------------------\u001b[0m",
            "\u001b[0;31mKeyboardInterrupt\u001b[0m                         Traceback (most recent call last)",
            "\u001b[0;32m<ipython-input-12-f75b6f89c57d>\u001b[0m in \u001b[0;36m<module>\u001b[0;34m()\u001b[0m\n\u001b[1;32m      1\u001b[0m \u001b[0mtrain\u001b[0m \u001b[0;34m=\u001b[0m \u001b[0mh5py\u001b[0m\u001b[0;34m.\u001b[0m\u001b[0mFile\u001b[0m\u001b[0;34m(\u001b[0m\u001b[0mos\u001b[0m\u001b[0;34m.\u001b[0m\u001b[0mpath\u001b[0m\u001b[0;34m.\u001b[0m\u001b[0mjoin\u001b[0m\u001b[0;34m(\u001b[0m\u001b[0mDATA_PREFIX\u001b[0m\u001b[0;34m,\u001b[0m \u001b[0;34m\"kaggle_train.h5\"\u001b[0m\u001b[0;34m)\u001b[0m\u001b[0;34m,\u001b[0m \u001b[0;34m'r'\u001b[0m\u001b[0;34m)\u001b[0m\u001b[0;34m\u001b[0m\u001b[0;34m\u001b[0m\u001b[0m\n\u001b[0;32m----> 2\u001b[0;31m \u001b[0msave_data_in_chunks\u001b[0m\u001b[0;34m(\u001b[0m\u001b[0mtrain\u001b[0m\u001b[0;34m,\u001b[0m \u001b[0;36m50000\u001b[0m\u001b[0;34m)\u001b[0m\u001b[0;34m\u001b[0m\u001b[0;34m\u001b[0m\u001b[0m\n\u001b[0m",
            "\u001b[0;32m<ipython-input-9-17dfa8ef44fa>\u001b[0m in \u001b[0;36msave_data_in_chunks\u001b[0;34m(data, chunk_size)\u001b[0m\n\u001b[1;32m     14\u001b[0m \u001b[0;32mdef\u001b[0m \u001b[0msave_data_in_chunks\u001b[0m\u001b[0;34m(\u001b[0m\u001b[0mdata\u001b[0m\u001b[0;34m,\u001b[0m \u001b[0mchunk_size\u001b[0m\u001b[0;34m)\u001b[0m\u001b[0;34m:\u001b[0m\u001b[0;34m\u001b[0m\u001b[0;34m\u001b[0m\u001b[0m\n\u001b[1;32m     15\u001b[0m     \u001b[0;32mfor\u001b[0m \u001b[0mindex\u001b[0m\u001b[0;34m,\u001b[0m \u001b[0mstep\u001b[0m \u001b[0;32min\u001b[0m \u001b[0menumerate\u001b[0m\u001b[0;34m(\u001b[0m\u001b[0mrange\u001b[0m\u001b[0;34m(\u001b[0m\u001b[0;36m0\u001b[0m\u001b[0;34m,\u001b[0m \u001b[0mlen\u001b[0m\u001b[0;34m(\u001b[0m\u001b[0mdata\u001b[0m\u001b[0;34m[\u001b[0m\u001b[0;34m'all_events'\u001b[0m\u001b[0;34m]\u001b[0m\u001b[0;34m[\u001b[0m\u001b[0;34m'histHCAL'\u001b[0m\u001b[0;34m]\u001b[0m\u001b[0;34m)\u001b[0m\u001b[0;34m,\u001b[0m \u001b[0mchunk_size\u001b[0m\u001b[0;34m)\u001b[0m\u001b[0;34m)\u001b[0m\u001b[0;34m:\u001b[0m\u001b[0;34m\u001b[0m\u001b[0;34m\u001b[0m\u001b[0m\n\u001b[0;32m---> 16\u001b[0;31m         \u001b[0mX\u001b[0m\u001b[0;34m,\u001b[0m \u001b[0my\u001b[0m \u001b[0;34m=\u001b[0m \u001b[0mread_data\u001b[0m\u001b[0;34m(\u001b[0m\u001b[0mtrain\u001b[0m\u001b[0;34m,\u001b[0m \u001b[0;32mTrue\u001b[0m\u001b[0;34m,\u001b[0m \u001b[0mstep\u001b[0m\u001b[0;34m,\u001b[0m \u001b[0mstep\u001b[0m \u001b[0;34m+\u001b[0m \u001b[0mchunk_size\u001b[0m\u001b[0;34m)\u001b[0m\u001b[0;34m\u001b[0m\u001b[0;34m\u001b[0m\u001b[0m\n\u001b[0m\u001b[1;32m     17\u001b[0m         \u001b[0mX_train\u001b[0m\u001b[0;34m,\u001b[0m \u001b[0mX_val\u001b[0m\u001b[0;34m,\u001b[0m \u001b[0my_train\u001b[0m\u001b[0;34m,\u001b[0m \u001b[0my_val\u001b[0m \u001b[0;34m=\u001b[0m \u001b[0mtrain_test_split\u001b[0m\u001b[0;34m(\u001b[0m\u001b[0mX\u001b[0m\u001b[0;34m,\u001b[0m \u001b[0my\u001b[0m\u001b[0;34m,\u001b[0m \u001b[0mtrain_size\u001b[0m\u001b[0;34m=\u001b[0m\u001b[0;36m0.9\u001b[0m\u001b[0;34m,\u001b[0m \u001b[0mrandom_state\u001b[0m\u001b[0;34m=\u001b[0m\u001b[0;36m42\u001b[0m\u001b[0;34m)\u001b[0m\u001b[0;34m\u001b[0m\u001b[0;34m\u001b[0m\u001b[0m\n\u001b[1;32m     18\u001b[0m         \u001b[0mnp\u001b[0m\u001b[0;34m.\u001b[0m\u001b[0msave\u001b[0m\u001b[0;34m(\u001b[0m\u001b[0;34m\"X_train_{}\"\u001b[0m\u001b[0;34m.\u001b[0m\u001b[0mformat\u001b[0m\u001b[0;34m(\u001b[0m\u001b[0mindex\u001b[0m\u001b[0;34m)\u001b[0m \u001b[0;34m,\u001b[0m \u001b[0mX_train\u001b[0m\u001b[0;34m)\u001b[0m\u001b[0;34m\u001b[0m\u001b[0;34m\u001b[0m\u001b[0m\n",
            "\u001b[0;32m<ipython-input-9-17dfa8ef44fa>\u001b[0m in \u001b[0;36mread_data\u001b[0;34m(data, is_train, start_ind, end_ind)\u001b[0m\n\u001b[1;32m      1\u001b[0m \u001b[0;32mdef\u001b[0m \u001b[0mread_data\u001b[0m\u001b[0;34m(\u001b[0m\u001b[0mdata\u001b[0m\u001b[0;34m,\u001b[0m \u001b[0mis_train\u001b[0m\u001b[0;34m=\u001b[0m\u001b[0;32mTrue\u001b[0m\u001b[0;34m,\u001b[0m \u001b[0mstart_ind\u001b[0m\u001b[0;34m=\u001b[0m\u001b[0;36m0\u001b[0m\u001b[0;34m,\u001b[0m \u001b[0mend_ind\u001b[0m\u001b[0;34m=\u001b[0m\u001b[0;36m0\u001b[0m\u001b[0;34m)\u001b[0m\u001b[0;34m:\u001b[0m\u001b[0;34m\u001b[0m\u001b[0;34m\u001b[0m\u001b[0m\n\u001b[1;32m      2\u001b[0m     \u001b[0mlayer_hcal\u001b[0m \u001b[0;34m=\u001b[0m \u001b[0mnp\u001b[0m\u001b[0;34m.\u001b[0m\u001b[0mexpand_dims\u001b[0m\u001b[0;34m(\u001b[0m\u001b[0mdata\u001b[0m\u001b[0;34m[\u001b[0m\u001b[0;34m'all_events'\u001b[0m\u001b[0;34m]\u001b[0m\u001b[0;34m[\u001b[0m\u001b[0;34m'histHCAL'\u001b[0m\u001b[0;34m]\u001b[0m\u001b[0;34m[\u001b[0m\u001b[0mstart_ind\u001b[0m \u001b[0;34m:\u001b[0m \u001b[0mend_ind\u001b[0m\u001b[0;34m]\u001b[0m\u001b[0;34m,\u001b[0m \u001b[0;34m-\u001b[0m\u001b[0;36m1\u001b[0m\u001b[0;34m)\u001b[0m\u001b[0;34m.\u001b[0m\u001b[0mastype\u001b[0m\u001b[0;34m(\u001b[0m\u001b[0mnp\u001b[0m\u001b[0;34m.\u001b[0m\u001b[0mfloat32\u001b[0m\u001b[0;34m)\u001b[0m\u001b[0;34m\u001b[0m\u001b[0;34m\u001b[0m\u001b[0m\n\u001b[0;32m----> 3\u001b[0;31m     \u001b[0mlayer_em\u001b[0m \u001b[0;34m=\u001b[0m \u001b[0mnp\u001b[0m\u001b[0;34m.\u001b[0m\u001b[0mexpand_dims\u001b[0m\u001b[0;34m(\u001b[0m\u001b[0mdata\u001b[0m\u001b[0;34m[\u001b[0m\u001b[0;34m'all_events'\u001b[0m\u001b[0;34m]\u001b[0m\u001b[0;34m[\u001b[0m\u001b[0;34m'histEM'\u001b[0m\u001b[0;34m]\u001b[0m\u001b[0;34m[\u001b[0m\u001b[0mstart_ind\u001b[0m \u001b[0;34m:\u001b[0m \u001b[0mend_ind\u001b[0m\u001b[0;34m]\u001b[0m\u001b[0;34m,\u001b[0m \u001b[0;34m-\u001b[0m\u001b[0;36m1\u001b[0m\u001b[0;34m)\u001b[0m\u001b[0;34m.\u001b[0m\u001b[0mastype\u001b[0m\u001b[0;34m(\u001b[0m\u001b[0mnp\u001b[0m\u001b[0;34m.\u001b[0m\u001b[0mfloat32\u001b[0m\u001b[0;34m)\u001b[0m\u001b[0;34m\u001b[0m\u001b[0;34m\u001b[0m\u001b[0m\n\u001b[0m\u001b[1;32m      4\u001b[0m     \u001b[0mlayer_track\u001b[0m \u001b[0;34m=\u001b[0m \u001b[0mnp\u001b[0m\u001b[0;34m.\u001b[0m\u001b[0mexpand_dims\u001b[0m\u001b[0;34m(\u001b[0m\u001b[0mdata\u001b[0m\u001b[0;34m[\u001b[0m\u001b[0;34m'all_events'\u001b[0m\u001b[0;34m]\u001b[0m\u001b[0;34m[\u001b[0m\u001b[0;34m'histtrack'\u001b[0m\u001b[0;34m]\u001b[0m\u001b[0;34m[\u001b[0m\u001b[0mstart_ind\u001b[0m \u001b[0;34m:\u001b[0m \u001b[0mend_ind\u001b[0m\u001b[0;34m]\u001b[0m\u001b[0;34m,\u001b[0m \u001b[0;34m-\u001b[0m\u001b[0;36m1\u001b[0m\u001b[0;34m)\u001b[0m\u001b[0;34m.\u001b[0m\u001b[0mastype\u001b[0m\u001b[0;34m(\u001b[0m\u001b[0mnp\u001b[0m\u001b[0;34m.\u001b[0m\u001b[0mfloat32\u001b[0m\u001b[0;34m)\u001b[0m\u001b[0;34m\u001b[0m\u001b[0;34m\u001b[0m\u001b[0m\n\u001b[1;32m      5\u001b[0m \u001b[0;34m\u001b[0m\u001b[0m\n",
            "\u001b[0;32mh5py/_objects.pyx\u001b[0m in \u001b[0;36mh5py._objects.with_phil.wrapper\u001b[0;34m()\u001b[0m\n",
            "\u001b[0;32mh5py/_objects.pyx\u001b[0m in \u001b[0;36mh5py._objects.with_phil.wrapper\u001b[0;34m()\u001b[0m\n",
            "\u001b[0;32m/usr/local/lib/python3.6/dist-packages/h5py/_hl/dataset.py\u001b[0m in \u001b[0;36m__getitem__\u001b[0;34m(self, args)\u001b[0m\n\u001b[1;32m    494\u001b[0m         \u001b[0mmspace\u001b[0m \u001b[0;34m=\u001b[0m \u001b[0mh5s\u001b[0m\u001b[0;34m.\u001b[0m\u001b[0mcreate_simple\u001b[0m\u001b[0;34m(\u001b[0m\u001b[0mmshape\u001b[0m\u001b[0;34m)\u001b[0m\u001b[0;34m\u001b[0m\u001b[0;34m\u001b[0m\u001b[0m\n\u001b[1;32m    495\u001b[0m         \u001b[0mfspace\u001b[0m \u001b[0;34m=\u001b[0m \u001b[0mselection\u001b[0m\u001b[0;34m.\u001b[0m\u001b[0mid\u001b[0m\u001b[0;34m\u001b[0m\u001b[0;34m\u001b[0m\u001b[0m\n\u001b[0;32m--> 496\u001b[0;31m         \u001b[0mself\u001b[0m\u001b[0;34m.\u001b[0m\u001b[0mid\u001b[0m\u001b[0;34m.\u001b[0m\u001b[0mread\u001b[0m\u001b[0;34m(\u001b[0m\u001b[0mmspace\u001b[0m\u001b[0;34m,\u001b[0m \u001b[0mfspace\u001b[0m\u001b[0;34m,\u001b[0m \u001b[0marr\u001b[0m\u001b[0;34m,\u001b[0m \u001b[0mmtype\u001b[0m\u001b[0;34m,\u001b[0m \u001b[0mdxpl\u001b[0m\u001b[0;34m=\u001b[0m\u001b[0mself\u001b[0m\u001b[0;34m.\u001b[0m\u001b[0m_dxpl\u001b[0m\u001b[0;34m)\u001b[0m\u001b[0;34m\u001b[0m\u001b[0;34m\u001b[0m\u001b[0m\n\u001b[0m\u001b[1;32m    497\u001b[0m \u001b[0;34m\u001b[0m\u001b[0m\n\u001b[1;32m    498\u001b[0m         \u001b[0;31m# Patch up the output for NumPy\u001b[0m\u001b[0;34m\u001b[0m\u001b[0;34m\u001b[0m\u001b[0;34m\u001b[0m\u001b[0m\n",
            "\u001b[0;31mKeyboardInterrupt\u001b[0m: "
          ]
        }
      ]
    },
    {
      "metadata": {
        "id": "vBM73vB_Rws_",
        "colab_type": "text"
      },
      "cell_type": "markdown",
      "source": [
        "Event example"
      ]
    },
    {
      "metadata": {
        "id": "GxTvYZLOGXVl",
        "colab_type": "code",
        "colab": {}
      },
      "cell_type": "code",
      "source": [
        "X_example = np.load(\"X_train_0.npy\")"
      ],
      "execution_count": 0,
      "outputs": []
    },
    {
      "metadata": {
        "id": "gNOFRAnhGXVq",
        "colab_type": "code",
        "outputId": "d0c91df9-1b30-4c2d-c728-7637396f8867",
        "colab": {
          "base_uri": "https://localhost:8080/",
          "height": 360
        }
      },
      "cell_type": "code",
      "source": [
        "f, ax = plt.subplots(1,3,figsize=(14,6))\n",
        "for i in range(3):\n",
        "    ax[i].imshow(X_example[100,i,:,:], cmap=\"Reds\")"
      ],
      "execution_count": 15,
      "outputs": [
        {
          "output_type": "display_data",
          "data": {
            "image/png": "[encoded data removed]",
            "text/plain": [
              "<Figure size 1008x432 with 3 Axes>"
            ]
          },
          "metadata": {
            "tags": []
          }
        }
      ]
    },
    {
      "metadata": {
        "id": "vPlYByCvh8XP",
        "colab_type": "code",
        "colab": {
          "base_uri": "https://localhost:8080/",
          "height": 114
        },
        "outputId": "d69d8874-01a3-42fd-9289-e58505e8b33f"
      },
      "cell_type": "code",
      "source": [
        "del X_example\n",
        "gc.collect()"
      ],
      "execution_count": 16,
      "outputs": [
        {
          "output_type": "execute_result",
          "data": {
            "text/plain": [
              "85"
            ]
          },
          "metadata": {
            "tags": []
          },
          "execution_count": 16
        }
      ]
    },
    {
      "metadata": {
        "id": "1a99yYfk5m-w",
        "colab_type": "text"
      },
      "cell_type": "markdown",
      "source": [
        "Load validation data to memory"
      ]
    },
    {
      "metadata": {
        "id": "Dp-SnS_-5lzZ",
        "colab_type": "code",
        "colab": {}
      },
      "cell_type": "code",
      "source": [
        "# This variable tells, how much file pieces of validation data we want to consider\n",
        "N_DATA_SPLITS = 3"
      ],
      "execution_count": 0,
      "outputs": []
    },
    {
      "metadata": {
        "id": "xc3rKXrlGXVx",
        "colab_type": "code",
        "colab": {}
      },
      "cell_type": "code",
      "source": [
        "X_val = np.concatenate([np.load(\"X_val_{}.npy\".format(i)) for i in range(N_DATA_SPLITS)])\n",
        "y_val = np.concatenate([np.load(\"y_val_{}.npy\".format(i)) for i in range(N_DATA_SPLITS)])"
      ],
      "execution_count": 0,
      "outputs": []
    },
    {
      "metadata": {
        "id": "lwKUQnMDGXV0",
        "colab_type": "text"
      },
      "cell_type": "markdown",
      "source": [
        "## The next steps are exactly the same as on  Monday"
      ]
    },
    {
      "metadata": {
        "id": "zSD1Anc8GXV1",
        "colab_type": "code",
        "colab": {}
      },
      "cell_type": "code",
      "source": [
        "from torch import nn\n",
        "import torch.nn.functional as F\n",
        "\n",
        "class Flatten(nn.Module):\n",
        "    def forward(self, input):\n",
        "        return input.view(input.size(0), -1)"
      ],
      "execution_count": 0,
      "outputs": []
    },
    {
      "metadata": {
        "id": "ZZQZ7WmqGXV7",
        "colab_type": "text"
      },
      "cell_type": "markdown",
      "source": [
        "### This is dummy example of CNN, look what you can change here(HINT: look at cifar seminar cheatsheet)"
      ]
    },
    {
      "metadata": {
        "id": "Zf_m7XRAGXV8",
        "colab_type": "code",
        "colab": {}
      },
      "cell_type": "code",
      "source": [
        "device = torch.device(\"cuda\", 0)"
      ],
      "execution_count": 0,
      "outputs": []
    },
    {
      "metadata": {
        "id": "U1KXoC7pGXWA",
        "colab_type": "code",
        "outputId": "db6d4901-6884-48c4-a446-84f73d93f19c",
        "colab": {
          "base_uri": "https://localhost:8080/",
          "height": 280
        }
      },
      "cell_type": "code",
      "source": [
        "model = torch.nn.Sequential()\n",
        "model.add_module(\"maxpool_1\", torch.nn.MaxPool2d(kernel_size=2))\n",
        "model.add_module('conv_1', nn.Conv2d(3, 32, kernel_size=(5,5), stride=1, padding=0))\n",
        "model.add_module(\"maxpool_2\", torch.nn.MaxPool2d(kernel_size=2))\n",
        "model.add_module(\"relu_1\", torch.nn.ReLU())\n",
        "\n",
        "model.add_module(\"flat\", Flatten())\n",
        "\n",
        "model.add_module(\"fc1\", torch.nn.Linear(6272, 128))\n",
        "model.add_module(\"relu_2\", torch.nn.ReLU())\n",
        "model.add_module(\"fc2\", torch.nn.Linear(128, 1))\n",
        "model.add_module(\"sigmoid\", torch.nn.Sigmoid())\n",
        "\n",
        "model.to(device)"
      ],
      "execution_count": 21,
      "outputs": [
        {
          "output_type": "execute_result",
          "data": {
            "text/plain": [
              "Sequential(\n",
              "  (maxpool_1): MaxPool2d(kernel_size=2, stride=2, padding=0, dilation=1, ceil_mode=False)\n",
              "  (conv_1): Conv2d(3, 32, kernel_size=(5, 5), stride=(1, 1))\n",
              "  (maxpool_2): MaxPool2d(kernel_size=2, stride=2, padding=0, dilation=1, ceil_mode=False)\n",
              "  (relu_1): ReLU()\n",
              "  (flat): Flatten()\n",
              "  (fc1): Linear(in_features=6272, out_features=128, bias=True)\n",
              "  (relu_2): ReLU()\n",
              "  (fc2): Linear(in_features=128, out_features=1, bias=True)\n",
              "  (sigmoid): Sigmoid()\n",
              ")"
            ]
          },
          "metadata": {
            "tags": []
          },
          "execution_count": 21
        }
      ]
    },
    {
      "metadata": {
        "id": "PvdHX2c_GXWI",
        "colab_type": "text"
      },
      "cell_type": "markdown",
      "source": [
        "### Training on minibatches\n",
        "\n",
        "Just like before, we train our model on small random minibatches of data with adaptive optimization method of your choice."
      ]
    },
    {
      "metadata": {
        "id": "qFUuixd6RU31",
        "colab_type": "code",
        "colab": {}
      },
      "cell_type": "code",
      "source": [
        "# An auxilary function that returns mini-batches for neural network training\n",
        "from tqdm import trange\n",
        "def iterate_minibatches(X, y, batchsize, shuffle=False):\n",
        "    indices = np.arange(len(X))\n",
        "    if shuffle: \n",
        "        indices = np.random.permutation(indices)\n",
        "    for start in trange(0, len(indices), batchsize):\n",
        "        ix = indices[start: start + batchsize]\n",
        "        yield X[ix], y[ix]"
      ],
      "execution_count": 0,
      "outputs": []
    },
    {
      "metadata": {
        "id": "E6z_3dT3GXWJ",
        "colab_type": "text"
      },
      "cell_type": "markdown",
      "source": [
        "### Choose you optimiser"
      ]
    },
    {
      "metadata": {
        "id": "zOr4UI8uGXWL",
        "colab_type": "code",
        "colab": {}
      },
      "cell_type": "code",
      "source": [
        "opt = torch.optim.SGD(model.parameters(), lr=0.01)"
      ],
      "execution_count": 0,
      "outputs": []
    },
    {
      "metadata": {
        "id": "iCRa5DFAGXWQ",
        "colab_type": "text"
      },
      "cell_type": "markdown",
      "source": [
        "## And set up batch_size and number of epochs"
      ]
    },
    {
      "metadata": {
        "id": "rB_XDDUXGXWS",
        "colab_type": "code",
        "colab": {}
      },
      "cell_type": "code",
      "source": [
        "import time\n",
        "#from pandas import ewma\n",
        "from IPython import display\n",
        "\n",
        "num_epochs = 2 #amount of passes through the data\n",
        "batch_size = 1024 #number of samples processed at each function call\n",
        "auc_history = []\n",
        "\n",
        "number_of_chunks = 3 #number of initial data splits to process\n",
        "best_score = 0\n",
        "best_epoch = 0"
      ],
      "execution_count": 0,
      "outputs": []
    },
    {
      "metadata": {
        "id": "ztkDPzhqGXWY",
        "colab_type": "code",
        "outputId": "9009223c-11f1-47e7-a8a6-0627989c16ea",
        "colab": {
          "base_uri": "https://localhost:8080/",
          "height": 580
        }
      },
      "cell_type": "code",
      "source": [
        "for epoch in range(num_epochs):\n",
        "    # In each epoch, we do a full pass over the training data:\n",
        "    \n",
        "    train_err = train_acc = 0\n",
        "    train_batches = 0\n",
        "    start_time = time.time()\n",
        "    \n",
        "    for step in range(number_of_chunks):\n",
        "        X_train, y_train = np.load(\"X_train_{}.npy\".format(step)), np.load(\"y_train_{}.npy\".format(step))\n",
        "        train_batches += np.ceil(len(X_train) // batch_size)\n",
        "        # This is you have see already - traning loop\n",
        "        model.train(True) # enable dropout / batch_norm training behavior\n",
        "        for X_batch, y_batch in iterate_minibatches(X_train, y_train, batch_size, shuffle=True):\n",
        "            X_batch = torch.FloatTensor(X_batch).to(device)\n",
        "            y_batch = torch.FloatTensor(y_batch).to(device)\n",
        "\n",
        "            y_predicted = model(X_batch)\n",
        "            loss = torch.nn.functional.binary_cross_entropy(y_predicted, y_batch).mean()\n",
        "\n",
        "            loss.backward()\n",
        "            opt.step()\n",
        "            opt.zero_grad()\n",
        "\n",
        "            train_err += loss.data.cpu().numpy()\n",
        "            train_acc += torch.eq(torch.round(y_predicted), y_batch).data.cpu().numpy().mean()\n",
        "\n",
        "    # And a full pass over the validation data:\n",
        "    y_pred = []\n",
        "\n",
        "    model.train(False)\n",
        "    for X_batch, y_batch in iterate_minibatches(X_val, y_val, batch_size, shuffle=False):\n",
        "        X_batch = torch.FloatTensor(X_batch).to(device)\n",
        "        y_pred.extend(model(X_batch).data.cpu().numpy())\n",
        "\n",
        "    y_pred = np.asarray(y_pred)\n",
        "    # Save the metrics values   \n",
        "    val_acc = accuracy_score(y_val, y_pred > 0.5)\n",
        "    val_roc_auc = roc_auc_score(y_val, y_pred)\n",
        "    auc_history.append(val_roc_auc)\n",
        "\n",
        "\n",
        "    # Visualize\n",
        "    display.clear_output(wait=True)\n",
        "    plt.figure(figsize=(8, 6))\n",
        "    plt.title(\"Validation AUC\")\n",
        "    plt.xlabel(\"#iteration\")\n",
        "    plt.ylabel(\"AUC\")\n",
        "    plt.plot(auc_history, 'b',label='val auc')\n",
        "    plt.legend(loc='best')\n",
        "    plt.grid()\n",
        "    plt.show()\n",
        "\n",
        "    # Then we print the results for this epoch:\n",
        "    print(\"Epoch {} of {} took {:.3f}s\".format(\n",
        "        epoch + 1, num_epochs, time.time() - start_time))\n",
        "\n",
        "    print(\"  training loss (in-iteration):\\t\\t{:.6f}\".format(train_err / train_batches))\n",
        "    print(\"  train accuracy:\\t\\t{:.2f} %\".format(train_acc / train_batches * 100))\n",
        "    print(\"  validation accuracy:\\t\\t{:.2f} %\".format(val_acc * 100))\n",
        "    print(\"  validation roc_auc:\\t\\t{:.2f} %\".format(val_roc_auc * 100))\n",
        "    \n",
        "    \n",
        "    if auc_history[-1] > best_score:\n",
        "        best_score = auc_history[-1]\n",
        "        best_epoch = epoch\n",
        "        with open(os.path.join(DATA_PREFIX, \"nn_snapshots\", \"best.pt\"), 'wb') as f:\n",
        "            torch.save(model, f)    "
      ],
      "execution_count": 27,
      "outputs": [
        {
          "output_type": "display_data",
          "data": {
            "image/png": "[encoded data removed]",
            "text/plain": [
              "<Figure size 576x432 with 1 Axes>"
            ]
          },
          "metadata": {
            "tags": []
          }
        },
        {
          "output_type": "stream",
          "text": [
            "Epoch 8 of 8 took 47.009s\n",
            "  training loss (in-iteration):\t\t0.115772\n",
            "  train accuracy:\t\t98.09 %\n",
            "  validation accuracy:\t\t95.86 %\n",
            "  validation roc_auc:\t\t99.13 %\n"
          ],
          "name": "stdout"
        },
        {
          "output_type": "stream",
          "text": [
            "/usr/local/lib/python3.6/dist-packages/torch/serialization.py:250: UserWarning: Couldn't retrieve source code for container of type Flatten. It won't be checked for correctness upon loading.\n",
            "  \"type \" + obj.__name__ + \". It won't be checked \"\n"
          ],
          "name": "stderr"
        }
      ]
    },
    {
      "metadata": {
        "id": "rCNaPjLOGXWi",
        "colab_type": "text"
      },
      "cell_type": "markdown",
      "source": [
        "# Read test data, feed it to neural network, and save the output in kaggle fromat."
      ]
    },
    {
      "metadata": {
        "id": "TFRCSIl_yjOW",
        "colab_type": "code",
        "outputId": "dd62e4ac-43e5-4230-87d1-3cf94411bdd4",
        "colab": {
          "base_uri": "https://localhost:8080/",
          "height": 374
        }
      },
      "cell_type": "code",
      "source": [
        "chunk_size = 10000\n",
        "test = h5py.File(os.path.join(DATA_PREFIX, \"kaggle_test.h5\"), 'r')\n",
        "\n",
        "y_ans = []\n",
        "for index, step in enumerate(range(0, len(test['all_events']['histHCAL']), chunk_size)):\n",
        "    X, _ = read_data(test, False, step, step + chunk_size)\n",
        "    y_ans.extend(model(torch.FloatTensor(X).to(device)).detach().cpu().numpy())\n",
        "    del X\n",
        "    gc.collect()\n",
        "    print(\"Done:{}\".format(index))\n",
        "    \n",
        "y_ans = np.array(y_ans)    "
      ],
      "execution_count": 28,
      "outputs": [
        {
          "output_type": "stream",
          "text": [
            "Done:0\n",
            "Done:1\n",
            "Done:2\n",
            "Done:3\n",
            "Done:4\n",
            "Done:5\n",
            "Done:6\n",
            "Done:7\n",
            "Done:8\n",
            "Done:9\n",
            "Done:10\n",
            "Done:11\n",
            "Done:12\n",
            "Done:13\n"
          ],
          "name": "stdout"
        }
      ]
    },
    {
      "metadata": {
        "id": "GyvyG1VJGXWq",
        "colab_type": "text"
      },
      "cell_type": "markdown",
      "source": [
        "Saving you results to file."
      ]
    },
    {
      "metadata": {
        "id": "CoGjXmOYGXWr",
        "colab_type": "code",
        "colab": {}
      },
      "cell_type": "code",
      "source": [
        "import pandas as pd\n",
        "from IPython.display import FileLink\n",
        "\n",
        "def save_results(filename, y_ans):\n",
        "    answer_dataframe = pd.DataFrame(columns=[\"ID\", \"ans\"])\n",
        "    answer_dataframe['ID'] = range(0,len(y_ans))\n",
        "    answer_dataframe['ans'] = y_ans\n",
        "    answer_dataframe.to_csv(os.path.join(DATA_PREFIX, '{}'.format(filename)), index=False)\n",
        "    return FileLink(os.path.join(DATA_PREFIX, '{}'.format(filename)))"
      ],
      "execution_count": 0,
      "outputs": []
    },
    {
      "metadata": {
        "id": "G00EVpafGXWv",
        "colab_type": "code",
        "outputId": "76f1d02f-7225-4ce0-c5e9-9b918232b641",
        "colab": {
          "base_uri": "https://localhost:8080/",
          "height": 134
        }
      },
      "cell_type": "code",
      "source": [
        "save_results(\"baseline.csv\", y_ans)"
      ],
      "execution_count": 30,
      "outputs": [
        {
          "output_type": "execute_result",
          "data": {
            "text/html": [
              "<a href='/content/gdrive/My Drive/kaggle_2/baseline.csv' target='_blank'>/content/gdrive/My Drive/kaggle_2/baseline.csv</a><br>"
            ],
            "text/plain": [
              "/content/gdrive/My Drive/kaggle_2/baseline.csv"
            ]
          },
          "metadata": {
            "tags": []
          },
          "execution_count": 30
        }
      ]
    },
    {
      "metadata": {
        "id": "-INVt7xj6RRy",
        "colab_type": "code",
        "colab": {}
      },
      "cell_type": "code",
      "source": [
        "!kaggle competitions submit -c icl2019-jet -f \"{DATA_PATH}/baseline.csv\" -m \"Message\""
      ],
      "execution_count": 0,
      "outputs": []
    }
  ]
}