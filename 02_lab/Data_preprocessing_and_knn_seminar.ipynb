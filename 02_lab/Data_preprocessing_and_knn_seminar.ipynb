{
 "cells": [
  {
   "cell_type": "markdown",
   "metadata": {},
   "source": [
    "<a href=\"https://colab.research.google.com/github/yandexdataschool/MLatImperial2019/blob/master/02_lab/Data_preprocessing_and_knn_seminar.ipynb\" target=\"_parent\"><img src=\"https://colab.research.google.com/assets/colab-badge.svg\" alt=\"Open In Colab\"/></a>"
   ]
  },
  {
   "cell_type": "code",
   "execution_count": null,
   "metadata": {},
   "outputs": [],
   "source": [
    "import pandas as pd\n",
    "import numpy as np\n",
    "import scipy as sc\n",
    "from matplotlib import pyplot as plt\n",
    "\n",
    "%matplotlib inline\n",
    "\n",
    "#pd.set_option(\"display.max_rows\", 10)\n",
    "import matplotlib\n",
    "matplotlib.rcParams['figure.figsize'] = (12.0, 5.0)\n",
    "\n",
    "\n",
    "from sklearn.model_selection import cross_val_score"
   ]
  },
  {
   "cell_type": "markdown",
   "metadata": {},
   "source": [
    "## Metrics"
   ]
  },
  {
   "cell_type": "markdown",
   "metadata": {},
   "source": [
    "There are various different metric of how to measure you algorithm quality. In this exercise we will use ROC AUC. It is simply area under the curve(that is why AUC - area under curve). ROC if a plot of TPR - true positive rate vs FPR - false positive rate.\n",
    "\n",
    "Here is example in sklearn [click](https://scikit-learn.org/stable/auto_examples/model_selection/plot_roc_crossval.html#sphx-glr-auto-examples-model-selection-plot-roc-crossval-py)"
   ]
  },
  {
   "cell_type": "markdown",
   "metadata": {},
   "source": [
    "# Data"
   ]
  },
  {
   "cell_type": "code",
   "execution_count": null,
   "metadata": {},
   "outputs": [],
   "source": [
    "data = pd.read_csv('data.adult.csv')\n",
    "data.shape"
   ]
  },
  {
   "cell_type": "code",
   "execution_count": null,
   "metadata": {},
   "outputs": [],
   "source": [
    "data.head(5)"
   ]
  },
  {
   "cell_type": "markdown",
   "metadata": {},
   "source": [
    "### Task 1\n",
    "- Find all features, that have missing values. Missing values have value \"?\" in this dataset.\n",
    "  Hint: What are the types of different columns in this set?\n",
    "- Select target variable(salary), delete it from dataset and convert in to binary format.\n",
    "- Select real valued features"
   ]
  },
  {
   "cell_type": "code",
   "execution_count": null,
   "metadata": {},
   "outputs": [],
   "source": [
    "<YOUR CODE>"
   ]
  },
  {
   "cell_type": "markdown",
   "metadata": {},
   "source": [
    "## Now, we are going to train Knn Classifier"
   ]
  },
  {
   "cell_type": "markdown",
   "metadata": {},
   "source": [
    "Remember, that KNN is a metric based algorithm. It caclulates distance in the given space. It then just assign label as a vote of its neighbours. Modifications with different distance weightning can also be used."
   ]
  },
  {
   "cell_type": "code",
   "execution_count": null,
   "metadata": {},
   "outputs": [],
   "source": [
    "from sklearn.neighbors import KNeighborsClassifier\n",
    "from sklearn.model_selection import GridSearchCV"
   ]
  },
  {
   "cell_type": "code",
   "execution_count": null,
   "metadata": {},
   "outputs": [],
   "source": [
    "def plotting(X, Y, Error, model=\"KNN\"):\n",
    "    plt.figure(figsize=[12,5])\n",
    "    plt.title(\"ROC_AUC score:\" + model)\n",
    "    plt.xlabel('param_value')\n",
    "    plt.ylabel('ROC_AUC score')\n",
    "    plt.plot(X, Y,'bo-', color='b', ms = 5, label = \"ROC_AUC score\")\n",
    "    plt.fill_between(X, Y - 1.96*Error, Y + 1.96*Error, facecolor = 'g', alpha = 0.6, label = \"95% confidence interval\")\n",
    "    plt.legend()\n",
    "    plt.grid()\n",
    "    plt.show()"
   ]
  },
  {
   "cell_type": "markdown",
   "metadata": {},
   "source": [
    "Your task is to do CrossValidation using GridSearchCV(see the import above) to find optimal value of neighbours.\n",
    "Use the defined above function **plotting**, where X will be your grid searched value of number of neigbbours,\n",
    "y is your test score and error is standard deviation. All this info can be extracted from instance of GridSearchCV class, once fitted."
   ]
  },
  {
   "cell_type": "code",
   "execution_count": null,
   "metadata": {},
   "outputs": [],
   "source": [
    "<YOUR CODE>"
   ]
  },
  {
   "cell_type": "markdown",
   "metadata": {},
   "source": [
    "What do you think? Where is the problem of such bad results?"
   ]
  },
  {
   "cell_type": "markdown",
   "metadata": {},
   "source": [
    "#### Plot histograms for age, fnlwgt, capital-gain. What do you observe?"
   ]
  },
  {
   "cell_type": "code",
   "execution_count": null,
   "metadata": {},
   "outputs": [],
   "source": [
    "<YOUR CODE>"
   ]
  },
  {
   "cell_type": "markdown",
   "metadata": {},
   "source": [
    "We now scale the data, using inbuild Standard Scaler, which standartised features - makes zero mean and unit variance. "
   ]
  },
  {
   "cell_type": "code",
   "execution_count": null,
   "metadata": {},
   "outputs": [],
   "source": [
    "from sklearn.preprocessing import StandardScaler\n",
    "num_data_scaled = StandardScaler().fit_transform(num_data)"
   ]
  },
  {
   "cell_type": "code",
   "execution_count": null,
   "metadata": {},
   "outputs": [],
   "source": [
    "<YOUR CODE>"
   ]
  },
  {
   "cell_type": "markdown",
   "metadata": {},
   "source": [
    "## Remember we had categorical features? Lets try to use them, for the same best n_neighbours we have found. Before we need to encode them - create one-hot encoded representation."
   ]
  },
  {
   "cell_type": "code",
   "execution_count": null,
   "metadata": {},
   "outputs": [],
   "source": [
    "one_hot_data = pd.get_dummies(str_data)\n",
    "print (one_hot_data.shape)\n",
    "one_hot_data.head(5)"
   ]
  },
  {
   "cell_type": "code",
   "execution_count": null,
   "metadata": {},
   "outputs": [],
   "source": [
    "from sklearn.preprocessing import StandardScaler\n",
    "merged_data = one_hot_data.join(num_data)\n",
    "merged_data.iloc[:, -6:] = StandardScaler().fit_transform(merged_data.iloc[:, -6:])\n",
    "merged_data.head(3)"
   ]
  },
  {
   "cell_type": "code",
   "execution_count": null,
   "metadata": {},
   "outputs": [],
   "source": [
    "from sklearn.model_selection import cross_val_score\n",
    "\n",
    "knn = KNeighborsClassifier(n_neighbors=52, metric='minkowski', n_jobs=-1)\n",
    "\n",
    "print(\"Result:{}\".format(np.mean(cross_val_score(knn, merged_data, y_train, scoring='roc_auc', n_jobs=-1, cv=5))))"
   ]
  },
  {
   "cell_type": "code",
   "execution_count": null,
   "metadata": {},
   "outputs": [],
   "source": [
    "%%html\n",
    "<img src=http://dogr.io/wow/suchresult/sooneenhot.png width=\"300\">"
   ]
  },
  {
   "cell_type": "markdown",
   "metadata": {},
   "source": [
    "# Bonus quest "
   ]
  },
  {
   "cell_type": "markdown",
   "metadata": {},
   "source": [
    "Try different parameters of KNN such as weights or metric."
   ]
  },
  {
   "cell_type": "code",
   "execution_count": null,
   "metadata": {},
   "outputs": [],
   "source": []
  }
 ],
 "metadata": {
  "kernelspec": {
   "display_name": "Python 3",
   "language": "python",
   "name": "python3"
  },
  "language_info": {
   "codemirror_mode": {
    "name": "ipython",
    "version": 3
   },
   "file_extension": ".py",
   "mimetype": "text/x-python",
   "name": "python",
   "nbconvert_exporter": "python",
   "pygments_lexer": "ipython3",
   "version": "3.5.2"
  }
 },
 "nbformat": 4,
 "nbformat_minor": 2
}
