{
  "nbformat": 4,
  "nbformat_minor": 0,
  "metadata": {
    "colab": {
      "name": "00_python.ipynb",
      "version": "0.3.2",
      "provenance": [],
      "collapsed_sections": [],
      "toc_visible": true
    },
    "kernelspec": {
      "name": "python3",
      "display_name": "Python 3"
    }
  },
  "cells": [
    {
      "metadata": {
        "id": "view-in-github",
        "colab_type": "text"
      },
      "cell_type": "markdown",
      "source": [
        "<a href=\"https://colab.research.google.com/github/yandexdataschool/MLatImperial2019/blob/master/00_prerequisites/00_python.ipynb\" target=\"_parent\"><img src=\"https://colab.research.google.com/assets/colab-badge.svg\" alt=\"Open In Colab\"/></a>"
      ]
    },
    {
      "metadata": {
        "id": "eT9ibnNJLRCR",
        "colab_type": "text"
      },
      "cell_type": "markdown",
      "source": [
        "#Introduction to Python"
      ]
    },
    {
      "metadata": {
        "id": "6Bb087OfM8a0",
        "colab_type": "text"
      },
      "cell_type": "markdown",
      "source": [
        "## What is Python?"
      ]
    },
    {
      "metadata": {
        "id": "04R3hE_rMIfN",
        "colab_type": "text"
      },
      "cell_type": "markdown",
      "source": [
        "[Python](https://python.org) is a modern, general-purpose, object-oriented, high-level programming language.\n",
        "\n",
        "General characteristics of Python:\n",
        "\n",
        "*   **clean and simple language:** Easy-to-read and intuitive code, easy-to-learn minimalistic syntax, maintainability scales well with size of projects\n",
        "*   **expressive language:** Fewer lines of code, fewer bugs, easier to maintain\n",
        "\n",
        "\n",
        "Technical details:\n",
        "\n",
        "*    **dynamically typed:** No need to define the type of variables, function arguments or return types\n",
        "*   **automatic memory management:** No need to explicitly allocate and deallocate memory for variables and data arrays. No memory leak bugs\n",
        "*  **interpreted:** No need to compile the code. The python interpreter reads and executes the python code directly\n",
        "\n",
        "\n",
        "Advantages:\n",
        "\n",
        "* The main advantage is ease of programming, minimizing the time required to develop, debug and maintain the code\n",
        "* Well designed language that encourage many good programming practices:\n",
        " *  Modular and object-oriented programming, good system for packaging and re-use of code. This often results in more transparent, maintainable and bug-free code\n",
        " * Documentation tightly integrated with the code\n",
        "* A large standard library, and a large collection of add-on packages\n",
        "\n",
        "\n",
        "Disadvantages:\n",
        "\n",
        "*    Since Python is an interpreted and dynamically typed programming language, the execution of python code **can be slow** compared to compiled statically typed programming languages, such as C and Fortran (see Bonus part at the end of this seminar)\n",
        "*    Somewhat **decentralized**, with different environment, packages and documentation spread out at different places. Can make it harder to get started"
      ]
    },
    {
      "metadata": {
        "id": "wY0vyIdvPSmH",
        "colab_type": "text"
      },
      "cell_type": "markdown",
      "source": [
        "## Jupyter notebooks in a nutshell"
      ]
    },
    {
      "metadata": {
        "id": "zRafx8bdM5Oq",
        "colab_type": "text"
      },
      "cell_type": "markdown",
      "source": [
        "* Jupyter notebook is an HTML-based notebook environment for Python\n",
        "* You are reading this text in a jupyter notebook.\n",
        "* A notebook consists of cells. A cell can contain either code or hypertext. \n",
        "    * This cell contains hypertext. The next cell contains code.\n",
        "* You can __run a cell__ with code by selecting it (click) and pressing `Ctrl + Enter` to execute the code and display output(if any).\n",
        "* If you're running this on a device with no keyboard, ~~you are doing it wrong~~ use the \"Play\" button that appears on the left side of a code cell once you select it/hover the mouse over it.\n",
        "* Behind the curtains, there's a python interpreter that runs that code and remembers anything you defined.\n",
        "\n",
        "*Note: we're assuming you are using Google Colab to run this tutorial. If not, some particular keyboard shortcuts/details on the user interface may differ.*"
      ]
    },
    {
      "metadata": {
        "id": "ATzuX0arQhnb",
        "colab_type": "text"
      },
      "cell_type": "markdown",
      "source": [
        "Please, run the code cell below to ensure your python version is 3:"
      ]
    },
    {
      "metadata": {
        "id": "U8KiLYohLQKy",
        "colab_type": "code",
        "colab": {}
      },
      "cell_type": "code",
      "source": [
        "import sys\n",
        "print(sys.version_info)\n",
        "message = \"The major version of python you are using is not 3\"\n",
        "assert sys.version_info.major == 3, message"
      ],
      "execution_count": 0,
      "outputs": []
    },
    {
      "metadata": {
        "id": "Z4WwPfi0RheE",
        "colab_type": "text"
      },
      "cell_type": "markdown",
      "source": [
        "In case you see the following error:\n",
        "\n",
        "```\n",
        "AssertionError: The major version of python you are using is not 3\n",
        "```\n",
        "\n",
        "you are running this in a python 2 environment. You can change your environment through `Edit->Notebook settings` menu item.\n"
      ]
    },
    {
      "metadata": {
        "id": "4pNRGgxv3ABa",
        "colab_type": "text"
      },
      "cell_type": "markdown",
      "source": [
        "## Python basics"
      ]
    },
    {
      "metadata": {
        "id": "_H8HstR39gRm",
        "colab_type": "text"
      },
      "cell_type": "markdown",
      "source": [
        "### Basic types and operations"
      ]
    },
    {
      "metadata": {
        "id": "1Nlg4jJyl7ag",
        "colab_type": "text"
      },
      "cell_type": "markdown",
      "source": [
        "Now, let's start with defining some variables of basic types:"
      ]
    },
    {
      "metadata": {
        "id": "a4bOzlpl-UCk",
        "colab_type": "code",
        "colab": {}
      },
      "cell_type": "code",
      "source": [
        "# Anything after a '#' is a comment\n",
        "\n",
        "# integers:\n",
        "a1 = 1 # Define an integer variable named 'a1' of value 1\n",
        "a2 = -42\n",
        "\n",
        "# floats:\n",
        "b = 1.0\n",
        "c = .5\n",
        "d = 8.\n",
        "e = 1.2e3\n",
        "\n",
        "print(a1, a2)\n",
        "print(b)\n",
        "print(c)\n",
        "print(d)\n",
        "print(e)"
      ],
      "execution_count": 0,
      "outputs": []
    },
    {
      "metadata": {
        "id": "pEscnUhk-T1a",
        "colab_type": "code",
        "colab": {}
      },
      "cell_type": "code",
      "source": [
        "# complex numbers:\n",
        "c1 = 2 + 3j\n",
        "c2 = 1/1j\n",
        "print(c1)\n",
        "print(c2)"
      ],
      "execution_count": 0,
      "outputs": []
    },
    {
      "metadata": {
        "id": "G8aupHIm-Too",
        "colab_type": "code",
        "colab": {}
      },
      "cell_type": "code",
      "source": [
        "# strings\n",
        "f1 = 'Hello!'\n",
        "f2 = \"Hi\"\n",
        "g = \"\"\"Hi there!\n",
        "I'm a multiline string!\"\"\"\n",
        "h = 'foo' 'bar'\n",
        "i = '\"'\"'\"'\"'\"'\"\"'\"'\"'\"'\"'\"'\n",
        "\n",
        "print(f1, f2)\n",
        "print(g)\n",
        "print(h)\n",
        "print(i)"
      ],
      "execution_count": 0,
      "outputs": []
    },
    {
      "metadata": {
        "id": "n5M1ZaJgQWGJ",
        "colab_type": "code",
        "colab": {}
      },
      "cell_type": "code",
      "source": [
        "# booleans\n",
        "j = True\n",
        "k = False\n",
        "l = j == k\n",
        "\n",
        "print(j, k, l)"
      ],
      "execution_count": 0,
      "outputs": []
    },
    {
      "metadata": {
        "id": "S5Sg3FEynV-d",
        "colab_type": "code",
        "colab": {}
      },
      "cell_type": "code",
      "source": [
        "# In case you want to check variable type:\n",
        "print(type(a1))\n",
        "print(type(e))"
      ],
      "execution_count": 0,
      "outputs": []
    },
    {
      "metadata": {
        "id": "FUdV_HZn8U67",
        "colab_type": "code",
        "colab": {}
      },
      "cell_type": "code",
      "source": [
        "# YOUR CODE HERE\n",
        "#  - print out the type of other variables we've defined above\n",
        "#  - print out the type of 'print' function\n",
        "#  - print out the type of 'type' function"
      ],
      "execution_count": 0,
      "outputs": []
    },
    {
      "metadata": {
        "id": "v4g9Jol3nnVk",
        "colab_type": "code",
        "colab": {}
      },
      "cell_type": "code",
      "source": [
        "# Operations:\n",
        "print(2 + 2)\n",
        "print(2 - 2)\n",
        "print(2 * 2)\n",
        "print(1 / 2) # note that python is smart enough to convert integer to float here\n",
        "print(7 // 3) # floor division\n",
        "print(2019 % 100) # remainder of division\n",
        "print(2**4) # exponentiation\n",
        "\n",
        "\n",
        "a = 1\n",
        "b = 2\n",
        "# Some string operations and formatting:\n",
        "print(\"Hello \" + \"world!\")\n",
        "print(\"%i + %i = %i\" % (a, b, a + b))\n",
        "print(\"{} + {} = {}\".format(a, b, a + b))\n",
        "print(\"{var_a} + {var_b} = {a_plus_b_result}\".format(\n",
        "    a_plus_b_result=a+b, var_a=a, var_b=b))\n",
        "print(\"1 + 2 = %.4f\" % (1 + 2))\n",
        "print(\"1 + 2 = {:.4f}\".format(1 + 2))\n"
      ],
      "execution_count": 0,
      "outputs": []
    },
    {
      "metadata": {
        "id": "FuUDOWzF3tJA",
        "colab_type": "text"
      },
      "cell_type": "markdown",
      "source": [
        "Note that after a cell execution the value of the last expression will be printed out, so you don't always have to use the `print` function:"
      ]
    },
    {
      "metadata": {
        "id": "BA8Cjjf3n9at",
        "colab_type": "code",
        "colab": {}
      },
      "cell_type": "code",
      "source": [
        "a = 1\n",
        "b = 2\n",
        "a + b"
      ],
      "execution_count": 0,
      "outputs": []
    },
    {
      "metadata": {
        "id": "MKP-eUtY4QNp",
        "colab_type": "text"
      },
      "cell_type": "markdown",
      "source": [
        "Unless you finish a line with a semicolon:"
      ]
    },
    {
      "metadata": {
        "id": "RTvObVSS4PVU",
        "colab_type": "code",
        "colab": {}
      },
      "cell_type": "code",
      "source": [
        "a + b;"
      ],
      "execution_count": 0,
      "outputs": []
    },
    {
      "metadata": {
        "id": "_XbtNJNo4kls",
        "colab_type": "text"
      },
      "cell_type": "markdown",
      "source": [
        "We've defined a number of variables so far. Here's how you can list all of them (+ some internals of python):"
      ]
    },
    {
      "metadata": {
        "id": "nRVS4csJ4jJN",
        "colab_type": "code",
        "colab": {}
      },
      "cell_type": "code",
      "source": [
        "dir()"
      ],
      "execution_count": 0,
      "outputs": []
    },
    {
      "metadata": {
        "id": "v0aNEFQY5f8t",
        "colab_type": "text"
      },
      "cell_type": "markdown",
      "source": [
        "In general, one-letter variable names is a bad practice. It's preferable to give your variables meaningful names.\n",
        "\n",
        "Let's get rid of all the variables we've defined by restarting the runtime. You can do this by clicking the `Runtime->Restart runtime...` menu item.\n",
        "\n",
        "Now `dir()` should have gotten rid of these variables:"
      ]
    },
    {
      "metadata": {
        "id": "kS5VvAoN6JVL",
        "colab_type": "code",
        "colab": {}
      },
      "cell_type": "code",
      "source": [
        "dir()"
      ],
      "execution_count": 0,
      "outputs": []
    },
    {
      "metadata": {
        "id": "NsvDiBuY5Gtt",
        "colab_type": "text"
      },
      "cell_type": "markdown",
      "source": [
        "Note: **Be careful with your variable names!** Python allows you to use the built-in function names for your variables, which can mess things up:"
      ]
    },
    {
      "metadata": {
        "id": "cFa4gcsu6q88",
        "colab_type": "code",
        "colab": {}
      },
      "cell_type": "code",
      "source": [
        "print = False\n",
        "print"
      ],
      "execution_count": 0,
      "outputs": []
    },
    {
      "metadata": {
        "id": "OD2vKRLB7hlN",
        "colab_type": "text"
      },
      "cell_type": "markdown",
      "source": [
        "At this point you can't use the `print` function for output:"
      ]
    },
    {
      "metadata": {
        "id": "bxwMGoZX6wJV",
        "colab_type": "code",
        "colab": {}
      },
      "cell_type": "code",
      "source": [
        "print(10)"
      ],
      "execution_count": 0,
      "outputs": []
    },
    {
      "metadata": {
        "id": "EO4sArU37q8x",
        "colab_type": "text"
      },
      "cell_type": "markdown",
      "source": [
        "One way of fixing this is to reset the runtime as we did before. Another way is to use the `del` statement:"
      ]
    },
    {
      "metadata": {
        "id": "EdkDrH1F7nwS",
        "colab_type": "code",
        "colab": {}
      },
      "cell_type": "code",
      "source": [
        "del print\n",
        "print(10)"
      ],
      "execution_count": 0,
      "outputs": []
    },
    {
      "metadata": {
        "id": "zEwxe19U_Ihq",
        "colab_type": "text"
      },
      "cell_type": "markdown",
      "source": [
        "### Composite types"
      ]
    },
    {
      "metadata": {
        "id": "00Wdm1BEAGSa",
        "colab_type": "text"
      },
      "cell_type": "markdown",
      "source": [
        "We'll start with lists - they represent arrays of objects:"
      ]
    },
    {
      "metadata": {
        "id": "QF4pb46M8Fr9",
        "colab_type": "code",
        "colab": {}
      },
      "cell_type": "code",
      "source": [
        "array1 = [1, 2, -3, 'hello', 4e5, 8j, False]\n",
        "print(array1)\n",
        "print(type(array1))"
      ],
      "execution_count": 0,
      "outputs": []
    },
    {
      "metadata": {
        "id": "A7vGe8lDANd3",
        "colab_type": "text"
      },
      "cell_type": "markdown",
      "source": [
        "Addition means concatenation for lists:"
      ]
    },
    {
      "metadata": {
        "id": "LInAFaHm_zld",
        "colab_type": "code",
        "colab": {}
      },
      "cell_type": "code",
      "source": [
        "print(array1 + array1)"
      ],
      "execution_count": 0,
      "outputs": []
    },
    {
      "metadata": {
        "id": "ZZsLKJhKAQgm",
        "colab_type": "text"
      },
      "cell_type": "markdown",
      "source": [
        "Another way of adding elements to a list (inplace) is by using the `append` method:"
      ]
    },
    {
      "metadata": {
        "id": "zz8V3id3_98u",
        "colab_type": "code",
        "colab": {}
      },
      "cell_type": "code",
      "source": [
        "array1.append('world')\n",
        "array1"
      ],
      "execution_count": 0,
      "outputs": []
    },
    {
      "metadata": {
        "id": "Avjrs7C0AdWo",
        "colab_type": "text"
      },
      "cell_type": "markdown",
      "source": [
        "Lists can contain other lists:"
      ]
    },
    {
      "metadata": {
        "id": "eM5_GSw0Ab7J",
        "colab_type": "code",
        "colab": {}
      },
      "cell_type": "code",
      "source": [
        "array2 = [[True, False], ['Hello'], 42]\n",
        "array2"
      ],
      "execution_count": 0,
      "outputs": []
    },
    {
      "metadata": {
        "id": "6eX11ZlxBDV4",
        "colab_type": "text"
      },
      "cell_type": "markdown",
      "source": [
        "or even be recursive:"
      ]
    },
    {
      "metadata": {
        "id": "or2i50-QBC0L",
        "colab_type": "code",
        "colab": {}
      },
      "cell_type": "code",
      "source": [
        "array2.append(array2)\n",
        "array2"
      ],
      "execution_count": 0,
      "outputs": []
    },
    {
      "metadata": {
        "id": "PM0ukvotBLfE",
        "colab_type": "text"
      },
      "cell_type": "markdown",
      "source": [
        "Here's how you can index lists (indexing starts with 0):"
      ]
    },
    {
      "metadata": {
        "id": "nFI445r_BBh1",
        "colab_type": "code",
        "colab": {}
      },
      "cell_type": "code",
      "source": [
        "print(array1[0]) # first item\n",
        "print(array1[-1]) # last item\n",
        "print(array1[-2]) # one before last"
      ],
      "execution_count": 0,
      "outputs": []
    },
    {
      "metadata": {
        "id": "-Q9kn_sOC55y",
        "colab_type": "text"
      },
      "cell_type": "markdown",
      "source": [
        "You can also slice lists:"
      ]
    },
    {
      "metadata": {
        "id": "nWi3Ce3SC2xZ",
        "colab_type": "code",
        "colab": {}
      },
      "cell_type": "code",
      "source": [
        "print(array1[1:6:2]) # most general form - every 2nd element from 1 to 6\n",
        "print(array1[2::3]) # elements from 2 to the end with step 3\n",
        "print(array1[::2]) # every 2nd element starting from 0\n",
        "print(array1[::-1]) # all list in reverse order\n",
        "print(array1[2:5]) # elements from 2 to 5 (not including 5)\n",
        "print(array1[-2:]) # last two elements of the list"
      ],
      "execution_count": 0,
      "outputs": []
    },
    {
      "metadata": {
        "id": "1vJVR34SD4Ux",
        "colab_type": "text"
      },
      "cell_type": "markdown",
      "source": [
        "A very similar type is called \"tuple\". Similarly to lists, tuples are arrays of objects. The major difference is that they are **immutable**."
      ]
    },
    {
      "metadata": {
        "id": "nony88Y4CsoI",
        "colab_type": "code",
        "colab": {}
      },
      "cell_type": "code",
      "source": [
        "tuple1 = (1, 2, 'foo')\n",
        "tuple2 = tuple(array2) # You can initialize tuples with lists and vice versa\n",
        "print(tuple1)\n",
        "print(tuple2)"
      ],
      "execution_count": 0,
      "outputs": []
    },
    {
      "metadata": {
        "id": "4wgK4O_QEwpv",
        "colab_type": "text"
      },
      "cell_type": "markdown",
      "source": [
        "Note that inner lists from `array2` are stored as lists within the `tuple2`, so they are mutable:"
      ]
    },
    {
      "metadata": {
        "id": "vShUqu8SEc_7",
        "colab_type": "code",
        "colab": {}
      },
      "cell_type": "code",
      "source": [
        "tuple2[0].append(8)\n",
        "print(tuple2)"
      ],
      "execution_count": 0,
      "outputs": []
    },
    {
      "metadata": {
        "id": "h_BsFBKRFTYE",
        "colab_type": "text"
      },
      "cell_type": "markdown",
      "source": [
        "Also note, that the first item in `array2` has changed as well:"
      ]
    },
    {
      "metadata": {
        "id": "Va_HqVsmFIjX",
        "colab_type": "code",
        "colab": {}
      },
      "cell_type": "code",
      "source": [
        "array2"
      ],
      "execution_count": 0,
      "outputs": []
    },
    {
      "metadata": {
        "id": "LVnOMmgQFkqm",
        "colab_type": "text"
      },
      "cell_type": "markdown",
      "source": [
        "This illustrates a very important feature of python: all objects are stored by reference. Since `tuple2` was initialized from `array2`, they both reference the same object instances."
      ]
    },
    {
      "metadata": {
        "id": "4TtM9brjGQAR",
        "colab_type": "text"
      },
      "cell_type": "markdown",
      "source": [
        "You can check whether two variables are referencing the same object with `is` operator:"
      ]
    },
    {
      "metadata": {
        "id": "9mbgGuc0Fbgh",
        "colab_type": "code",
        "colab": {}
      },
      "cell_type": "code",
      "source": [
        "print(array2[-1] is array2)\n",
        "print(tuple2[0] is array2[0])"
      ],
      "execution_count": 0,
      "outputs": []
    },
    {
      "metadata": {
        "id": "lwGbXShSHUAo",
        "colab_type": "text"
      },
      "cell_type": "markdown",
      "source": [
        "Two empty tuples created with `tuple()` expression will reference the same object:"
      ]
    },
    {
      "metadata": {
        "id": "QOQ71ETcHmpX",
        "colab_type": "code",
        "colab": {}
      },
      "cell_type": "code",
      "source": [
        "tuple() is tuple()"
      ],
      "execution_count": 0,
      "outputs": []
    },
    {
      "metadata": {
        "id": "GeTA_nFSHqOI",
        "colab_type": "text"
      },
      "cell_type": "markdown",
      "source": [
        "while two empty lists won't, since lists are mutable (and the two empty list instances may be changed in a different way):"
      ]
    },
    {
      "metadata": {
        "id": "s1TzcRMwHofA",
        "colab_type": "code",
        "colab": {}
      },
      "cell_type": "code",
      "source": [
        "list() is list()"
      ],
      "execution_count": 0,
      "outputs": []
    },
    {
      "metadata": {
        "id": "D_71MZB0NiOP",
        "colab_type": "text"
      },
      "cell_type": "markdown",
      "source": [
        "Another important type is dictionary. Dictionaries are key->value mappings with a restriction that keys can only be immutable objects.\n",
        "\n",
        "Several ways to create and fill a dictionary:"
      ]
    },
    {
      "metadata": {
        "id": "v6WfRilNHuWR",
        "colab_type": "code",
        "colab": {}
      },
      "cell_type": "code",
      "source": [
        "dict1 = {\"foo\" : 'bar', -3 : False}\n",
        "dict2 = dict(foo='bar', hello='world')\n",
        "\n",
        "print(dict1)\n",
        "print(dict2)"
      ],
      "execution_count": 0,
      "outputs": []
    },
    {
      "metadata": {
        "id": "2SELmRyoOe3_",
        "colab_type": "text"
      },
      "cell_type": "markdown",
      "source": [
        "Accessing elements:"
      ]
    },
    {
      "metadata": {
        "id": "Nmmm2ErNObj7",
        "colab_type": "code",
        "colab": {}
      },
      "cell_type": "code",
      "source": [
        "print(dict1[-3])\n",
        "print(dict2['foo'])\n",
        "\n",
        "dict2['new_key'] = 'new_value'\n",
        "print(dict2)"
      ],
      "execution_count": 0,
      "outputs": []
    },
    {
      "metadata": {
        "id": "EVScmD0WOx7Y",
        "colab_type": "text"
      },
      "cell_type": "markdown",
      "source": [
        "### Loops, conditionals, functions"
      ]
    },
    {
      "metadata": {
        "id": "tFQEd2ylO-8A",
        "colab_type": "text"
      },
      "cell_type": "markdown",
      "source": [
        "A loop over elements of a list:"
      ]
    },
    {
      "metadata": {
        "id": "_yO1tD-mOt5V",
        "colab_type": "code",
        "colab": {}
      },
      "cell_type": "code",
      "source": [
        "objects = [1, 2, 'hello', False]\n",
        "\n",
        "for obj in objects:\n",
        "  print(obj)\n",
        "  # Note that the body of the loop is indented."
      ],
      "execution_count": 0,
      "outputs": []
    },
    {
      "metadata": {
        "id": "8qd7noUBPfiY",
        "colab_type": "text"
      },
      "cell_type": "markdown",
      "source": [
        "Use the `range` function to iterate over spcified range of numbers:"
      ]
    },
    {
      "metadata": {
        "id": "dmCu-COkPVJ5",
        "colab_type": "code",
        "colab": {}
      },
      "cell_type": "code",
      "source": [
        "for i in range(5):\n",
        "  print(i)"
      ],
      "execution_count": 0,
      "outputs": []
    },
    {
      "metadata": {
        "id": "-XwmCqJRQEZB",
        "colab_type": "text"
      },
      "cell_type": "markdown",
      "source": [
        "N.B.: `range` has more arguments. Place the cursor right after the opening bracket and hit **TAB** to see help:"
      ]
    },
    {
      "metadata": {
        "id": "jsnZXCXWQDDl",
        "colab_type": "code",
        "colab": {}
      },
      "cell_type": "code",
      "source": [
        "for i in range(# <--- press TAB\n",
        "# YOUR CODE HERE:\n",
        "# print all the numbers: 20, 23, 26... up to 60"
      ],
      "execution_count": 0,
      "outputs": []
    },
    {
      "metadata": {
        "id": "ZikK4DnZQqqW",
        "colab_type": "text"
      },
      "cell_type": "markdown",
      "source": [
        "Conditions:"
      ]
    },
    {
      "metadata": {
        "id": "mpk_kkcIQqQf",
        "colab_type": "code",
        "colab": {}
      },
      "cell_type": "code",
      "source": [
        "for i in range(100):\n",
        "  if i % 7 == 1 and i % 5 == 3:\n",
        "    print(\"i % 7 == 1 and i % 5 == 3:\", i)\n",
        "  if not (i > 3) or i > 98:\n",
        "    print(\"not (i > 3) or i > 98:\", i)"
      ],
      "execution_count": 0,
      "outputs": []
    },
    {
      "metadata": {
        "id": "zOolnUZeOMdc",
        "colab_type": "code",
        "colab": {}
      },
      "cell_type": "code",
      "source": [
        "array1 = [3, 15, 27, 42]\n",
        "array2 = []\n",
        "\n",
        "for i in range(30):\n",
        "  if i in array1:\n",
        "    array2.append(i**2)\n",
        "\n",
        "print(array2)"
      ],
      "execution_count": 0,
      "outputs": []
    },
    {
      "metadata": {
        "id": "8NITSV_CO0-S",
        "colab_type": "text"
      },
      "cell_type": "markdown",
      "source": [
        "Functions:"
      ]
    },
    {
      "metadata": {
        "id": "Xn5yZ3ZNOt7R",
        "colab_type": "code",
        "colab": {}
      },
      "cell_type": "code",
      "source": [
        "# definition:\n",
        "def some_function(argument1, argument2):\n",
        "  print(argument1 + argument2)\n",
        "\n",
        "# calls:\n",
        "some_function(3, 8)\n",
        "some_function(['foo'], ['bar'])"
      ],
      "execution_count": 0,
      "outputs": []
    },
    {
      "metadata": {
        "id": "0mofkWp6PVTu",
        "colab_type": "text"
      },
      "cell_type": "markdown",
      "source": [
        "Arguments with default values:"
      ]
    },
    {
      "metadata": {
        "id": "mm4QBW3DPJlO",
        "colab_type": "code",
        "colab": {}
      },
      "cell_type": "code",
      "source": [
        "def some_function(argument1, argument2=42):\n",
        "  print(\"{} ----- {}\".format(argument1, argument2))\n",
        "\n",
        "some_function(18)\n",
        "some_function(18, 19)\n",
        "some_function(argument2=19, argument1=18)\n",
        "\n",
        "some_function(some_function)\n"
      ],
      "execution_count": 0,
      "outputs": []
    },
    {
      "metadata": {
        "id": "fzt2uWp9bdKL",
        "colab_type": "text"
      },
      "cell_type": "markdown",
      "source": [
        "Function returning a value:"
      ]
    },
    {
      "metadata": {
        "id": "uWBhj7B3bbvN",
        "colab_type": "code",
        "colab": {}
      },
      "cell_type": "code",
      "source": [
        "def square(x):\n",
        "  return x**2\n",
        "\n",
        "for i in range(4):\n",
        "  print(square(i))"
      ],
      "execution_count": 0,
      "outputs": []
    },
    {
      "metadata": {
        "id": "AQVipi_9SDBR",
        "colab_type": "text"
      },
      "cell_type": "markdown",
      "source": [
        "## Tasks"
      ]
    },
    {
      "metadata": {
        "id": "oB-AV1muSlVP",
        "colab_type": "text"
      },
      "cell_type": "markdown",
      "source": [
        "### Task 1"
      ]
    },
    {
      "metadata": {
        "id": "a57M3R8qQpTr",
        "colab_type": "text"
      },
      "cell_type": "markdown",
      "source": [
        "Now you should be equipped well enough to solve this famous job interview problem:\n",
        "\n",
        "\n",
        "\n",
        "> Write a function called `FooBar` that takes input integer `n` and for all the numbers from 1 upto `n` prints in a new line:\n",
        "*   \"Foo\", if the number is divisible by 3;\n",
        "*   \"Bar\", if the number is divisible by 5;\n",
        "*   \"FooBar\", if the number is divisible by both 3 and 5;\n",
        "*   the number itself otherwise.\n",
        "\n",
        "> For example FooBar(15) should print as follows: \n",
        "```1 \n",
        "2 \n",
        "Foo \n",
        "4 \n",
        "Bar \n",
        "Foo \n",
        "7 \n",
        "8 \n",
        "Foo \n",
        "Bar \n",
        "11 \n",
        "Foo \n",
        "13 \n",
        "14 \n",
        "FooBar\n",
        "```\n",
        "\n",
        "\n",
        "\n",
        "\n",
        "\n"
      ]
    },
    {
      "metadata": {
        "id": "_zd8CQzEPwKk",
        "colab_type": "code",
        "colab": {}
      },
      "cell_type": "code",
      "source": [
        "# Your code here"
      ],
      "execution_count": 0,
      "outputs": []
    },
    {
      "metadata": {
        "id": "BjLyprScauk5",
        "colab_type": "text"
      },
      "cell_type": "markdown",
      "source": [
        "### Task 2"
      ]
    },
    {
      "metadata": {
        "id": "NTxZz0UhcHQk",
        "colab_type": "text"
      },
      "cell_type": "markdown",
      "source": [
        "Write a function calculating the factorial of an integer number.\n",
        "\n",
        "*Hint: use recursion.*"
      ]
    },
    {
      "metadata": {
        "id": "IhXkCdvDcdaH",
        "colab_type": "code",
        "colab": {}
      },
      "cell_type": "code",
      "source": [
        "# Your code here"
      ],
      "execution_count": 0,
      "outputs": []
    },
    {
      "metadata": {
        "id": "cZ3xv_5Mcfyc",
        "colab_type": "text"
      },
      "cell_type": "markdown",
      "source": [
        "### Task 3"
      ]
    },
    {
      "metadata": {
        "id": "3pw6Zh7CaxM6",
        "colab_type": "text"
      },
      "cell_type": "markdown",
      "source": [
        "Write a function that takes two numbers `m` and `n`, and a list `array`,  appends `m` to `array` `n` times, and returns the result."
      ]
    },
    {
      "metadata": {
        "id": "YAYd3skXawL7",
        "colab_type": "code",
        "colab": {}
      },
      "cell_type": "code",
      "source": [
        "# Your code here"
      ],
      "execution_count": 0,
      "outputs": []
    },
    {
      "metadata": {
        "id": "cwi1tAOSejh9",
        "colab_type": "text"
      },
      "cell_type": "markdown",
      "source": [
        "Modify the function you wrote such that the `array` argument is optional (the function should append to an empty list in case array is not provided).\n",
        "\n",
        "*Hint: make sure the result is correct when you make several subsequent calls without providing the `array` argument.*"
      ]
    },
    {
      "metadata": {
        "id": "GE6Yh7sCex_Y",
        "colab_type": "code",
        "colab": {}
      },
      "cell_type": "code",
      "source": [
        "# Your code here"
      ],
      "execution_count": 0,
      "outputs": []
    }
  ]
}
