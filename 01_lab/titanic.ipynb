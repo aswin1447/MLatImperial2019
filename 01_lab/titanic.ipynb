{
 "cells": [
  {
   "cell_type": "markdown",
   "metadata": {
    "colab_type": "text",
    "id": "view-in-github"
   },
   "source": [
    "<a href=\"https://colab.research.google.com/github/yandexdataschool/MLatImperial2019/blob/master/01_lab/titanic.ipynb\" target=\"_parent\"><img src=\"https://colab.research.google.com/assets/colab-badge.svg\" alt=\"Open In Colab\"/></a>"
   ]
  },
  {
   "cell_type": "markdown",
   "metadata": {
    "colab_type": "text",
    "id": "Aw1cuRi7hhzz"
   },
   "source": [
    "# Titanic: Machine Learning from Disaster"
   ]
  },
  {
   "cell_type": "markdown",
   "metadata": {
    "colab_type": "text",
    "id": "w3muhqoaJXVL"
   },
   "source": [
    "![\"Untergang der Titanic\", as conceived by Willy Stöwer, 1912](https://upload.wikimedia.org/wikipedia/commons/6/6e/St%C3%B6wer_Titanic.jpg)\n",
    "\n",
    "This notebook's gonna teach you to use the basic data science stack for python: jupyter, numpy, matplotlib and sklearn."
   ]
  },
  {
   "cell_type": "markdown",
   "metadata": {
    "colab_type": "text",
    "id": "I_J_iM9Hjwc3"
   },
   "source": [
    "## Part I: Jupyter notebooks recap"
   ]
  },
  {
   "cell_type": "markdown",
   "metadata": {
    "colab_type": "text",
    "id": "De2BsSxGJXVV"
   },
   "source": [
    "**The most important feature** of jupyter notebooks for this course: \n",
    "* if you're typing something, press `Tab` to see automatic suggestions, use arrow keys + enter to pick one.\n",
    "* if you move your cursor inside some function and press `Tab`, you'll get a help window."
   ]
  },
  {
   "cell_type": "code",
   "execution_count": 0,
   "metadata": {
    "colab": {},
    "colab_type": "code",
    "id": "5oQdc9MIJXVW"
   },
   "outputs": [],
   "source": [
    "# run this first\n",
    "import math"
   ]
  },
  {
   "cell_type": "code",
   "execution_count": 0,
   "metadata": {
    "colab": {},
    "colab_type": "code",
    "id": "4FZxJodmJXVZ"
   },
   "outputs": [],
   "source": [
    "# Place your cursor at the end of the unfinished line below and press tab to\n",
    "# find a function that computes arctangent from two parameters (should\n",
    "# have 2 in it's name).\n",
    "# Once you chose it, put an opening bracket character and press tab to\n",
    "# see the docs.\n",
    "\n",
    "math.a  # <---"
   ]
  },
  {
   "cell_type": "markdown",
   "metadata": {
    "colab_type": "text",
    "id": "iD6NjAugj_3y"
   },
   "source": [
    "## Part II: Loading data with Pandas"
   ]
  },
  {
   "cell_type": "markdown",
   "metadata": {
    "colab_type": "text",
    "id": "K0OYaO-6JXVb"
   },
   "source": [
    "Pandas is a library that helps you load the data, prepare it and perform some lightweight analysis. The god object here is the `pandas.DataFrame` - a 2d table with batteries included. \n",
    "\n",
    "In the cell below we use it to read the data on the infamous titanic shipwreck.\n",
    "\n",
    "__please keep running all the code cells as you read__"
   ]
  },
  {
   "cell_type": "code",
   "execution_count": 0,
   "metadata": {
    "colab": {},
    "colab_type": "code",
    "id": "rMpClKdKzasG"
   },
   "outputs": [],
   "source": [
    "!wget https://github.com/yandexdataschool/MLatImperial2019/raw/master/01_lab/train.csv"
   ]
  },
  {
   "cell_type": "code",
   "execution_count": 0,
   "metadata": {
    "colab": {},
    "colab_type": "code",
    "id": "G36oVo3RJXVc"
   },
   "outputs": [],
   "source": [
    "import pandas as pd\n",
    "data = pd.read_csv(\"train.csv\", index_col='PassengerId') # this yields a pandas.DataFrame"
   ]
  },
  {
   "cell_type": "code",
   "execution_count": 0,
   "metadata": {
    "colab": {},
    "colab_type": "code",
    "id": "gEvLO4nvJXVf"
   },
   "outputs": [],
   "source": [
    "# Selecting rows\n",
    "head = data[:10]\n",
    "\n",
    "head  #if you leave an expression at the end of a cell, jupyter will \"display\" it automatically"
   ]
  },
  {
   "cell_type": "markdown",
   "metadata": {
    "colab_type": "text",
    "id": "EDHw3sHgJXVj"
   },
   "source": [
    "#### About the data\n",
    "Here's some of the columns\n",
    "* Name - a string with person's full name\n",
    "* Survived - 1 if a person survived the shipwreck, 0 otherwise.\n",
    "* Pclass - passenger class. Pclass == 3 is cheap'n'cheerful, Pclass == 1 is for moneybags.\n",
    "* Sex - a person's gender\n",
    "* Age - age in years, if available\n",
    "* Sibsp - number of siblings on a ship\n",
    "* Parch - number of parents on a ship\n",
    "* Fare - ticket cost\n",
    "* Embarked - port where the passenger embarked\n",
    " * C = Cherbourg; Q = Queenstown; S = Southampton"
   ]
  },
  {
   "cell_type": "code",
   "execution_count": 0,
   "metadata": {
    "colab": {},
    "colab_type": "code",
    "id": "PWmRBFP6JXVl"
   },
   "outputs": [],
   "source": [
    "# table dimensions\n",
    "print(\"len(data) = \", len(data))\n",
    "print(\"data.shape = \", data.shape)"
   ]
  },
  {
   "cell_type": "code",
   "execution_count": 0,
   "metadata": {
    "colab": {},
    "colab_type": "code",
    "id": "dt6itIHBJXVn"
   },
   "outputs": [],
   "source": [
    "# select a single row\n",
    "print(data.loc[4])"
   ]
  },
  {
   "cell_type": "code",
   "execution_count": 0,
   "metadata": {
    "colab": {},
    "colab_type": "code",
    "id": "wdpiKMr7JXVq"
   },
   "outputs": [],
   "source": [
    "# select a single column.\n",
    "ages = data[\"Age\"]\n",
    "print(ages[:10])  # alternatively: data.Age"
   ]
  },
  {
   "cell_type": "code",
   "execution_count": 0,
   "metadata": {
    "colab": {},
    "colab_type": "code",
    "id": "-ao3OhDtJXVu"
   },
   "outputs": [],
   "source": [
    "# select several columns and rows at once\n",
    "data.loc[5:10, (\"Fare\", \"Pclass\")]    # alternatively: data[[\"Fare\",\"Pclass\"]].loc[5:10]"
   ]
  },
  {
   "cell_type": "markdown",
   "metadata": {
    "colab_type": "text",
    "id": "h7jqzyjLp9qe"
   },
   "source": [
    "### `loc` vs `iloc`"
   ]
  },
  {
   "cell_type": "markdown",
   "metadata": {
    "colab_type": "text",
    "id": "qR-MSiiiqDB4"
   },
   "source": [
    "There are two ways of indexing the rows in pandas:\n",
    " *   by index column values (`PassengerId` in our case) – use `data.loc` for that\n",
    " *   by positional index - use `data.iloc` for that"
   ]
  },
  {
   "cell_type": "markdown",
   "metadata": {
    "colab_type": "text",
    "id": "uXCOFn0Fqr1M"
   },
   "source": [
    "Note that index column starts from 1, so positional index 0 will correspond to index column value 1, positional 1 to index column value 2, and so on:"
   ]
  },
  {
   "cell_type": "code",
   "execution_count": 0,
   "metadata": {
    "colab": {},
    "colab_type": "code",
    "id": "PWD9vfcIqjAH"
   },
   "outputs": [],
   "source": [
    "print(data.index)\n",
    "print('------')\n",
    "print(\"data.iloc[0]:\")\n",
    "print(data.iloc[0])\n",
    "print('------')\n",
    "print(\"data.loc[1]:\")\n",
    "print(data.loc[1])"
   ]
  },
  {
   "cell_type": "markdown",
   "metadata": {
    "colab_type": "text",
    "id": "ln3hUck0JXVx"
   },
   "source": [
    "### Your turn:\n"
   ]
  },
  {
   "cell_type": "code",
   "execution_count": 0,
   "metadata": {
    "colab": {},
    "colab_type": "code",
    "id": "r0surSILJXVy"
   },
   "outputs": [],
   "source": [
    "# select passengers number 13 and 666 - did they survive?\n",
    "\n",
    "<YOUR CODE>"
   ]
  },
  {
   "cell_type": "code",
   "execution_count": 0,
   "metadata": {
    "colab": {},
    "colab_type": "code",
    "id": "WfL_YYOVJXV3"
   },
   "outputs": [],
   "source": [
    "# compute the overall survival rate (what fraction of passengers survived the shipwreck)\n",
    "\n",
    "<YOUR CODE>"
   ]
  },
  {
   "cell_type": "markdown",
   "metadata": {
    "colab_type": "text",
    "id": "NaDF00ADJXV7"
   },
   "source": [
    "```\n",
    "\n",
    "```\n",
    "\n",
    "```\n",
    "\n",
    "```\n",
    "\n",
    "```\n",
    "\n",
    "```\n",
    "\n",
    "```\n",
    "\n",
    "```\n",
    "\n",
    "```\n",
    "\n",
    "```\n",
    "\n",
    "```\n",
    "\n",
    "```\n",
    "\n",
    "```\n",
    "\n",
    "```\n",
    "\n"
   ]
  },
  {
   "cell_type": "markdown",
   "metadata": {
    "colab_type": "text",
    "id": "dZAezJgDJXV8"
   },
   "source": [
    "Pandas also has some basic data analysis tools. For one, you can quickly display statistical aggregates for each column using `.describe()`"
   ]
  },
  {
   "cell_type": "code",
   "execution_count": 0,
   "metadata": {
    "colab": {},
    "colab_type": "code",
    "id": "yHtn-GlbJXV8"
   },
   "outputs": [],
   "source": [
    "data.describe()"
   ]
  },
  {
   "cell_type": "markdown",
   "metadata": {
    "colab_type": "text",
    "id": "hp-OG6bOJXWA"
   },
   "source": [
    "Some columns contain __NaN__ values - this means that there is no data there. For example, passenger `#5` has unknown age. To simplify the future data analysis, we'll replace NaN values by using pandas `fillna` function.\n",
    "\n",
    "_Note: we do this so easily because it's a tutorial. In general, you think twice before you modify data like this._"
   ]
  },
  {
   "cell_type": "code",
   "execution_count": 0,
   "metadata": {
    "colab": {},
    "colab_type": "code",
    "id": "h62nzR9vJXWB"
   },
   "outputs": [],
   "source": [
    "data.iloc[5]"
   ]
  },
  {
   "cell_type": "code",
   "execution_count": 0,
   "metadata": {
    "colab": {},
    "colab_type": "code",
    "id": "EHEegWTOJXWK"
   },
   "outputs": [],
   "source": [
    "data['Age'] = data['Age'].fillna(value=data['Age'].mean())\n",
    "data['Fare'] = data['Fare'].fillna(value=data['Fare'].mean())"
   ]
  },
  {
   "cell_type": "code",
   "execution_count": 0,
   "metadata": {
    "colab": {},
    "colab_type": "code",
    "id": "jSIS7m9RJXWO"
   },
   "outputs": [],
   "source": [
    "data.iloc[5]"
   ]
  },
  {
   "cell_type": "markdown",
   "metadata": {
    "colab_type": "text",
    "id": "ASsnUCRMJXWS"
   },
   "source": [
    "More pandas: \n",
    "* A neat [tutorial](http://pandas.pydata.org/) from pydata\n",
    "* Official [tutorials](https://pandas.pydata.org/pandas-docs/stable/tutorials.html), including this [10 minutes to pandas](https://pandas.pydata.org/pandas-docs/stable/10min.html#min)\n",
    "* Bunch of cheat sheets awaits just one google query away from you (e.g. [basics](http://blog.yhat.com/static/img/datacamp-cheat.png), [combining datasets](https://pbs.twimg.com/media/C65MaMpVwAA3v0A.jpg) and so on). "
   ]
  },
  {
   "cell_type": "markdown",
   "metadata": {
    "colab_type": "text",
    "id": "-cY1PEyznRYw"
   },
   "source": [
    "## Part III: Numpy and vectorized computing"
   ]
  },
  {
   "cell_type": "markdown",
   "metadata": {
    "colab_type": "text",
    "id": "4luG6vWXJXWU"
   },
   "source": [
    "Almost any machine learning model requires some computational heavy lifting usually involving linear algebra problems. Unfortunately, raw python is terrible at this because each operation is interpreted at runtime. \n",
    "\n",
    "So instead, we'll use `numpy` - a library that lets you run blazing fast computation with vectors, matrices and other tensors. Again, the god oject here is `numpy.ndarray`:"
   ]
  },
  {
   "cell_type": "code",
   "execution_count": 0,
   "metadata": {
    "colab": {},
    "colab_type": "code",
    "id": "gcTokNL-JXWV"
   },
   "outputs": [],
   "source": [
    "import numpy as np\n",
    "\n",
    "a = np.array([1,2,3,4,5])\n",
    "b = np.array([5,4,3,2,1])\n",
    "print(\"a = \", a)\n",
    "print(\"b = \", b)\n",
    "\n",
    "# math and boolean operations can applied to each element of an array\n",
    "print(\"a + 1 =\", a + 1)\n",
    "print(\"a * 2 =\", a * 2)\n",
    "print(\"a == 2\", a == 2)\n",
    "# ... or corresponding elements of two (or more) arrays\n",
    "print(\"a + b =\", a + b)\n",
    "print(\"a * b =\", a * b)"
   ]
  },
  {
   "cell_type": "code",
   "execution_count": 0,
   "metadata": {
    "colab": {},
    "colab_type": "code",
    "id": "40slF_H1JXWY"
   },
   "outputs": [],
   "source": [
    "# Your turn: compute half-products of a and b elements (halves of products)\n",
    "<YOUR CODE>"
   ]
  },
  {
   "cell_type": "code",
   "execution_count": 0,
   "metadata": {
    "colab": {},
    "colab_type": "code",
    "id": "EnNXgtaaJXWa"
   },
   "outputs": [],
   "source": [
    "# compute elementwise quotient between squared a and (b plus 1)\n",
    "<YOUR CODE>"
   ]
  },
  {
   "cell_type": "markdown",
   "metadata": {
    "colab_type": "text",
    "id": "KSkrSyKTnJBp"
   },
   "source": [
    "```\n",
    "\n",
    "```\n",
    "\n",
    "```\n",
    "\n",
    "```\n",
    "\n",
    "```\n",
    "\n",
    "```\n",
    "\n",
    "```\n",
    "\n",
    "```\n",
    "\n",
    "```\n",
    "\n",
    "```"
   ]
  },
  {
   "cell_type": "markdown",
   "metadata": {
    "colab_type": "text",
    "id": "uHV6HlQgoL-r"
   },
   "source": [
    "There's a number of functions to create arrays of zeros, ones, ascending/descending numbers etc.:"
   ]
  },
  {
   "cell_type": "code",
   "execution_count": 0,
   "metadata": {
    "colab": {},
    "colab_type": "code",
    "id": "dCqkfcCWoi1I"
   },
   "outputs": [],
   "source": [
    "np.zeros(shape=(3, 4))"
   ]
  },
  {
   "cell_type": "code",
   "execution_count": 0,
   "metadata": {
    "colab": {},
    "colab_type": "code",
    "id": "NAee3VdtorX8"
   },
   "outputs": [],
   "source": [
    "np.ones(shape=(2, 5), dtype=np.bool)"
   ]
  },
  {
   "cell_type": "code",
   "execution_count": 0,
   "metadata": {
    "colab": {},
    "colab_type": "code",
    "id": "ymW4lMqpozFn"
   },
   "outputs": [],
   "source": [
    "np.arange(3, 15, 2) # start, stop, step"
   ]
  },
  {
   "cell_type": "code",
   "execution_count": 0,
   "metadata": {
    "colab": {},
    "colab_type": "code",
    "id": "KQi-FGqto_ty"
   },
   "outputs": [],
   "source": [
    "np.linspace(0, 10, 11) # divide [0, 10] interval into 11 points"
   ]
  },
  {
   "cell_type": "code",
   "execution_count": 0,
   "metadata": {
    "colab": {},
    "colab_type": "code",
    "id": "7d7MlvuqpJ0S"
   },
   "outputs": [],
   "source": [
    "np.logspace(1, 10, 10, base=2, dtype=np.int64)"
   ]
  },
  {
   "cell_type": "markdown",
   "metadata": {
    "colab_type": "text",
    "id": "C4hb3shSpdBf"
   },
   "source": [
    "You can easily reshape arrays:"
   ]
  },
  {
   "cell_type": "code",
   "execution_count": 0,
   "metadata": {
    "colab": {},
    "colab_type": "code",
    "id": "83xNeecTphm4"
   },
   "outputs": [],
   "source": [
    "np.arange(24).reshape(2, 3, 4)"
   ]
  },
  {
   "cell_type": "markdown",
   "metadata": {
    "colab_type": "text",
    "id": "F_evgKCtpzpk"
   },
   "source": [
    "or add dimensions of size 1:"
   ]
  },
  {
   "cell_type": "code",
   "execution_count": 0,
   "metadata": {
    "colab": {},
    "colab_type": "code",
    "id": "It_JTbIiqCTH"
   },
   "outputs": [],
   "source": [
    "print(np.arange(3)[:, np.newaxis])\n",
    "print('---')\n",
    "print(np.arange(3)[np.newaxis, :])"
   ]
  },
  {
   "cell_type": "markdown",
   "metadata": {
    "colab_type": "text",
    "id": "4eE5Uq8GqO75"
   },
   "source": [
    "Such dimensions are automatically broadcast when doing mathematical operations:"
   ]
  },
  {
   "cell_type": "code",
   "execution_count": 0,
   "metadata": {
    "colab": {},
    "colab_type": "code",
    "id": "VmO2UtjtqcEU"
   },
   "outputs": [],
   "source": [
    "np.arange(3)[:, np.newaxis] + np.arange(3)[np.newaxis, :]"
   ]
  },
  {
   "cell_type": "markdown",
   "metadata": {
    "colab_type": "text",
    "id": "pfmFlVopqzId"
   },
   "source": [
    "There is also a number of ways to stack arrays together:"
   ]
  },
  {
   "cell_type": "code",
   "execution_count": 0,
   "metadata": {
    "colab": {},
    "colab_type": "code",
    "id": "WzfKzymGq3wX"
   },
   "outputs": [],
   "source": [
    "matrix1 = np.arange(50).reshape(10, 5)\n",
    "matrix2 = -np.arange(20).reshape(10, 2)\n",
    "\n",
    "np.concatenate([matrix1, matrix2], axis=1)"
   ]
  },
  {
   "cell_type": "code",
   "execution_count": 0,
   "metadata": {
    "colab": {},
    "colab_type": "code",
    "id": "EqJnzNehrYYP"
   },
   "outputs": [],
   "source": [
    "np.stack([matrix1[:,0], matrix2[:,0]], axis=1)"
   ]
  },
  {
   "cell_type": "markdown",
   "metadata": {
    "colab_type": "text",
    "id": "MulZJhPBr6ie"
   },
   "source": [
    "Any matrix can be transposed easily:"
   ]
  },
  {
   "cell_type": "code",
   "execution_count": 0,
   "metadata": {
    "colab": {},
    "colab_type": "code",
    "id": "KIeOCQ-wr_Q6"
   },
   "outputs": [],
   "source": [
    "matrix2.T"
   ]
  },
  {
   "cell_type": "code",
   "execution_count": 0,
   "metadata": {
    "colab": {},
    "colab_type": "code",
    "id": "WnajGvSrsP-t"
   },
   "outputs": [],
   "source": [
    "# Your turn: make a (7 x 5) matrix with e_ij = i\n",
    "# (i - row number, j - column number)\n",
    "\n",
    "<YOUR CODE>"
   ]
  },
  {
   "cell_type": "markdown",
   "metadata": {
    "colab_type": "text",
    "id": "56X724n8nNK9"
   },
   "source": [
    "### How fast is it, harry?"
   ]
  },
  {
   "cell_type": "markdown",
   "metadata": {
    "colab_type": "text",
    "id": "J7ugCw1wJXWc"
   },
   "source": [
    "![img](https://img.buzzfeed.com/buzzfeed-static/static/2015-11/6/7/enhanced/webdr10/enhanced-buzz-22847-1446811476-0.jpg)\n",
    "\n",
    "Let's compare computation time for python and numpy\n",
    "* Two arrays of 10^6 elements\n",
    " * first - from 0 to 1 000 000\n",
    " * second - from 99 to 1 000 099\n",
    " \n",
    "* Computing:\n",
    " * elemwise sum\n",
    " * elemwise product\n",
    " * square root of first array\n",
    " * sum of all elements in the first array\n",
    " "
   ]
  },
  {
   "cell_type": "code",
   "execution_count": 0,
   "metadata": {
    "colab": {},
    "colab_type": "code",
    "id": "hkaH4AkUJXWd"
   },
   "outputs": [],
   "source": [
    "%%time \n",
    "# ^-- this \"magic\" measures and prints cell computation time\n",
    "\n",
    "# Option I: pure python\n",
    "arr_1 = range(1000000)\n",
    "arr_2 = range(99,1000099)\n",
    "\n",
    "\n",
    "a_sum = []\n",
    "a_prod = []\n",
    "sqrt_a1 = []\n",
    "for i in range(len(arr_1)):\n",
    "    a_sum.append(arr_1[i]+arr_2[i])\n",
    "    a_prod.append(arr_1[i]*arr_2[i])\n",
    "    a_sum.append(arr_1[i]**0.5)\n",
    "    \n",
    "arr_1_sum = sum(arr_1)\n"
   ]
  },
  {
   "cell_type": "code",
   "execution_count": 0,
   "metadata": {
    "colab": {},
    "colab_type": "code",
    "id": "BasUnM6uJXWf"
   },
   "outputs": [],
   "source": [
    "%%time\n",
    "\n",
    "# Option II: start from python, convert to numpy\n",
    "arr_1 = range(1000000)\n",
    "arr_2 = range(99,1000099)\n",
    "\n",
    "arr_1, arr_2 = np.array(arr_1) , np.array(arr_2)\n",
    "\n",
    "\n",
    "a_sum = arr_1 + arr_2\n",
    "a_prod = arr_1 * arr_2\n",
    "sqrt_a1 = arr_1 ** .5\n",
    "arr_1_sum = arr_1.sum()\n"
   ]
  },
  {
   "cell_type": "code",
   "execution_count": 0,
   "metadata": {
    "colab": {},
    "colab_type": "code",
    "id": "whU6BvJ6JXWi"
   },
   "outputs": [],
   "source": [
    "%%time\n",
    "\n",
    "# Option III: pure numpy\n",
    "arr_1 = np.arange(1000000)\n",
    "arr_2 = np.arange(99,1000099)\n",
    "\n",
    "a_sum = arr_1 + arr_2\n",
    "a_prod = arr_1 * arr_2\n",
    "sqrt_a1 = arr_1 ** .5\n",
    "arr_1_sum = arr_1.sum()\n"
   ]
  },
  {
   "cell_type": "markdown",
   "metadata": {
    "colab_type": "text",
    "id": "7Jc5_Z5wJXWl"
   },
   "source": [
    "If you want more serious benchmarks, take a look at [this](http://brilliantlywrong.blogspot.ru/2015/01/benchmarks-of-speed-numpy-vs-all.html)."
   ]
  },
  {
   "cell_type": "markdown",
   "metadata": {
    "colab_type": "text",
    "id": "H2cYqf_UJXWm"
   },
   "source": [
    "```\n",
    "\n",
    "```\n",
    "\n",
    "```\n",
    "\n",
    "```\n",
    "\n",
    "```\n",
    "\n",
    "```\n",
    "\n",
    "```\n",
    "\n",
    "```\n",
    "\n",
    "```\n",
    "\n",
    "```\n",
    "\n",
    "```\n",
    "\n",
    "```\n",
    "\n",
    "```\n",
    "\n",
    "```"
   ]
  },
  {
   "cell_type": "markdown",
   "metadata": {
    "colab_type": "text",
    "id": "OPtaPKy3uI6A"
   },
   "source": [
    "### Other numpy functions and features"
   ]
  },
  {
   "cell_type": "markdown",
   "metadata": {
    "colab_type": "text",
    "id": "S-8KaYRmuM4m"
   },
   "source": [
    "There's also a bunch of pre-implemented operations including logarithms, trigonometry, vector/matrix products and aggregations."
   ]
  },
  {
   "cell_type": "code",
   "execution_count": 0,
   "metadata": {
    "colab": {},
    "colab_type": "code",
    "id": "RklGSklbJXWn"
   },
   "outputs": [],
   "source": [
    "a = np.array([1,2,3,4,5])\n",
    "b = np.array([5,4,3,2,1])\n",
    "print(\"numpy.sum(a) = \", np.sum(a))\n",
    "print(\"numpy.mean(a) = \", np.mean(a))\n",
    "print(\"numpy.min(a) = \",  np.min(a))\n",
    "print(\"numpy.argmin(b) = \", np.argmin(b))  # index of minimal element\n",
    "print(\"numpy.dot(a,b) = \", np.dot(a, b))      # dot product. Also used for matrix/tensor multiplication\n",
    "print(\"numpy.unique(['male','male','female','female','male']) = \", np.unique(['male','male','female','female','male']))\n",
    "\n",
    "# and tons of other stuff. see http://bit.ly/2u5q430 ."
   ]
  },
  {
   "cell_type": "markdown",
   "metadata": {
    "colab_type": "text",
    "id": "Wk8fA8HBJXWs"
   },
   "source": [
    "The important part: all this functionality works with dataframes, as you can get their numpy representation with `.values` (most numpy functions will even work on pure pandas objects):"
   ]
  },
  {
   "cell_type": "code",
   "execution_count": 0,
   "metadata": {
    "colab": {},
    "colab_type": "code",
    "id": "uE53osRgJXWs"
   },
   "outputs": [],
   "source": [
    "# calling np.max on a pure pandas column:\n",
    "print(\"Max ticket price: \", np.max(data[\"Fare\"]))\n",
    "\n",
    "# calling np.argmax on a numpy representation of a pandas column\n",
    "# to get its positional index:\n",
    "print(\"\\nThe guy who paid the most:\\n\", data.iloc[np.argmax(data[\"Fare\"].values)])"
   ]
  },
  {
   "cell_type": "code",
   "execution_count": 0,
   "metadata": {
    "colab": {},
    "colab_type": "code",
    "id": "p7O68NpyJXWw"
   },
   "outputs": [],
   "source": [
    "# your code: compute mean passenger age and the oldest guy on the ship\n",
    "<YOUR CODE>"
   ]
  },
  {
   "cell_type": "code",
   "execution_count": 0,
   "metadata": {
    "colab": {},
    "colab_type": "code",
    "id": "Jkq07GT5JXW0"
   },
   "outputs": [],
   "source": [
    "print(\"Boolean operations\")\n",
    "\n",
    "print('a = ', a)\n",
    "print('b = ', b)\n",
    "print(\"a > 2\", a > 2)\n",
    "print(\"numpy.logical_not(a>2) = \", np.logical_not(a>2))\n",
    "print(\"numpy.logical_and(a>2,b>2) = \", np.logical_and(a > 2,b > 2))\n",
    "print(\"numpy.logical_or(a>2,b<3) = \", np.logical_or(a > 2, b < 3))\n",
    "\n",
    "print(\"\\n shortcuts\")\n",
    "print(\"~(a > 2) = \", ~(a > 2))                    #logical_not(a > 2)\n",
    "print(\"(a > 2) & (b > 2) = \", (a > 2) & (b > 2))  #logical_and\n",
    "print(\"(a > 2) | (b < 3) = \", (a > 2) | (b < 3))  #logical_or"
   ]
  },
  {
   "cell_type": "markdown",
   "metadata": {
    "colab_type": "text",
    "id": "VBkDTTOLJXW3"
   },
   "source": [
    "Another numpy feature we'll need is indexing: selecting elements from an array. \n",
    "Aside from python indexes and slices (e.g. a[1:4]), numpy also allows you to select several elements at once."
   ]
  },
  {
   "cell_type": "code",
   "execution_count": 0,
   "metadata": {
    "colab": {},
    "colab_type": "code",
    "id": "MhXHB6fgJXW4"
   },
   "outputs": [],
   "source": [
    "a = np.array([0, 1, 4, 9, 16, 25])\n",
    "ix = np.array([1,2,5])\n",
    "print(\"a = \", a)\n",
    "print(\"Select by element index\")\n",
    "print(\"a[[1,2,5]] = \", a[ix])\n",
    "\n",
    "print(\"\\nSelect by boolean mask\")\n",
    "print(\"a[a > 5] = \", a[a > 5])     # select all elements in a that are greater than 5\n",
    "print(\"(a % 2 == 0) =\", a % 2 == 0) # True for even, False for odd\n",
    "print(\"a[a % 2 == 0] =\", a[a % 2 == 0]) # select all elements in a that are even\n",
    "\n",
    "\n",
    "print(\"data[(data['Age'] < 18) & (data['Sex'] == 'male')] = (below)\") # select male children\n",
    "data[(data['Age'] < 18) & (data['Sex'] == 'male')]"
   ]
  },
  {
   "cell_type": "markdown",
   "metadata": {
    "colab_type": "text",
    "id": "T_xqJK6UJXW6"
   },
   "source": [
    "### Your turn\n",
    "\n",
    "Use numpy and pandas to answer a few questions about data"
   ]
  },
  {
   "cell_type": "code",
   "execution_count": 0,
   "metadata": {
    "colab": {},
    "colab_type": "code",
    "id": "h6eXINxLJXW6"
   },
   "outputs": [],
   "source": [
    "# who on average paid more for their ticket, men or women?\n",
    "\n",
    "mean_fare_men = <YOUR CODE>\n",
    "mean_fare_women = <YOUR CODE>\n",
    "\n",
    "print(mean_fare_men, mean_fare_women)"
   ]
  },
  {
   "cell_type": "code",
   "execution_count": 0,
   "metadata": {
    "colab": {},
    "colab_type": "code",
    "id": "EyDEaifrJXW8"
   },
   "outputs": [],
   "source": [
    "# who is more likely to survive: a child (<18 yo) or an adult?\n",
    "\n",
    "child_survival_rate = <YOUR CODE>\n",
    "adult_survival_rate = <YOUR CODE>\n",
    "\n",
    "print(child_survival_rate, adult_survival_rate)"
   ]
  },
  {
   "cell_type": "markdown",
   "metadata": {
    "colab_type": "text",
    "id": "yt0lgtQox2e1"
   },
   "source": [
    "## Part IV: plots and matplotlib"
   ]
  },
  {
   "cell_type": "markdown",
   "metadata": {
    "colab_type": "text",
    "id": "Odx24QWTJXW-"
   },
   "source": [
    "Using python to visualize the data is covered by yet another library: `matplotlib`.\n",
    "\n",
    "Just like python itself, matplotlib has an awesome tendency of keeping simple things simple while still allowing you to write complicated stuff with convenience (e.g. super-detailed plots or custom animations)."
   ]
  },
  {
   "cell_type": "code",
   "execution_count": 0,
   "metadata": {
    "colab": {},
    "colab_type": "code",
    "id": "7QxD0DoLJXW-",
    "scrolled": true
   },
   "outputs": [],
   "source": [
    "import matplotlib.pyplot as plt\n",
    "%matplotlib inline  \n",
    "# ^-- this \"magic\" selects specific matplotlib backend suitable for\n",
    "# jupyter notebooks. For more info see:\n",
    "# https://ipython.readthedocs.io/en/stable/interactive/plotting.html#id1\n",
    "\n",
    "# line plot\n",
    "plt.plot([0,1,2,3,4,5],[0,1,4,9,16,25]);"
   ]
  },
  {
   "cell_type": "code",
   "execution_count": 0,
   "metadata": {
    "colab": {},
    "colab_type": "code",
    "id": "huybuiQkJXXB"
   },
   "outputs": [],
   "source": [
    "#scatter-plot\n",
    "x = np.arange(5)\n",
    "print(\"x =\", x)\n",
    "print(\"x**2 =\", x**2)\n",
    "print(\"plotting x**2 vs x:\")\n",
    "plt.scatter(x, x**2)\n",
    "\n",
    "plt.show()  # show the first plot and begin drawing next one\n",
    "plt.plot(x, x**2);"
   ]
  },
  {
   "cell_type": "code",
   "execution_count": 0,
   "metadata": {
    "colab": {},
    "colab_type": "code",
    "id": "Q4Bj57P_JXXF"
   },
   "outputs": [],
   "source": [
    "# draw a scatter plot with custom markers and colors\n",
    "plt.scatter([1, 1, 2, 3, 4, 4.5], [3, 2, 2, 5, 15, 24],\n",
    "            c=[\"red\", \"blue\", \"orange\", \"green\", \"cyan\", \"gray\"],\n",
    "            marker=\"x\")\n",
    "\n",
    "# without plt.show(), several plots will be drawn on top of one another\n",
    "plt.plot([0, 1, 2, 3, 4, 5], [0, 1, 4, 9, 16, 25], c=\"black\")\n",
    "\n",
    "# adding more sugar\n",
    "plt.title(\"Conspiracy theory proven!!!\")\n",
    "plt.xlabel(\"Per capita alcohol consumption\")\n",
    "plt.ylabel(\"# Layers in state of the art image classifier\");\n",
    "\n",
    "# fun with correlations: http://bit.ly/1FcNnWF"
   ]
  },
  {
   "cell_type": "code",
   "execution_count": 0,
   "metadata": {
    "colab": {},
    "colab_type": "code",
    "id": "fz5WDA4YJXXI"
   },
   "outputs": [],
   "source": [
    "# histogram - showing data density\n",
    "plt.hist([0,1,1,1,2,2,3,3,3,3,3,4,4,5,5,5,6,7,7,8,9,10])\n",
    "plt.show()\n",
    "\n",
    "plt.hist([0,1,1,1,2,2,3,3,3,3,3,4,4,5,5,5,6,7,7,8,9,10], bins=5);"
   ]
  },
  {
   "cell_type": "code",
   "execution_count": 0,
   "metadata": {
    "colab": {},
    "colab_type": "code",
    "id": "XmapamrGJXXM"
   },
   "outputs": [],
   "source": [
    "# plot a histogram of age and a histogram of ticket fares on separate plots\n",
    "\n",
    "<YOUR CODE>\n",
    "\n",
    "#bonus: use tab to see if there is a way to draw a 2D histogram of age vs fare."
   ]
  },
  {
   "cell_type": "code",
   "execution_count": 0,
   "metadata": {
    "colab": {},
    "colab_type": "code",
    "id": "QIzNFjffJXXP"
   },
   "outputs": [],
   "source": [
    "# make a scatter plot of passenger age vs ticket fare\n",
    "\n",
    "<YOUR CODE>\n",
    "\n",
    "# kudos if you add separate colors for men and women"
   ]
  },
  {
   "cell_type": "markdown",
   "metadata": {
    "colab_type": "text",
    "id": "bHDcDWFKJXXS"
   },
   "source": [
    "* Extended [tutorial](https://matplotlib.org/2.0.2/users/pyplot_tutorial.html)\n",
    "* A [cheat sheet](http://bit.ly/2koHxNF)\n",
    "* Other libraries for more sophisticated stuff: [Seaborn](https://seaborn.pydata.org/), [Plotly](https://plot.ly/python/), and [Bokeh](https://bokeh.pydata.org/en/latest/)"
   ]
  },
  {
   "cell_type": "markdown",
   "metadata": {
    "colab_type": "text",
    "id": "ARBewmPBye4-"
   },
   "source": [
    "## Part V (final): machine learning with scikit-learn"
   ]
  },
  {
   "cell_type": "markdown",
   "metadata": {
    "colab_type": "text",
    "id": "Hpc3yTBjJXXT"
   },
   "source": [
    "<img src='https://imgs.xkcd.com/comics/machine_learning.png' width=320px>\n",
    "\n",
    "Scikit-learn is _the_ tool for simple machine learning pipelines. \n",
    "\n",
    "It's a single library that unites a whole bunch of models under the common interface:\n",
    "* Create:__ `model = sklearn.whatever.ModelNameHere(parameters_if_any)`__\n",
    "* Train:__ `model.fit(X,y)`__\n",
    "* Predict:__ `model.predict(X_test)`__\n",
    "\n",
    "It also contains utilities for feature extraction, quality estimation or cross-validation."
   ]
  },
  {
   "cell_type": "code",
   "execution_count": 0,
   "metadata": {
    "colab": {},
    "colab_type": "code",
    "id": "JhbbBk93JXXV"
   },
   "outputs": [],
   "source": [
    "from sklearn.neighbors import KNeighborsClassifier\n",
    "from sklearn.metrics import accuracy_score\n",
    "\n",
    "features = data[[\"Fare\", \"SibSp\"]].copy()\n",
    "answers = data[\"Survived\"]\n",
    "\n",
    "model = KNeighborsClassifier(n_neighbors=100)\n",
    "model.fit(features[:-100], answers[:-100])\n",
    "\n",
    "test_predictions = model.predict(features[-100:])\n",
    "print(\"Test accuracy:\", accuracy_score(answers[-100:], test_predictions))"
   ]
  },
  {
   "cell_type": "markdown",
   "metadata": {
    "colab_type": "text",
    "id": "Wxe6EeCSJXXY"
   },
   "source": [
    "__Final quest:__ tune n_neighbors and add more features to achieve accuracy of at least 0.75\n",
    "\n",
    "\n",
    "__Hint 1:__ for string features like \"Sex\" or \"Embarked\" you will have to compute some kind of numeric representation.\n",
    "For example, 1 if male and 0 if female or vice versa \n",
    "\n",
    "__Hint 2:__ features like \"Age\" contain NaN values. You can replace them with `replaced = data[\"Age\"].fillna(some_number)`."
   ]
  },
  {
   "cell_type": "markdown",
   "metadata": {
    "colab_type": "text",
    "id": "WcdyuBflJXXZ"
   },
   "source": [
    "* Sklearn [tutorials](http://scikit-learn.org/stable/tutorial/index.html)\n",
    "* Sklearn [examples](http://scikit-learn.org/stable/auto_examples/index.html)\n",
    "* Sklearn [cheat sheet](http://scikit-learn.org/stable/_static/ml_map.png)"
   ]
  },
  {
   "cell_type": "markdown",
   "metadata": {
    "colab_type": "text",
    "id": "toDL-cAILb8H"
   },
   "source": [
    "```\n",
    "```\n",
    "```\n",
    "```"
   ]
  },
  {
   "cell_type": "markdown",
   "metadata": {
    "colab_type": "text",
    "id": "_gdvIZBILdoo"
   },
   "source": [
    "## Bonus part"
   ]
  },
  {
   "cell_type": "markdown",
   "metadata": {
    "colab_type": "text",
    "id": "4z88BXYDLunO"
   },
   "source": [
    "### Pandas: adding new columns"
   ]
  },
  {
   "cell_type": "markdown",
   "metadata": {
    "colab_type": "text",
    "id": "fAqszFVKMHCG"
   },
   "source": [
    "To define a new column in a dataframe simply assign to it (if such a column exists it will get overwritten):"
   ]
  },
  {
   "cell_type": "code",
   "execution_count": 0,
   "metadata": {
    "colab": {},
    "colab_type": "code",
    "id": "jTf14P-ELzXD"
   },
   "outputs": [],
   "source": [
    "data['CabinUnknown'] = data.Cabin.isna()\n",
    "data.head()"
   ]
  },
  {
   "cell_type": "markdown",
   "metadata": {
    "colab_type": "text",
    "id": "rLtCIDVCMx3t"
   },
   "source": [
    "Be sure to use the approach with a `['ColumnName']` , rather than `.ColumnName`, otherwize it won't work:"
   ]
  },
  {
   "cell_type": "code",
   "execution_count": 0,
   "metadata": {
    "colab": {},
    "colab_type": "code",
    "id": "ctpV_MWvMh6b"
   },
   "outputs": [],
   "source": [
    "data.this_will_not_work = data.Age**2\n",
    "data.head()"
   ]
  },
  {
   "cell_type": "markdown",
   "metadata": {
    "colab_type": "text",
    "id": "ErWMVXfvcgrZ"
   },
   "source": [
    "### Pandas: one-hot encoding"
   ]
  },
  {
   "cell_type": "code",
   "execution_count": 0,
   "metadata": {
    "colab": {},
    "colab_type": "code",
    "id": "YBfOdHGGdCMC"
   },
   "outputs": [],
   "source": [
    "pd.get_dummies(data.Embarked, prefix='Embarked').head()\n",
    "# added .head() for a more compact output"
   ]
  },
  {
   "cell_type": "markdown",
   "metadata": {
    "colab_type": "text",
    "id": "ZxqeVSdKd0DT"
   },
   "source": [
    "### Pandas: merging tables"
   ]
  },
  {
   "cell_type": "code",
   "execution_count": 0,
   "metadata": {
    "colab": {},
    "colab_type": "code",
    "id": "AP9PrE8qdyI_"
   },
   "outputs": [],
   "source": [
    "data_extended = pd.concat([\n",
    "                      data,\n",
    "                      pd.get_dummies(data.Embarked, prefix='Embarked')\n",
    "                    ], axis=1)\n",
    "data_extended.head()"
   ]
  },
  {
   "cell_type": "markdown",
   "metadata": {
    "colab_type": "text",
    "id": "QeaeflaAeQ7W"
   },
   "source": [
    "### Pandas: groupby"
   ]
  },
  {
   "cell_type": "markdown",
   "metadata": {
    "colab_type": "text",
    "id": "fP6HFtuRhwPD"
   },
   "source": [
    "This function provides a neat way to calculate some statistics for groups of entries with some common feature value."
   ]
  },
  {
   "cell_type": "code",
   "execution_count": 0,
   "metadata": {
    "colab": {},
    "colab_type": "code",
    "id": "y4QeQUKmiDSZ"
   },
   "outputs": [],
   "source": [
    "g = data.groupby('Embarked')\n",
    "# Now `g` is an iterable of dataframes split based on the values\n",
    "# in the 'Embarked' column:\n",
    "\n",
    "for embarked, group in g:\n",
    "  print(embarked, type(group), group.shape)"
   ]
  },
  {
   "cell_type": "code",
   "execution_count": 0,
   "metadata": {
    "colab": {},
    "colab_type": "code",
    "id": "cZlGdJ3-jo05"
   },
   "outputs": [],
   "source": [
    "# You can calculate things on the groups simultaniously:\n",
    "\n",
    "g.mean()"
   ]
  },
  {
   "cell_type": "code",
   "execution_count": 0,
   "metadata": {
    "colab": {},
    "colab_type": "code",
    "id": "P-3FFL-hj8qP"
   },
   "outputs": [],
   "source": [
    "g.count() # this calculates the number of valid entries (excluding nans)"
   ]
  },
  {
   "cell_type": "code",
   "execution_count": 0,
   "metadata": {
    "colab": {},
    "colab_type": "code",
    "id": "c4KA9HsekPiA"
   },
   "outputs": [],
   "source": [
    "# You can also access individual columns:\n",
    "g.Fare.max()"
   ]
  },
  {
   "cell_type": "markdown",
   "metadata": {
    "colab_type": "text",
    "id": "WRhTgAVHekYH"
   },
   "source": [
    "### Pandas: cut and qcut"
   ]
  },
  {
   "cell_type": "markdown",
   "metadata": {
    "colab_type": "text",
    "id": "c42YbZKlksNz"
   },
   "source": [
    "These functions let us split data into bins: `cut` makes linear splits, while `qcut` makes quantile-based splits. They both return a column of bins to which current entry belongs:"
   ]
  },
  {
   "cell_type": "code",
   "execution_count": 0,
   "metadata": {
    "colab": {},
    "colab_type": "code",
    "id": "UHMNswNblHeB"
   },
   "outputs": [],
   "source": [
    "pd.cut(data.Age, 3).head() # '.head()' added for a more compact output"
   ]
  },
  {
   "cell_type": "code",
   "execution_count": 0,
   "metadata": {
    "colab": {},
    "colab_type": "code",
    "id": "GJGJhcqUlgKC"
   },
   "outputs": [],
   "source": [
    "pd.qcut(data.Age, 3).head() # '.head()' added for a more compact output"
   ]
  },
  {
   "cell_type": "markdown",
   "metadata": {
    "colab_type": "text",
    "id": "pCGLUZ8CmjD0"
   },
   "source": [
    "### Your turn"
   ]
  },
  {
   "cell_type": "markdown",
   "metadata": {
    "colab_type": "text",
    "id": "G6ryMww4mlK-"
   },
   "source": [
    "Use `cut` and `groupby` to calculate survival rate for 3 age categories.\n",
    "\n",
    "**Hint:** you need to add the result of `cut` as a new column"
   ]
  },
  {
   "cell_type": "code",
   "execution_count": 0,
   "metadata": {
    "colab": {},
    "colab_type": "code",
    "id": "_VD_cgA8m6WT"
   },
   "outputs": [],
   "source": [
    "<YOUR CODE HERE>"
   ]
  },
  {
   "cell_type": "markdown",
   "metadata": {
    "colab_type": "text",
    "id": "UYc963-eepev"
   },
   "source": [
    "### Pandas: combining the tricks (survival vs ticket fare)"
   ]
  },
  {
   "cell_type": "code",
   "execution_count": 0,
   "metadata": {
    "colab": {},
    "colab_type": "code",
    "id": "8aA6C8vbLdJk"
   },
   "outputs": [],
   "source": [
    "from matplotlib.ticker import ScalarFormatter\n",
    "\n",
    "data['qFare'] = pd.qcut(data.Fare, 20)\n",
    "\n",
    "sur_vs_price = data.groupby('qFare').Survived.mean()\n",
    "sur_vs_price_e = data.groupby('qFare').Survived.std() \\\n",
    "                        / data.groupby('qFare').Survived.count()**0.5\n",
    "\n",
    "fig = plt.figure(figsize=(16, 9))\n",
    "plt.errorbar(x=np.round(pd.IntervalIndex(sur_vs_price.index).mid, decimals=2),\n",
    "             y=sur_vs_price.values,\n",
    "             yerr=sur_vs_price_e.values,\n",
    "             xerr=(\n",
    "                 pd.IntervalIndex(sur_vs_price.index).right - \n",
    "                 pd.IntervalIndex(sur_vs_price.index).left\n",
    "               ) / 2,\n",
    "             fmt='o')\n",
    "plt.gca().set_xscale('log')\n",
    "plt.gca().xaxis.set_major_formatter(ScalarFormatter())\n",
    "plt.gca().set_xticks(\n",
    "              list(range(3, 10)) +\n",
    "              list(range(10, 100, 10)) +\n",
    "              list(range(100, 700, 100))\n",
    "            )\n",
    "\n",
    "plt.xlabel('Fare')\n",
    "plt.ylabel('Survival probability');"
   ]
  },
  {
   "cell_type": "code",
   "execution_count": 0,
   "metadata": {
    "colab": {},
    "colab_type": "code",
    "id": "5piEuH9gXThV"
   },
   "outputs": [],
   "source": []
  }
 ],
 "metadata": {
  "colab": {
   "collapsed_sections": [
    "J7ugCw1wJXWc"
   ],
   "name": "titanic.ipynb",
   "provenance": [],
   "toc_visible": true,
   "version": "0.3.2"
  },
  "kernelspec": {
   "display_name": "Python 3",
   "language": "python",
   "name": "python3"
  },
  "language_info": {
   "codemirror_mode": {
    "name": "ipython",
    "version": 3
   },
   "file_extension": ".py",
   "mimetype": "text/x-python",
   "name": "python",
   "nbconvert_exporter": "python",
   "pygments_lexer": "ipython3",
   "version": "3.5.2"
  }
 },
 "nbformat": 4,
 "nbformat_minor": 1
}
