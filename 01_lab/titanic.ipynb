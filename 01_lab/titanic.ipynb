{
  "nbformat": 4,
  "nbformat_minor": 0,
  "metadata": {
    "colab": {
      "name": "titanic.ipynb",
      "version": "0.3.2",
      "provenance": [],
      "collapsed_sections": [
        "J7ugCw1wJXWc"
      ],
      "toc_visible": true
    },
    "kernelspec": {
      "display_name": "Python 3",
      "language": "python",
      "name": "python3"
    }
  },
  "cells": [
    {
      "metadata": {
        "id": "view-in-github",
        "colab_type": "text"
      },
      "cell_type": "markdown",
      "source": [
        "<a href=\"https://colab.research.google.com/github/yandexdataschool/MLatImperial2019/blob/master/01_lab/titanic.ipynb\" target=\"_parent\"><img src=\"https://colab.research.google.com/assets/colab-badge.svg\" alt=\"Open In Colab\"/></a>"
      ]
    },
    {
      "metadata": {
        "id": "Aw1cuRi7hhzz",
        "colab_type": "text"
      },
      "cell_type": "markdown",
      "source": [
        "# Titanic: Machine Learning from Disaster"
      ]
    },
    {
      "metadata": {
        "id": "w3muhqoaJXVL",
        "colab_type": "text"
      },
      "cell_type": "markdown",
      "source": [
        "![\"Untergang der Titanic\", as conceived by Willy Stöwer, 1912](https://upload.wikimedia.org/wikipedia/commons/6/6e/St%C3%B6wer_Titanic.jpg)\n",
        "\n",
        "This notebook's gonna teach you to use the basic data science stack for python: jupyter, numpy, matplotlib and sklearn."
      ]
    },
    {
      "metadata": {
        "id": "I_J_iM9Hjwc3",
        "colab_type": "text"
      },
      "cell_type": "markdown",
      "source": [
        "## Part I: Jupyter notebooks recap"
      ]
    },
    {
      "metadata": {
        "id": "De2BsSxGJXVV",
        "colab_type": "text"
      },
      "cell_type": "markdown",
      "source": [
        "**The most important feature** of jupyter notebooks for this course: \n",
        "* if you're typing something, press `Tab` to see automatic suggestions, use arrow keys + enter to pick one.\n",
        "* if you move your cursor inside some function and press `Tab`, you'll get a help window."
      ]
    },
    {
      "metadata": {
        "id": "5oQdc9MIJXVW",
        "colab_type": "code",
        "colab": {}
      },
      "cell_type": "code",
      "source": [
        "# run this first\n",
        "import math"
      ],
      "execution_count": 0,
      "outputs": []
    },
    {
      "metadata": {
        "id": "4FZxJodmJXVZ",
        "colab_type": "code",
        "colab": {}
      },
      "cell_type": "code",
      "source": [
        "# Place your cursor at the end of the unfinished line below and press tab to\n",
        "# find a function that computes arctangent from two parameters (should\n",
        "# have 2 in it's name).\n",
        "# Once you chose it, put an opening bracket character and press tab to\n",
        "# see the docs.\n",
        "\n",
        "math.a  # <---"
      ],
      "execution_count": 0,
      "outputs": []
    },
    {
      "metadata": {
        "id": "iD6NjAugj_3y",
        "colab_type": "text"
      },
      "cell_type": "markdown",
      "source": [
        "## Part II: Loading data with Pandas"
      ]
    },
    {
      "metadata": {
        "id": "K0OYaO-6JXVb",
        "colab_type": "text"
      },
      "cell_type": "markdown",
      "source": [
        "Pandas is a library that helps you load the data, prepare it and perform some lightweight analysis. The god object here is the `pandas.DataFrame` - a 2d table with batteries included. \n",
        "\n",
        "In the cell below we use it to read the data on the infamous titanic shipwreck.\n",
        "\n",
        "__please keep running all the code cells as you read__"
      ]
    },
    {
      "metadata": {
        "id": "rMpClKdKzasG",
        "colab_type": "code",
        "colab": {}
      },
      "cell_type": "code",
      "source": [
        "!wget https://github.com/yandexdataschool/MLatImperial2019/raw/master/01_lab/train.csv"
      ],
      "execution_count": 0,
      "outputs": []
    },
    {
      "metadata": {
        "id": "G36oVo3RJXVc",
        "colab_type": "code",
        "colab": {}
      },
      "cell_type": "code",
      "source": [
        "import pandas as pd\n",
        "data = pd.read_csv(\"train.csv\", index_col='PassengerId') # this yields a pandas.DataFrame"
      ],
      "execution_count": 0,
      "outputs": []
    },
    {
      "metadata": {
        "id": "gEvLO4nvJXVf",
        "colab_type": "code",
        "colab": {}
      },
      "cell_type": "code",
      "source": [
        "# Selecting rows\n",
        "head = data[:10]\n",
        "\n",
        "head  #if you leave an expression at the end of a cell, jupyter will \"display\" it automatically"
      ],
      "execution_count": 0,
      "outputs": []
    },
    {
      "metadata": {
        "id": "EDHw3sHgJXVj",
        "colab_type": "text"
      },
      "cell_type": "markdown",
      "source": [
        "#### About the data\n",
        "Here's some of the columns\n",
        "* Name - a string with person's full name\n",
        "* Survived - 1 if a person survived the shipwreck, 0 otherwise.\n",
        "* Pclass - passenger class. Pclass == 3 is cheap'n'cheerful, Pclass == 1 is for moneybags.\n",
        "* Sex - a person's gender\n",
        "* Age - age in years, if available\n",
        "* Sibsp - number of siblings on a ship\n",
        "* Parch - number of parents on a ship\n",
        "* Fare - ticket cost\n",
        "* Embarked - port where the passenger embarked\n",
        " * C = Cherbourg; Q = Queenstown; S = Southampton"
      ]
    },
    {
      "metadata": {
        "id": "PWmRBFP6JXVl",
        "colab_type": "code",
        "colab": {}
      },
      "cell_type": "code",
      "source": [
        "# table dimensions\n",
        "print(\"len(data) = \", len(data))\n",
        "print(\"data.shape = \", data.shape)"
      ],
      "execution_count": 0,
      "outputs": []
    },
    {
      "metadata": {
        "id": "dt6itIHBJXVn",
        "colab_type": "code",
        "colab": {}
      },
      "cell_type": "code",
      "source": [
        "# select a single row\n",
        "print(data.loc[4])"
      ],
      "execution_count": 0,
      "outputs": []
    },
    {
      "metadata": {
        "id": "wdpiKMr7JXVq",
        "colab_type": "code",
        "colab": {}
      },
      "cell_type": "code",
      "source": [
        "# select a single column.\n",
        "ages = data[\"Age\"]\n",
        "print(ages[:10])  # alternatively: data.Age"
      ],
      "execution_count": 0,
      "outputs": []
    },
    {
      "metadata": {
        "id": "-ao3OhDtJXVu",
        "colab_type": "code",
        "colab": {}
      },
      "cell_type": "code",
      "source": [
        "# select several columns and rows at once\n",
        "data.loc[5:10, (\"Fare\", \"Pclass\")]    # alternatively: data[[\"Fare\",\"Pclass\"]].loc[5:10]"
      ],
      "execution_count": 0,
      "outputs": []
    },
    {
      "metadata": {
        "id": "h7jqzyjLp9qe",
        "colab_type": "text"
      },
      "cell_type": "markdown",
      "source": [
        "### `loc` vs `iloc`"
      ]
    },
    {
      "metadata": {
        "id": "qR-MSiiiqDB4",
        "colab_type": "text"
      },
      "cell_type": "markdown",
      "source": [
        "There are two ways of indexing the rows in pandas:\n",
        " *   by index column values (`PassengerId` in our case) – use `data.loc` for that\n",
        " *   by positional index - use `data.iloc` for that"
      ]
    },
    {
      "metadata": {
        "id": "uXCOFn0Fqr1M",
        "colab_type": "text"
      },
      "cell_type": "markdown",
      "source": [
        "Note that index column starts from 1, so positional index 0 will correspond to index column value 1, positional 1 to index column value 2, and so on:"
      ]
    },
    {
      "metadata": {
        "id": "PWD9vfcIqjAH",
        "colab_type": "code",
        "colab": {}
      },
      "cell_type": "code",
      "source": [
        "print(data.index)\n",
        "print('------')\n",
        "print(\"data.iloc[0]:\")\n",
        "print(data.iloc[0])\n",
        "print('------')\n",
        "print(\"data.loc[1]:\")\n",
        "print(data.loc[1])"
      ],
      "execution_count": 0,
      "outputs": []
    },
    {
      "metadata": {
        "id": "ln3hUck0JXVx",
        "colab_type": "text"
      },
      "cell_type": "markdown",
      "source": [
        "### Your turn:\n"
      ]
    },
    {
      "metadata": {
        "id": "r0surSILJXVy",
        "colab_type": "code",
        "colab": {}
      },
      "cell_type": "code",
      "source": [
        "# select passengers number 13 and 666 - did they survive?\n",
        "\n",
        "<YOUR CODE>"
      ],
      "execution_count": 0,
      "outputs": []
    },
    {
      "metadata": {
        "id": "WfL_YYOVJXV3",
        "colab_type": "code",
        "colab": {}
      },
      "cell_type": "code",
      "source": [
        "# compute the overall survival rate (what fraction of passengers survived the shipwreck)\n",
        "\n",
        "<YOUR CODE>"
      ],
      "execution_count": 0,
      "outputs": []
    },
    {
      "metadata": {
        "id": "NaDF00ADJXV7",
        "colab_type": "text"
      },
      "cell_type": "markdown",
      "source": [
        "```\n",
        "\n",
        "```\n",
        "\n",
        "```\n",
        "\n",
        "```\n",
        "\n",
        "```\n",
        "\n",
        "```\n",
        "\n",
        "```\n",
        "\n",
        "```\n",
        "\n",
        "```\n",
        "\n",
        "```\n",
        "\n",
        "```\n",
        "\n",
        "```\n",
        "\n",
        "```\n",
        "\n",
        "```\n",
        "\n"
      ]
    },
    {
      "metadata": {
        "id": "dZAezJgDJXV8",
        "colab_type": "text"
      },
      "cell_type": "markdown",
      "source": [
        "Pandas also has some basic data analysis tools. For one, you can quickly display statistical aggregates for each column using `.describe()`"
      ]
    },
    {
      "metadata": {
        "id": "yHtn-GlbJXV8",
        "colab_type": "code",
        "colab": {}
      },
      "cell_type": "code",
      "source": [
        "data.describe()"
      ],
      "execution_count": 0,
      "outputs": []
    },
    {
      "metadata": {
        "id": "hp-OG6bOJXWA",
        "colab_type": "text"
      },
      "cell_type": "markdown",
      "source": [
        "Some columns contain __NaN__ values - this means that there is no data there. For example, passenger `#5` has unknown age. To simplify the future data analysis, we'll replace NaN values by using pandas `fillna` function.\n",
        "\n",
        "_Note: we do this so easily because it's a tutorial. In general, you think twice before you modify data like this._"
      ]
    },
    {
      "metadata": {
        "id": "h62nzR9vJXWB",
        "colab_type": "code",
        "colab": {}
      },
      "cell_type": "code",
      "source": [
        "data.iloc[5]"
      ],
      "execution_count": 0,
      "outputs": []
    },
    {
      "metadata": {
        "id": "EHEegWTOJXWK",
        "colab_type": "code",
        "colab": {}
      },
      "cell_type": "code",
      "source": [
        "data['Age'] = data['Age'].fillna(value=data['Age'].mean())\n",
        "data['Fare'] = data['Fare'].fillna(value=data['Fare'].mean())"
      ],
      "execution_count": 0,
      "outputs": []
    },
    {
      "metadata": {
        "id": "jSIS7m9RJXWO",
        "colab_type": "code",
        "colab": {}
      },
      "cell_type": "code",
      "source": [
        "data.iloc[5]"
      ],
      "execution_count": 0,
      "outputs": []
    },
    {
      "metadata": {
        "id": "ASsnUCRMJXWS",
        "colab_type": "text"
      },
      "cell_type": "markdown",
      "source": [
        "More pandas: \n",
        "* A neat [tutorial](http://pandas.pydata.org/) from pydata\n",
        "* Official [tutorials](https://pandas.pydata.org/pandas-docs/stable/tutorials.html), including this [10 minutes to pandas](https://pandas.pydata.org/pandas-docs/stable/10min.html#min)\n",
        "* Bunch of cheat sheets awaits just one google query away from you (e.g. [basics](http://blog.yhat.com/static/img/datacamp-cheat.png), [combining datasets](https://pbs.twimg.com/media/C65MaMpVwAA3v0A.jpg) and so on). "
      ]
    },
    {
      "metadata": {
        "id": "-cY1PEyznRYw",
        "colab_type": "text"
      },
      "cell_type": "markdown",
      "source": [
        "## Part III: Numpy and vectorized computing"
      ]
    },
    {
      "metadata": {
        "id": "4luG6vWXJXWU",
        "colab_type": "text"
      },
      "cell_type": "markdown",
      "source": [
        "Almost any machine learning model requires some computational heavy lifting usually involving linear algebra problems. Unfortunately, raw python is terrible at this because each operation is interpreted at runtime. \n",
        "\n",
        "So instead, we'll use `numpy` - a library that lets you run blazing fast computation with vectors, matrices and other tensors. Again, the god oject here is `numpy.ndarray`:"
      ]
    },
    {
      "metadata": {
        "id": "gcTokNL-JXWV",
        "colab_type": "code",
        "colab": {}
      },
      "cell_type": "code",
      "source": [
        "import numpy as np\n",
        "\n",
        "a = np.array([1,2,3,4,5])\n",
        "b = np.array([5,4,3,2,1])\n",
        "print(\"a = \", a)\n",
        "print(\"b = \", b)\n",
        "\n",
        "# math and boolean operations can applied to each element of an array\n",
        "print(\"a + 1 =\", a + 1)\n",
        "print(\"a * 2 =\", a * 2)\n",
        "print(\"a == 2\", a == 2)\n",
        "# ... or corresponding elements of two (or more) arrays\n",
        "print(\"a + b =\", a + b)\n",
        "print(\"a * b =\", a * b)"
      ],
      "execution_count": 0,
      "outputs": []
    },
    {
      "metadata": {
        "id": "40slF_H1JXWY",
        "colab_type": "code",
        "colab": {}
      },
      "cell_type": "code",
      "source": [
        "# Your turn: compute half-products of a and b elements (halves of products)\n",
        "<YOUR CODE>"
      ],
      "execution_count": 0,
      "outputs": []
    },
    {
      "metadata": {
        "id": "EnNXgtaaJXWa",
        "colab_type": "code",
        "colab": {}
      },
      "cell_type": "code",
      "source": [
        "# compute elementwise quotient between squared a and (b plus 1)\n",
        "<YOUR CODE>"
      ],
      "execution_count": 0,
      "outputs": []
    },
    {
      "metadata": {
        "id": "KSkrSyKTnJBp",
        "colab_type": "text"
      },
      "cell_type": "markdown",
      "source": [
        "```\n",
        "\n",
        "```\n",
        "\n",
        "```\n",
        "\n",
        "```\n",
        "\n",
        "```\n",
        "\n",
        "```\n",
        "\n",
        "```\n",
        "\n",
        "```\n",
        "\n",
        "```\n",
        "\n",
        "```"
      ]
    },
    {
      "metadata": {
        "id": "uHV6HlQgoL-r",
        "colab_type": "text"
      },
      "cell_type": "markdown",
      "source": [
        "There's a number of functions to create arrays of zeros, ones, ascending/descending numbers etc.:"
      ]
    },
    {
      "metadata": {
        "id": "dCqkfcCWoi1I",
        "colab_type": "code",
        "colab": {}
      },
      "cell_type": "code",
      "source": [
        "np.zeros(shape=(3, 4))"
      ],
      "execution_count": 0,
      "outputs": []
    },
    {
      "metadata": {
        "id": "NAee3VdtorX8",
        "colab_type": "code",
        "colab": {}
      },
      "cell_type": "code",
      "source": [
        "np.ones(shape=(2, 5), dtype=np.bool)"
      ],
      "execution_count": 0,
      "outputs": []
    },
    {
      "metadata": {
        "id": "ymW4lMqpozFn",
        "colab_type": "code",
        "colab": {}
      },
      "cell_type": "code",
      "source": [
        "np.arange(3, 15, 2) # start, stop, step"
      ],
      "execution_count": 0,
      "outputs": []
    },
    {
      "metadata": {
        "id": "KQi-FGqto_ty",
        "colab_type": "code",
        "colab": {}
      },
      "cell_type": "code",
      "source": [
        "np.linspace(0, 10, 11) # divide [0, 10] interval into 11 points"
      ],
      "execution_count": 0,
      "outputs": []
    },
    {
      "metadata": {
        "id": "7d7MlvuqpJ0S",
        "colab_type": "code",
        "colab": {}
      },
      "cell_type": "code",
      "source": [
        "np.logspace(1, 10, 10, base=2, dtype=np.int64)"
      ],
      "execution_count": 0,
      "outputs": []
    },
    {
      "metadata": {
        "id": "C4hb3shSpdBf",
        "colab_type": "text"
      },
      "cell_type": "markdown",
      "source": [
        "You can easily reshape arrays:"
      ]
    },
    {
      "metadata": {
        "id": "83xNeecTphm4",
        "colab_type": "code",
        "colab": {}
      },
      "cell_type": "code",
      "source": [
        "np.arange(24).reshape(2, 3, 4)"
      ],
      "execution_count": 0,
      "outputs": []
    },
    {
      "metadata": {
        "id": "F_evgKCtpzpk",
        "colab_type": "text"
      },
      "cell_type": "markdown",
      "source": [
        "or add dimensions of size 1:"
      ]
    },
    {
      "metadata": {
        "id": "It_JTbIiqCTH",
        "colab_type": "code",
        "colab": {}
      },
      "cell_type": "code",
      "source": [
        "print(np.arange(3)[:, np.newaxis])\n",
        "print('---')\n",
        "print(np.arange(3)[np.newaxis, :])"
      ],
      "execution_count": 0,
      "outputs": []
    },
    {
      "metadata": {
        "id": "4eE5Uq8GqO75",
        "colab_type": "text"
      },
      "cell_type": "markdown",
      "source": [
        "Such dimensions are automatically broadcast when doing mathematical operations:"
      ]
    },
    {
      "metadata": {
        "id": "VmO2UtjtqcEU",
        "colab_type": "code",
        "colab": {}
      },
      "cell_type": "code",
      "source": [
        "np.arange(3)[:, np.newaxis] + np.arange(3)[np.newaxis, :]"
      ],
      "execution_count": 0,
      "outputs": []
    },
    {
      "metadata": {
        "id": "pfmFlVopqzId",
        "colab_type": "text"
      },
      "cell_type": "markdown",
      "source": [
        "There is also a number of ways to stack arrays together:"
      ]
    },
    {
      "metadata": {
        "id": "WzfKzymGq3wX",
        "colab_type": "code",
        "colab": {}
      },
      "cell_type": "code",
      "source": [
        "matrix1 = np.arange(50).reshape(10, 5)\n",
        "matrix2 = -np.arange(20).reshape(10, 2)\n",
        "\n",
        "np.concatenate([matrix1, matrix2], axis=1)"
      ],
      "execution_count": 0,
      "outputs": []
    },
    {
      "metadata": {
        "id": "EqJnzNehrYYP",
        "colab_type": "code",
        "colab": {}
      },
      "cell_type": "code",
      "source": [
        "np.stack([matrix1[:,0], matrix2[:,0]], axis=1)"
      ],
      "execution_count": 0,
      "outputs": []
    },
    {
      "metadata": {
        "id": "MulZJhPBr6ie",
        "colab_type": "text"
      },
      "cell_type": "markdown",
      "source": [
        "Any matrix can be transposed easily:"
      ]
    },
    {
      "metadata": {
        "id": "KIeOCQ-wr_Q6",
        "colab_type": "code",
        "colab": {}
      },
      "cell_type": "code",
      "source": [
        "matrix2.T"
      ],
      "execution_count": 0,
      "outputs": []
    },
    {
      "metadata": {
        "id": "WnajGvSrsP-t",
        "colab_type": "code",
        "colab": {}
      },
      "cell_type": "code",
      "source": [
        "# Your turn: make a (7 x 5) matrix with e_ij = i\n",
        "# (i - row number, j - column number)\n",
        "\n",
        "<YOUR CODE>"
      ],
      "execution_count": 0,
      "outputs": []
    },
    {
      "metadata": {
        "id": "56X724n8nNK9",
        "colab_type": "text"
      },
      "cell_type": "markdown",
      "source": [
        "### How fast is it, harry?"
      ]
    },
    {
      "metadata": {
        "id": "J7ugCw1wJXWc",
        "colab_type": "text"
      },
      "cell_type": "markdown",
      "source": [
        "![img](https://img.buzzfeed.com/buzzfeed-static/static/2015-11/6/7/enhanced/webdr10/enhanced-buzz-22847-1446811476-0.jpg)\n",
        "\n",
        "Let's compare computation time for python and numpy\n",
        "* Two arrays of 10^6 elements\n",
        " * first - from 0 to 1 000 000\n",
        " * second - from 99 to 1 000 099\n",
        " \n",
        "* Computing:\n",
        " * elemwise sum\n",
        " * elemwise product\n",
        " * square root of first array\n",
        " * sum of all elements in the first array\n",
        " "
      ]
    },
    {
      "metadata": {
        "id": "hkaH4AkUJXWd",
        "colab_type": "code",
        "colab": {}
      },
      "cell_type": "code",
      "source": [
        "%%time \n",
        "# ^-- this \"magic\" measures and prints cell computation time\n",
        "\n",
        "# Option I: pure python\n",
        "arr_1 = range(1000000)\n",
        "arr_2 = range(99,1000099)\n",
        "\n",
        "\n",
        "a_sum = []\n",
        "a_prod = []\n",
        "sqrt_a1 = []\n",
        "for i in range(len(arr_1)):\n",
        "    a_sum.append(arr_1[i]+arr_2[i])\n",
        "    a_prod.append(arr_1[i]*arr_2[i])\n",
        "    a_sum.append(arr_1[i]**0.5)\n",
        "    \n",
        "arr_1_sum = sum(arr_1)\n"
      ],
      "execution_count": 0,
      "outputs": []
    },
    {
      "metadata": {
        "id": "BasUnM6uJXWf",
        "colab_type": "code",
        "colab": {}
      },
      "cell_type": "code",
      "source": [
        "%%time\n",
        "\n",
        "# Option II: start from python, convert to numpy\n",
        "arr_1 = range(1000000)\n",
        "arr_2 = range(99,1000099)\n",
        "\n",
        "arr_1, arr_2 = np.array(arr_1) , np.array(arr_2)\n",
        "\n",
        "\n",
        "a_sum = arr_1 + arr_2\n",
        "a_prod = arr_1 * arr_2\n",
        "sqrt_a1 = arr_1 ** .5\n",
        "arr_1_sum = arr_1.sum()\n"
      ],
      "execution_count": 0,
      "outputs": []
    },
    {
      "metadata": {
        "id": "whU6BvJ6JXWi",
        "colab_type": "code",
        "colab": {}
      },
      "cell_type": "code",
      "source": [
        "%%time\n",
        "\n",
        "# Option III: pure numpy\n",
        "arr_1 = np.arange(1000000)\n",
        "arr_2 = np.arange(99,1000099)\n",
        "\n",
        "a_sum = arr_1 + arr_2\n",
        "a_prod = arr_1 * arr_2\n",
        "sqrt_a1 = arr_1 ** .5\n",
        "arr_1_sum = arr_1.sum()\n"
      ],
      "execution_count": 0,
      "outputs": []
    },
    {
      "metadata": {
        "id": "7Jc5_Z5wJXWl",
        "colab_type": "text"
      },
      "cell_type": "markdown",
      "source": [
        "If you want more serious benchmarks, take a look at [this](http://brilliantlywrong.blogspot.ru/2015/01/benchmarks-of-speed-numpy-vs-all.html)."
      ]
    },
    {
      "metadata": {
        "id": "H2cYqf_UJXWm",
        "colab_type": "text"
      },
      "cell_type": "markdown",
      "source": [
        "```\n",
        "\n",
        "```\n",
        "\n",
        "```\n",
        "\n",
        "```\n",
        "\n",
        "```\n",
        "\n",
        "```\n",
        "\n",
        "```\n",
        "\n",
        "```\n",
        "\n",
        "```\n",
        "\n",
        "```\n",
        "\n",
        "```\n",
        "\n",
        "```\n",
        "\n",
        "```\n",
        "\n",
        "```"
      ]
    },
    {
      "metadata": {
        "id": "OPtaPKy3uI6A",
        "colab_type": "text"
      },
      "cell_type": "markdown",
      "source": [
        "### Other numpy functions and features"
      ]
    },
    {
      "metadata": {
        "id": "S-8KaYRmuM4m",
        "colab_type": "text"
      },
      "cell_type": "markdown",
      "source": [
        "There's also a bunch of pre-implemented operations including logarithms, trigonometry, vector/matrix products and aggregations."
      ]
    },
    {
      "metadata": {
        "id": "RklGSklbJXWn",
        "colab_type": "code",
        "colab": {}
      },
      "cell_type": "code",
      "source": [
        "a = np.array([1,2,3,4,5])\n",
        "b = np.array([5,4,3,2,1])\n",
        "print(\"numpy.sum(a) = \", np.sum(a))\n",
        "print(\"numpy.mean(a) = \", np.mean(a))\n",
        "print(\"numpy.min(a) = \",  np.min(a))\n",
        "print(\"numpy.argmin(b) = \", np.argmin(b))  # index of minimal element\n",
        "print(\"numpy.dot(a,b) = \", np.dot(a, b))      # dot product. Also used for matrix/tensor multiplication\n",
        "print(\"numpy.unique(['male','male','female','female','male']) = \", np.unique(['male','male','female','female','male']))\n",
        "\n",
        "# and tons of other stuff. see http://bit.ly/2u5q430 ."
      ],
      "execution_count": 0,
      "outputs": []
    },
    {
      "metadata": {
        "id": "Wk8fA8HBJXWs",
        "colab_type": "text"
      },
      "cell_type": "markdown",
      "source": [
        "The important part: all this functionality works with dataframes, as you can get their numpy representation with `.values` (most numpy functions will even work on pure pandas objects):"
      ]
    },
    {
      "metadata": {
        "id": "uE53osRgJXWs",
        "colab_type": "code",
        "colab": {}
      },
      "cell_type": "code",
      "source": [
        "# calling np.max on a pure pandas column:\n",
        "print(\"Max ticket price: \", np.max(data[\"Fare\"]))\n",
        "\n",
        "# calling np.argmax on a numpy representation of a pandas column\n",
        "# to get its positional index:\n",
        "print(\"\\nThe guy who paid the most:\\n\", data.iloc[np.argmax(data[\"Fare\"].values)])"
      ],
      "execution_count": 0,
      "outputs": []
    },
    {
      "metadata": {
        "id": "p7O68NpyJXWw",
        "colab_type": "code",
        "colab": {}
      },
      "cell_type": "code",
      "source": [
        "# your code: compute mean passenger age and the oldest guy on the ship\n",
        "<YOUR CODE>"
      ],
      "execution_count": 0,
      "outputs": []
    },
    {
      "metadata": {
        "id": "Jkq07GT5JXW0",
        "colab_type": "code",
        "colab": {}
      },
      "cell_type": "code",
      "source": [
        "print(\"Boolean operations\")\n",
        "\n",
        "print('a = ', a)\n",
        "print('b = ', b)\n",
        "print(\"a > 2\", a > 2)\n",
        "print(\"numpy.logical_not(a>2) = \", np.logical_not(a>2))\n",
        "print(\"numpy.logical_and(a>2,b>2) = \", np.logical_and(a > 2,b > 2))\n",
        "print(\"numpy.logical_or(a>2,b<3) = \", np.logical_or(a > 2, b < 3))\n",
        "\n",
        "print(\"\\n shortcuts\")\n",
        "print(\"~(a > 2) = \", ~(a > 2))                    #logical_not(a > 2)\n",
        "print(\"(a > 2) & (b > 2) = \", (a > 2) & (b > 2))  #logical_and\n",
        "print(\"(a > 2) | (b < 3) = \", (a > 2) | (b < 3))  #logical_or"
      ],
      "execution_count": 0,
      "outputs": []
    },
    {
      "metadata": {
        "id": "VBkDTTOLJXW3",
        "colab_type": "text"
      },
      "cell_type": "markdown",
      "source": [
        "Another numpy feature we'll need is indexing: selecting elements from an array. \n",
        "Aside from python indexes and slices (e.g. a[1:4]), numpy also allows you to select several elements at once."
      ]
    },
    {
      "metadata": {
        "id": "MhXHB6fgJXW4",
        "colab_type": "code",
        "colab": {}
      },
      "cell_type": "code",
      "source": [
        "a = np.array([0, 1, 4, 9, 16, 25])\n",
        "ix = np.array([1,2,5])\n",
        "print(\"a = \", a)\n",
        "print(\"Select by element index\")\n",
        "print(\"a[[1,2,5]] = \", a[ix])\n",
        "\n",
        "print(\"\\nSelect by boolean mask\")\n",
        "print(\"a[a > 5] = \", a[a > 5])     # select all elements in a that are greater than 5\n",
        "print(\"(a % 2 == 0) =\", a % 2 == 0) # True for even, False for odd\n",
        "print(\"a[a % 2 == 0] =\", a[a % 2 == 0]) # select all elements in a that are even\n",
        "\n",
        "\n",
        "print(\"data[(data['Age'] < 18) & (data['Sex'] == 'male')] = (below)\") # select male children\n",
        "data[(data['Age'] < 18) & (data['Sex'] == 'male')]"
      ],
      "execution_count": 0,
      "outputs": []
    },
    {
      "metadata": {
        "id": "T_xqJK6UJXW6",
        "colab_type": "text"
      },
      "cell_type": "markdown",
      "source": [
        "### Your turn\n",
        "\n",
        "Use numpy and pandas to answer a few questions about data"
      ]
    },
    {
      "metadata": {
        "id": "h6eXINxLJXW6",
        "colab_type": "code",
        "colab": {}
      },
      "cell_type": "code",
      "source": [
        "# who on average paid more for their ticket, men or women?\n",
        "\n",
        "mean_fare_men = <YOUR CODE>\n",
        "mean_fare_women = <YOUR CODE>\n",
        "\n",
        "print(mean_fare_men, mean_fare_women)"
      ],
      "execution_count": 0,
      "outputs": []
    },
    {
      "metadata": {
        "id": "EyDEaifrJXW8",
        "colab_type": "code",
        "colab": {}
      },
      "cell_type": "code",
      "source": [
        "# who is more likely to survive: a child (<18 yo) or an adult?\n",
        "\n",
        "child_survival_rate = <YOUR CODE>\n",
        "adult_survival_rate = <YOUR CODE>\n",
        "\n",
        "print(child_survival_rate, adult_survival_rate)"
      ],
      "execution_count": 0,
      "outputs": []
    },
    {
      "metadata": {
        "id": "yt0lgtQox2e1",
        "colab_type": "text"
      },
      "cell_type": "markdown",
      "source": [
        "## Part IV: plots and matplotlib"
      ]
    },
    {
      "metadata": {
        "id": "Odx24QWTJXW-",
        "colab_type": "text"
      },
      "cell_type": "markdown",
      "source": [
        "Using python to visualize the data is covered by yet another library: `matplotlib`.\n",
        "\n",
        "Just like python itself, matplotlib has an awesome tendency of keeping simple things simple while still allowing you to write complicated stuff with convenience (e.g. super-detailed plots or custom animations)."
      ]
    },
    {
      "metadata": {
        "scrolled": true,
        "id": "7QxD0DoLJXW-",
        "colab_type": "code",
        "colab": {}
      },
      "cell_type": "code",
      "source": [
        "import matplotlib.pyplot as plt\n",
        "%matplotlib inline  \n",
        "# ^-- this \"magic\" selects specific matplotlib backend suitable for\n",
        "# jupyter notebooks. For more info see:\n",
        "# https://ipython.readthedocs.io/en/stable/interactive/plotting.html#id1\n",
        "\n",
        "# line plot\n",
        "plt.plot([0,1,2,3,4,5],[0,1,4,9,16,25]);"
      ],
      "execution_count": 0,
      "outputs": []
    },
    {
      "metadata": {
        "id": "huybuiQkJXXB",
        "colab_type": "code",
        "colab": {}
      },
      "cell_type": "code",
      "source": [
        "#scatter-plot\n",
        "x = np.arange(5)\n",
        "print(\"x =\", x)\n",
        "print(\"x**2 =\", x**2)\n",
        "print(\"plotting x**2 vs x:\")\n",
        "plt.scatter(x, x**2)\n",
        "\n",
        "plt.show()  # show the first plot and begin drawing next one\n",
        "plt.plot(x, x**2);"
      ],
      "execution_count": 0,
      "outputs": []
    },
    {
      "metadata": {
        "id": "Q4Bj57P_JXXF",
        "colab_type": "code",
        "colab": {}
      },
      "cell_type": "code",
      "source": [
        "# draw a scatter plot with custom markers and colors\n",
        "plt.scatter([1, 1, 2, 3, 4, 4.5], [3, 2, 2, 5, 15, 24],\n",
        "            c=[\"red\", \"blue\", \"orange\", \"green\", \"cyan\", \"gray\"],\n",
        "            marker=\"x\")\n",
        "\n",
        "# without plt.show(), several plots will be drawn on top of one another\n",
        "plt.plot([0, 1, 2, 3, 4, 5], [0, 1, 4, 9, 16, 25], c=\"black\")\n",
        "\n",
        "# adding more sugar\n",
        "plt.title(\"Conspiracy theory proven!!!\")\n",
        "plt.xlabel(\"Per capita alcohol consumption\")\n",
        "plt.ylabel(\"# Layers in state of the art image classifier\");\n",
        "\n",
        "# fun with correlations: http://bit.ly/1FcNnWF"
      ],
      "execution_count": 0,
      "outputs": []
    },
    {
      "metadata": {
        "id": "fz5WDA4YJXXI",
        "colab_type": "code",
        "colab": {}
      },
      "cell_type": "code",
      "source": [
        "# histogram - showing data density\n",
        "plt.hist([0,1,1,1,2,2,3,3,3,3,3,4,4,5,5,5,6,7,7,8,9,10])\n",
        "plt.show()\n",
        "\n",
        "plt.hist([0,1,1,1,2,2,3,3,3,3,3,4,4,5,5,5,6,7,7,8,9,10], bins=5);"
      ],
      "execution_count": 0,
      "outputs": []
    },
    {
      "metadata": {
        "id": "XmapamrGJXXM",
        "colab_type": "code",
        "colab": {}
      },
      "cell_type": "code",
      "source": [
        "# plot a histogram of age and a histogram of ticket fares on separate plots\n",
        "\n",
        "<YOUR CODE>\n",
        "\n",
        "#bonus: use tab to see if there is a way to draw a 2D histogram of age vs fare."
      ],
      "execution_count": 0,
      "outputs": []
    },
    {
      "metadata": {
        "id": "QIzNFjffJXXP",
        "colab_type": "code",
        "colab": {}
      },
      "cell_type": "code",
      "source": [
        "# make a scatter plot of passenger age vs ticket fare\n",
        "\n",
        "<YOUR CODE>\n",
        "\n",
        "# kudos if you add separate colors for men and women"
      ],
      "execution_count": 0,
      "outputs": []
    },
    {
      "metadata": {
        "id": "bHDcDWFKJXXS",
        "colab_type": "text"
      },
      "cell_type": "markdown",
      "source": [
        "* Extended [tutorial](https://matplotlib.org/2.0.2/users/pyplot_tutorial.html)\n",
        "* A [cheat sheet](http://bit.ly/2koHxNF)\n",
        "* Other libraries for more sophisticated stuff: [Seaborn](https://seaborn.pydata.org/), [Plotly](https://plot.ly/python/), and [Bokeh](https://bokeh.pydata.org/en/latest/)"
      ]
    },
    {
      "metadata": {
        "id": "ARBewmPBye4-",
        "colab_type": "text"
      },
      "cell_type": "markdown",
      "source": [
        "## Part V (final): machine learning with scikit-learn"
      ]
    },
    {
      "metadata": {
        "id": "Hpc3yTBjJXXT",
        "colab_type": "text"
      },
      "cell_type": "markdown",
      "source": [
        "<img src='https://imgs.xkcd.com/comics/machine_learning.png' width=320px>\n",
        "\n",
        "Scikit-learn is _the_ tool for simple machine learning pipelines. \n",
        "\n",
        "It's a single library that unites a whole bunch of models under the common interface:\n",
        "* Create:__ `model = sklearn.whatever.ModelNameHere(parameters_if_any)`__\n",
        "* Train:__ `model.fit(X,y)`__\n",
        "* Predict:__ `model.predict(X_test)`__\n",
        "\n",
        "It also contains utilities for feature extraction, quality estimation or cross-validation."
      ]
    },
    {
      "metadata": {
        "id": "JhbbBk93JXXV",
        "colab_type": "code",
        "colab": {}
      },
      "cell_type": "code",
      "source": [
        "from sklearn.neighbors import KNeighborsClassifier\n",
        "from sklearn.metrics import accuracy_score\n",
        "\n",
        "features = data[[\"Fare\", \"SibSp\"]].copy()\n",
        "answers = data[\"Survived\"]\n",
        "\n",
        "model = KNeighborsClassifier(n_neighbors=100)\n",
        "model.fit(features[:-100], answers[:-100])\n",
        "\n",
        "test_predictions = model.predict(features[-100:])\n",
        "print(\"Test accuracy:\", accuracy_score(answers[-100:], test_predictions))"
      ],
      "execution_count": 0,
      "outputs": []
    },
    {
      "metadata": {
        "id": "Wxe6EeCSJXXY",
        "colab_type": "text"
      },
      "cell_type": "markdown",
      "source": [
        "__Final quest:__ tune n_neighbors and add more features to achieve accuracy of at least 0.75\n",
        "\n",
        "\n",
        "__Hint 1:__ for string features like \"Sex\" or \"Embarked\" you will have to compute some kind of numeric representation.\n",
        "For example, 1 if male and 0 if female or vice versa \n",
        "\n",
        "__Hint 2:__ features like \"Age\" contain NaN values. You can replace them with `replaced = data[\"Age\"].fillna(some_number)`."
      ]
    },
    {
      "metadata": {
        "id": "WcdyuBflJXXZ",
        "colab_type": "text"
      },
      "cell_type": "markdown",
      "source": [
        "* Sklearn [tutorials](http://scikit-learn.org/stable/tutorial/index.html)\n",
        "* Sklearn [examples](http://scikit-learn.org/stable/auto_examples/index.html)\n",
        "* Sklearn [cheat sheet](http://scikit-learn.org/stable/_static/ml_map.png)"
      ]
    },
    {
      "metadata": {
        "id": "toDL-cAILb8H",
        "colab_type": "text"
      },
      "cell_type": "markdown",
      "source": [
        "```\n",
        "```\n",
        "```\n",
        "```"
      ]
    },
    {
      "metadata": {
        "id": "_gdvIZBILdoo",
        "colab_type": "text"
      },
      "cell_type": "markdown",
      "source": [
        "## Bonus part"
      ]
    },
    {
      "metadata": {
        "id": "4z88BXYDLunO",
        "colab_type": "text"
      },
      "cell_type": "markdown",
      "source": [
        "### Pandas: adding new columns"
      ]
    },
    {
      "metadata": {
        "id": "fAqszFVKMHCG",
        "colab_type": "text"
      },
      "cell_type": "markdown",
      "source": [
        "To define a new column in a dataframe simply assign to it (if such a column exists it will get overwritten):"
      ]
    },
    {
      "metadata": {
        "id": "jTf14P-ELzXD",
        "colab_type": "code",
        "colab": {}
      },
      "cell_type": "code",
      "source": [
        "data['CabinUnknown'] = data.Cabin.isna()\n",
        "data.head()"
      ],
      "execution_count": 0,
      "outputs": []
    },
    {
      "metadata": {
        "id": "rLtCIDVCMx3t",
        "colab_type": "text"
      },
      "cell_type": "markdown",
      "source": [
        "Be sure to use the approach with a `['ColumnName']` , rather than `.ColumnName`, otherwize it won't work:"
      ]
    },
    {
      "metadata": {
        "id": "ctpV_MWvMh6b",
        "colab_type": "code",
        "colab": {}
      },
      "cell_type": "code",
      "source": [
        "data.this_will_not_work = data.Age**2\n",
        "data.head()"
      ],
      "execution_count": 0,
      "outputs": []
    },
    {
      "metadata": {
        "id": "ErWMVXfvcgrZ",
        "colab_type": "text"
      },
      "cell_type": "markdown",
      "source": [
        "### Pandas: one-hot encoding"
      ]
    },
    {
      "metadata": {
        "id": "YBfOdHGGdCMC",
        "colab_type": "code",
        "colab": {}
      },
      "cell_type": "code",
      "source": [
        "pd.get_dummies(data.Embarked, prefix='Embarked').head()\n",
        "# added .head() for a more compact output"
      ],
      "execution_count": 0,
      "outputs": []
    },
    {
      "metadata": {
        "id": "ZxqeVSdKd0DT",
        "colab_type": "text"
      },
      "cell_type": "markdown",
      "source": [
        "### Pandas: merging tables"
      ]
    },
    {
      "metadata": {
        "id": "AP9PrE8qdyI_",
        "colab_type": "code",
        "colab": {}
      },
      "cell_type": "code",
      "source": [
        "data_extended = pd.concat([\n",
        "                      data,\n",
        "                      pd.get_dummies(data.Embarked, prefix='Embarked')\n",
        "                    ], axis=1)\n",
        "data_extended.head()"
      ],
      "execution_count": 0,
      "outputs": []
    },
    {
      "metadata": {
        "id": "QeaeflaAeQ7W",
        "colab_type": "text"
      },
      "cell_type": "markdown",
      "source": [
        "### Pandas: groupby"
      ]
    },
    {
      "metadata": {
        "id": "fP6HFtuRhwPD",
        "colab_type": "text"
      },
      "cell_type": "markdown",
      "source": [
        "This function provides a neat way to calculate some statistics for groups of entries with some common feature value."
      ]
    },
    {
      "metadata": {
        "id": "y4QeQUKmiDSZ",
        "colab_type": "code",
        "colab": {}
      },
      "cell_type": "code",
      "source": [
        "g = data.groupby('Embarked')\n",
        "# Now `g` is an iterable of dataframes split based on the values\n",
        "# in the 'Embarked' column:\n",
        "\n",
        "for embarked, group in g:\n",
        "  print(embarked, type(group), group.shape)"
      ],
      "execution_count": 0,
      "outputs": []
    },
    {
      "metadata": {
        "id": "cZlGdJ3-jo05",
        "colab_type": "code",
        "colab": {}
      },
      "cell_type": "code",
      "source": [
        "# You can calculate things on the groups simultaniously:\n",
        "\n",
        "g.mean()"
      ],
      "execution_count": 0,
      "outputs": []
    },
    {
      "metadata": {
        "id": "P-3FFL-hj8qP",
        "colab_type": "code",
        "colab": {}
      },
      "cell_type": "code",
      "source": [
        "g.count() # this calculates the number of valid entries (excluding nans)"
      ],
      "execution_count": 0,
      "outputs": []
    },
    {
      "metadata": {
        "id": "c4KA9HsekPiA",
        "colab_type": "code",
        "colab": {}
      },
      "cell_type": "code",
      "source": [
        "# You can also access individual columns:\n",
        "g.Fare.max()"
      ],
      "execution_count": 0,
      "outputs": []
    },
    {
      "metadata": {
        "id": "WRhTgAVHekYH",
        "colab_type": "text"
      },
      "cell_type": "markdown",
      "source": [
        "### Pandas: cut and qcut"
      ]
    },
    {
      "metadata": {
        "id": "c42YbZKlksNz",
        "colab_type": "text"
      },
      "cell_type": "markdown",
      "source": [
        "These functions let us split data into bins: `cut` makes linear splits, while `qcut` makes quantile-based splits. They both return a column of bins to which current entry belongs:"
      ]
    },
    {
      "metadata": {
        "id": "UHMNswNblHeB",
        "colab_type": "code",
        "colab": {}
      },
      "cell_type": "code",
      "source": [
        "pd.cut(data.Age, 3).head() # '.head()' added for a more compact output"
      ],
      "execution_count": 0,
      "outputs": []
    },
    {
      "metadata": {
        "id": "GJGJhcqUlgKC",
        "colab_type": "code",
        "colab": {}
      },
      "cell_type": "code",
      "source": [
        "pd.qcut(data.Age, 3).head() # '.head()' added for a more compact output"
      ],
      "execution_count": 0,
      "outputs": []
    },
    {
      "metadata": {
        "id": "pCGLUZ8CmjD0",
        "colab_type": "text"
      },
      "cell_type": "markdown",
      "source": [
        "### Your turn"
      ]
    },
    {
      "metadata": {
        "id": "G6ryMww4mlK-",
        "colab_type": "text"
      },
      "cell_type": "markdown",
      "source": [
        "Use `cut` and `groupby` to calculate survival rate for 3 age categories.\n",
        "\n",
        "**Hint:** you need to add the result of `cut` as a new column"
      ]
    },
    {
      "metadata": {
        "id": "_VD_cgA8m6WT",
        "colab_type": "code",
        "colab": {}
      },
      "cell_type": "code",
      "source": [
        "<YOUR CODE HERE>"
      ],
      "execution_count": 0,
      "outputs": []
    },
    {
      "metadata": {
        "id": "UYc963-eepev",
        "colab_type": "text"
      },
      "cell_type": "markdown",
      "source": [
        "### Pandas: combining the tricks (survival vs ticket fare)"
      ]
    },
    {
      "metadata": {
        "id": "8aA6C8vbLdJk",
        "colab_type": "code",
        "colab": {}
      },
      "cell_type": "code",
      "source": [
        "from matplotlib.ticker import ScalarFormatter\n",
        "\n",
        "data['qFare'] = pd.qcut(data.Fare, 20)\n",
        "\n",
        "sur_vs_price = data.groupby('qFare').Survived.mean()\n",
        "sur_vs_price_e = data.groupby('qFare').Survived.std() \\\n",
        "                        / data.groupby('qFare').Survived.count()**0.5\n",
        "\n",
        "fig = plt.figure(figsize=(16, 9))\n",
        "plt.errorbar(x=np.round(pd.IntervalIndex(sur_vs_price.index).mid, decimals=2),\n",
        "             y=sur_vs_price.values,\n",
        "             yerr=sur_vs_price_e.values,\n",
        "             xerr=(\n",
        "                 pd.IntervalIndex(sur_vs_price.index).right - \n",
        "                 pd.IntervalIndex(sur_vs_price.index).left\n",
        "               ) / 2,\n",
        "             fmt='o')\n",
        "plt.gca().set_xscale('log')\n",
        "plt.gca().xaxis.set_major_formatter(ScalarFormatter())\n",
        "plt.gca().set_xticks(\n",
        "              list(range(3, 10)) +\n",
        "              list(range(10, 100, 10)) +\n",
        "              list(range(100, 700, 100))\n",
        "            )\n",
        "\n",
        "plt.xlabel('Fare')\n",
        "plt.ylabel('Survival probability');"
      ],
      "execution_count": 0,
      "outputs": []
    },
    {
      "metadata": {
        "id": "5piEuH9gXThV",
        "colab_type": "code",
        "colab": {}
      },
      "cell_type": "code",
      "source": [
        ""
      ],
      "execution_count": 0,
      "outputs": []
    }
  ]
}
