{
 "cells": [
  {
   "cell_type": "markdown",
   "metadata": {},
   "source": [
    "<a href=\"https://colab.research.google.com/github/yandexdataschool/MLatImperial2019/blob/master/03_lab/baseline_kaggle_1.ipynb\" target=\"_parent\"><img src=\"https://colab.research.google.com/assets/colab-badge.svg\" alt=\"Open In Colab\"/></a>"
   ]
  },
  {
   "cell_type": "code",
   "execution_count": 0,
   "metadata": {
    "colab": {},
    "colab_type": "code",
    "id": "V4B1vtoaDrFl"
   },
   "outputs": [],
   "source": [
    "import numpy as np\n",
    "import pickle\n",
    "import os\n",
    "import matplotlib.pyplot as plt\n",
    "%matplotlib inline\n",
    "import scipy\n",
    "from sklearn.metrics import accuracy_score\n",
    "from sklearn.metrics import roc_auc_score\n",
    "import h5py\n",
    "import pandas as pd"
   ]
  },
  {
   "cell_type": "code",
   "execution_count": 0,
   "metadata": {
    "colab": {
     "base_uri": "https://localhost:8080/",
     "height": 34
    },
    "colab_type": "code",
    "id": "PXpAhukdDrdl",
    "outputId": "ccd2c4ef-7b9b-4f45-fb23-d7b6710535e7"
   },
   "outputs": [
    {
     "name": "stdout",
     "output_type": "stream",
     "text": [
      "Drive already mounted at /content/gdrive; to attempt to forcibly remount, call drive.mount(\"/content/gdrive\", force_remount=True).\n"
     ]
    }
   ],
   "source": [
    "from google.colab import drive\n",
    "drive.mount('/content/gdrive')"
   ]
  },
  {
   "cell_type": "code",
   "execution_count": 0,
   "metadata": {
    "colab": {},
    "colab_type": "code",
    "id": "iUS6kNrRDrZo"
   },
   "outputs": [],
   "source": [
    "DATA_PATH = \"/content/gdrive/My Drive/kaggle_1\""
   ]
  },
  {
   "cell_type": "markdown",
   "metadata": {
    "colab_type": "text",
    "id": "6Hvhe6KSnivL"
   },
   "source": [
    "# !Link to challenge!\n",
    "\n",
    "# https://www.kaggle.com/t/590bfa6b77b54fdeb2a28b9cf43c3b16"
   ]
  },
  {
   "cell_type": "markdown",
   "metadata": {
    "colab_type": "text",
    "id": "x9rRvFpBnivR"
   },
   "source": [
    "### Metric\n",
    "\n",
    "For binary classification with a true label y $\\in \\{0,1\\}$ and a probability estimate p = $\\operatorname{Pr}(y = 1)$, the log loss per sample is the negative log-likelihood of the classifier given the true label:\n",
    "$$\n",
    "L_{\\log}(y, p) = -\\log \\operatorname{Pr}(y|p) = -(y \\log (p) + (1 - y) \\log (1 - p))\n",
    "$$\n",
    "\n",
    "This extends to the multiclass case as follows. Let the true labels for a set of samples be encoded as a 1-of-K binary indicator matrix Y, i.e., $y_{i,k} = 1$ if sample i has label k taken from a set of K labels. Let P be a matrix of probability estimates, with $p_{i,k} = \\operatorname{Pr}(t_{i,k} = 1)$. Then the log loss of the whole set is\n",
    "\n",
    "$$\n",
    "L_{\\log}(Y, P) = -\\log \\operatorname{Pr}(Y|P) = - \\frac{1}{N} \\sum_{i=0}^{N-1} \\sum_{k=0}^{K-1} y_{i,k} \\log p_{i,k}\n",
    "$$"
   ]
  },
  {
   "cell_type": "markdown",
   "metadata": {
    "colab_type": "text",
    "id": "kQy4g0bPnivW"
   },
   "source": [
    "# Grading"
   ]
  },
  {
   "cell_type": "markdown",
   "metadata": {
    "colab_type": "text",
    "id": "H9CmGNpdnivb"
   },
   "source": [
    "Your task is to try as many techniques that you have learned this week as possible.\n",
    "\n",
    "The outcome of your work should be a small table with results, i.e \n",
    "Method - parameters tuned with CV - score + features created on top of exiting ones. The table should be accompanied by a small report of your workflow and reasoning. Also, you need to send the code.\n",
    "\n",
    "The archive with the files should be sent to mlaticl2019@yandex.ru with the topic: **Surname_name_kaggle_1**\n",
    "\n",
    "The total amount of points is 10. You will get additional points based on your final ranking.\n",
    "\n",
    "** 1 Point **\n",
    "\n",
    "Try different linear and metric methods. Do all of them work? Why?\n",
    "\n",
    "** 1 Point **\n",
    "\n",
    "Search parameters for linear methods.\n",
    "\n",
    "** 1 Point **\n",
    "\n",
    "Try using PCA or SVD. Is it helpful? Why?\n",
    "\n",
    "** 1-2 Points **\n",
    "\n",
    "Create you own features, st they improve the score.\n",
    "\n",
    "** 2 Points **\n",
    "\n",
    "Try decision trees, forests, boosting. Grid search parameters\n",
    "\n",
    "** 1 Point **\n",
    "\n",
    "Use the discussed techniques to estimate feature importances. Try varying the features used.\n",
    "\n",
    "** 1 Point **\n",
    "\n",
    "Explain, which metric you used as target metric. Try using other metrics (for example, MSE). Is it helpful? Why?\n",
    "\n",
    "** 1 Point **\n",
    "\n",
    "Use stacking and blending of the models trained above? Does it improve your score?\n",
    "\n",
    "** Bonus **\n",
    "\n",
    "Beat medium baseline - + 2 bonus points.\n",
    "\n"
   ]
  },
  {
   "cell_type": "markdown",
   "metadata": {
    "colab_type": "text",
    "id": "UxkQJwJPnivf"
   },
   "source": [
    "## About\n",
    "\n",
    "In this notebook we prepare a simple solution."
   ]
  },
  {
   "cell_type": "code",
   "execution_count": 0,
   "metadata": {
    "colab": {},
    "colab_type": "code",
    "id": "jpmBP4uqnivi"
   },
   "outputs": [],
   "source": [
    "import pandas as pd\n",
    "import numpy as np\n",
    "from sklearn.model_selection import train_test_split\n",
    "from sklearn.metrics import log_loss"
   ]
  },
  {
   "cell_type": "markdown",
   "metadata": {
    "colab_type": "text",
    "id": "Uff51XOqnivq"
   },
   "source": [
    "### Read training and test files"
   ]
  },
  {
   "cell_type": "code",
   "execution_count": 0,
   "metadata": {
    "colab": {},
    "colab_type": "code",
    "id": "rvHLfMQFnivs"
   },
   "outputs": [],
   "source": [
    "data = pd.read_csv(os.path.join(DATA_PATH, 'training.csv.zip'))\n",
    "test = pd.read_csv(os.path.join(DATA_PATH, 'test.csv.zip'))"
   ]
  },
  {
   "cell_type": "code",
   "execution_count": 0,
   "metadata": {
    "colab": {
     "base_uri": "https://localhost:8080/",
     "height": 34
    },
    "colab_type": "code",
    "id": "I49EnMZXGMnD",
    "outputId": "1920d134-9b40-4c03-9143-659988bd4dcf"
   },
   "outputs": [
    {
     "data": {
      "text/plain": [
       "((1200000, 50), (1200000, 50))"
      ]
     },
     "execution_count": 11,
     "metadata": {
      "tags": []
     },
     "output_type": "execute_result"
    }
   ],
   "source": [
    "data.shape, test.shape"
   ]
  },
  {
   "cell_type": "code",
   "execution_count": 0,
   "metadata": {
    "colab": {
     "base_uri": "https://localhost:8080/",
     "height": 253
    },
    "colab_type": "code",
    "id": "gXg8-1DFnivy",
    "outputId": "6f0c3226-ff88-43fb-f5b0-f95711d8e4f4"
   },
   "outputs": [
    {
     "data": {
      "text/html": [
       "<div>\n",
       "<style scoped>\n",
       "    .dataframe tbody tr th:only-of-type {\n",
       "        vertical-align: middle;\n",
       "    }\n",
       "\n",
       "    .dataframe tbody tr th {\n",
       "        vertical-align: top;\n",
       "    }\n",
       "\n",
       "    .dataframe thead th {\n",
       "        text-align: right;\n",
       "    }\n",
       "</style>\n",
       "<table border=\"1\" class=\"dataframe\">\n",
       "  <thead>\n",
       "    <tr style=\"text-align: right;\">\n",
       "      <th></th>\n",
       "      <th>TrackP</th>\n",
       "      <th>TrackNDoFSubdetector2</th>\n",
       "      <th>BremDLLbeElectron</th>\n",
       "      <th>MuonLooseFlag</th>\n",
       "      <th>FlagSpd</th>\n",
       "      <th>SpdE</th>\n",
       "      <th>EcalDLLbeElectron</th>\n",
       "      <th>DLLmuon</th>\n",
       "      <th>RICHpFlagElectron</th>\n",
       "      <th>EcalDLLbeMuon</th>\n",
       "      <th>...</th>\n",
       "      <th>TrackNDoF</th>\n",
       "      <th>RICHpFlagMuon</th>\n",
       "      <th>RICH_DLLbeKaon</th>\n",
       "      <th>RICH_DLLbeElectron</th>\n",
       "      <th>HcalE</th>\n",
       "      <th>MuonFlag</th>\n",
       "      <th>FlagMuon</th>\n",
       "      <th>PrsE</th>\n",
       "      <th>RICH_DLLbeMuon</th>\n",
       "      <th>RICH_DLLbeProton</th>\n",
       "    </tr>\n",
       "  </thead>\n",
       "  <tbody>\n",
       "    <tr>\n",
       "      <th>0</th>\n",
       "      <td>74791.156263</td>\n",
       "      <td>15.0</td>\n",
       "      <td>0.232275</td>\n",
       "      <td>1.0</td>\n",
       "      <td>1.0</td>\n",
       "      <td>3.2</td>\n",
       "      <td>-2.505719</td>\n",
       "      <td>6.604153</td>\n",
       "      <td>1.0</td>\n",
       "      <td>1.929960</td>\n",
       "      <td>...</td>\n",
       "      <td>28.0</td>\n",
       "      <td>1.0</td>\n",
       "      <td>-7.213300</td>\n",
       "      <td>-0.280200</td>\n",
       "      <td>5586.589846</td>\n",
       "      <td>1.0</td>\n",
       "      <td>1.0</td>\n",
       "      <td>10.422315</td>\n",
       "      <td>-2.081143e-07</td>\n",
       "      <td>-24.824400</td>\n",
       "    </tr>\n",
       "    <tr>\n",
       "      <th>1</th>\n",
       "      <td>2738.489989</td>\n",
       "      <td>15.0</td>\n",
       "      <td>-0.357748</td>\n",
       "      <td>0.0</td>\n",
       "      <td>1.0</td>\n",
       "      <td>3.2</td>\n",
       "      <td>1.864351</td>\n",
       "      <td>0.263651</td>\n",
       "      <td>1.0</td>\n",
       "      <td>-2.061959</td>\n",
       "      <td>...</td>\n",
       "      <td>32.0</td>\n",
       "      <td>1.0</td>\n",
       "      <td>-0.324317</td>\n",
       "      <td>1.707283</td>\n",
       "      <td>-0.000007</td>\n",
       "      <td>0.0</td>\n",
       "      <td>1.0</td>\n",
       "      <td>43.334935</td>\n",
       "      <td>2.771583e+00</td>\n",
       "      <td>-0.648017</td>\n",
       "    </tr>\n",
       "    <tr>\n",
       "      <th>2</th>\n",
       "      <td>2161.409908</td>\n",
       "      <td>17.0</td>\n",
       "      <td>-999.000000</td>\n",
       "      <td>0.0</td>\n",
       "      <td>0.0</td>\n",
       "      <td>-999.0</td>\n",
       "      <td>-999.000000</td>\n",
       "      <td>-999.000000</td>\n",
       "      <td>0.0</td>\n",
       "      <td>-999.000000</td>\n",
       "      <td>...</td>\n",
       "      <td>27.0</td>\n",
       "      <td>0.0</td>\n",
       "      <td>-999.000000</td>\n",
       "      <td>-999.000000</td>\n",
       "      <td>-999.000000</td>\n",
       "      <td>0.0</td>\n",
       "      <td>0.0</td>\n",
       "      <td>-999.000000</td>\n",
       "      <td>-9.990000e+02</td>\n",
       "      <td>-999.000000</td>\n",
       "    </tr>\n",
       "    <tr>\n",
       "      <th>3</th>\n",
       "      <td>15277.730490</td>\n",
       "      <td>20.0</td>\n",
       "      <td>-0.638984</td>\n",
       "      <td>0.0</td>\n",
       "      <td>1.0</td>\n",
       "      <td>3.2</td>\n",
       "      <td>-2.533918</td>\n",
       "      <td>-8.724949</td>\n",
       "      <td>1.0</td>\n",
       "      <td>-3.253981</td>\n",
       "      <td>...</td>\n",
       "      <td>36.0</td>\n",
       "      <td>1.0</td>\n",
       "      <td>-35.202221</td>\n",
       "      <td>-14.742319</td>\n",
       "      <td>4482.803707</td>\n",
       "      <td>0.0</td>\n",
       "      <td>1.0</td>\n",
       "      <td>2.194175</td>\n",
       "      <td>-3.070819e+00</td>\n",
       "      <td>-29.291519</td>\n",
       "    </tr>\n",
       "    <tr>\n",
       "      <th>4</th>\n",
       "      <td>7563.700195</td>\n",
       "      <td>19.0</td>\n",
       "      <td>-0.638962</td>\n",
       "      <td>0.0</td>\n",
       "      <td>1.0</td>\n",
       "      <td>3.2</td>\n",
       "      <td>-2.087146</td>\n",
       "      <td>-7.060422</td>\n",
       "      <td>1.0</td>\n",
       "      <td>-0.995816</td>\n",
       "      <td>...</td>\n",
       "      <td>33.0</td>\n",
       "      <td>1.0</td>\n",
       "      <td>25.084287</td>\n",
       "      <td>-10.272412</td>\n",
       "      <td>5107.554680</td>\n",
       "      <td>0.0</td>\n",
       "      <td>1.0</td>\n",
       "      <td>0.000015</td>\n",
       "      <td>-5.373712e+00</td>\n",
       "      <td>23.653087</td>\n",
       "    </tr>\n",
       "  </tbody>\n",
       "</table>\n",
       "<p>5 rows × 50 columns</p>\n",
       "</div>"
      ],
      "text/plain": [
       "         TrackP  TrackNDoFSubdetector2  BremDLLbeElectron  MuonLooseFlag  \\\n",
       "0  74791.156263                   15.0           0.232275            1.0   \n",
       "1   2738.489989                   15.0          -0.357748            0.0   \n",
       "2   2161.409908                   17.0        -999.000000            0.0   \n",
       "3  15277.730490                   20.0          -0.638984            0.0   \n",
       "4   7563.700195                   19.0          -0.638962            0.0   \n",
       "\n",
       "   FlagSpd   SpdE  EcalDLLbeElectron     DLLmuon  RICHpFlagElectron  \\\n",
       "0      1.0    3.2          -2.505719    6.604153                1.0   \n",
       "1      1.0    3.2           1.864351    0.263651                1.0   \n",
       "2      0.0 -999.0        -999.000000 -999.000000                0.0   \n",
       "3      1.0    3.2          -2.533918   -8.724949                1.0   \n",
       "4      1.0    3.2          -2.087146   -7.060422                1.0   \n",
       "\n",
       "   EcalDLLbeMuon        ...         TrackNDoF  RICHpFlagMuon  RICH_DLLbeKaon  \\\n",
       "0       1.929960        ...              28.0            1.0       -7.213300   \n",
       "1      -2.061959        ...              32.0            1.0       -0.324317   \n",
       "2    -999.000000        ...              27.0            0.0     -999.000000   \n",
       "3      -3.253981        ...              36.0            1.0      -35.202221   \n",
       "4      -0.995816        ...              33.0            1.0       25.084287   \n",
       "\n",
       "   RICH_DLLbeElectron        HcalE  MuonFlag  FlagMuon        PrsE  \\\n",
       "0           -0.280200  5586.589846       1.0       1.0   10.422315   \n",
       "1            1.707283    -0.000007       0.0       1.0   43.334935   \n",
       "2         -999.000000  -999.000000       0.0       0.0 -999.000000   \n",
       "3          -14.742319  4482.803707       0.0       1.0    2.194175   \n",
       "4          -10.272412  5107.554680       0.0       1.0    0.000015   \n",
       "\n",
       "   RICH_DLLbeMuon  RICH_DLLbeProton  \n",
       "0   -2.081143e-07        -24.824400  \n",
       "1    2.771583e+00         -0.648017  \n",
       "2   -9.990000e+02       -999.000000  \n",
       "3   -3.070819e+00        -29.291519  \n",
       "4   -5.373712e+00         23.653087  \n",
       "\n",
       "[5 rows x 50 columns]"
      ]
     },
     "execution_count": 12,
     "metadata": {
      "tags": []
     },
     "output_type": "execute_result"
    }
   ],
   "source": [
    "data.head()"
   ]
  },
  {
   "cell_type": "code",
   "execution_count": 0,
   "metadata": {
    "colab": {
     "base_uri": "https://localhost:8080/",
     "height": 253
    },
    "colab_type": "code",
    "id": "LpTf_I_SniwC",
    "outputId": "bb6aa7d4-8db3-4151-cf87-05447296eebe"
   },
   "outputs": [
    {
     "data": {
      "text/html": [
       "<div>\n",
       "<style scoped>\n",
       "    .dataframe tbody tr th:only-of-type {\n",
       "        vertical-align: middle;\n",
       "    }\n",
       "\n",
       "    .dataframe tbody tr th {\n",
       "        vertical-align: top;\n",
       "    }\n",
       "\n",
       "    .dataframe thead th {\n",
       "        text-align: right;\n",
       "    }\n",
       "</style>\n",
       "<table border=\"1\" class=\"dataframe\">\n",
       "  <thead>\n",
       "    <tr style=\"text-align: right;\">\n",
       "      <th></th>\n",
       "      <th>TrackP</th>\n",
       "      <th>TrackNDoFSubdetector2</th>\n",
       "      <th>BremDLLbeElectron</th>\n",
       "      <th>MuonLooseFlag</th>\n",
       "      <th>FlagSpd</th>\n",
       "      <th>SpdE</th>\n",
       "      <th>EcalDLLbeElectron</th>\n",
       "      <th>DLLmuon</th>\n",
       "      <th>RICHpFlagElectron</th>\n",
       "      <th>EcalDLLbeMuon</th>\n",
       "      <th>...</th>\n",
       "      <th>RICHpFlagMuon</th>\n",
       "      <th>RICH_DLLbeKaon</th>\n",
       "      <th>RICH_DLLbeElectron</th>\n",
       "      <th>HcalE</th>\n",
       "      <th>MuonFlag</th>\n",
       "      <th>FlagMuon</th>\n",
       "      <th>PrsE</th>\n",
       "      <th>RICH_DLLbeMuon</th>\n",
       "      <th>RICH_DLLbeProton</th>\n",
       "      <th>ID</th>\n",
       "    </tr>\n",
       "  </thead>\n",
       "  <tbody>\n",
       "    <tr>\n",
       "      <th>0</th>\n",
       "      <td>55086.199233</td>\n",
       "      <td>18.0</td>\n",
       "      <td>-0.438763</td>\n",
       "      <td>0.0</td>\n",
       "      <td>1.0</td>\n",
       "      <td>3.2</td>\n",
       "      <td>-1.843821</td>\n",
       "      <td>-4.579244</td>\n",
       "      <td>1.0</td>\n",
       "      <td>-1.732886</td>\n",
       "      <td>...</td>\n",
       "      <td>1.0</td>\n",
       "      <td>18.674086</td>\n",
       "      <td>-1.355015</td>\n",
       "      <td>24510.990244</td>\n",
       "      <td>0.0</td>\n",
       "      <td>1.0</td>\n",
       "      <td>9.325265</td>\n",
       "      <td>-0.250015</td>\n",
       "      <td>35.408585</td>\n",
       "      <td>0</td>\n",
       "    </tr>\n",
       "    <tr>\n",
       "      <th>1</th>\n",
       "      <td>3393.820071</td>\n",
       "      <td>17.0</td>\n",
       "      <td>-0.554341</td>\n",
       "      <td>0.0</td>\n",
       "      <td>1.0</td>\n",
       "      <td>0.0</td>\n",
       "      <td>-0.883237</td>\n",
       "      <td>-6.203035</td>\n",
       "      <td>1.0</td>\n",
       "      <td>-0.097206</td>\n",
       "      <td>...</td>\n",
       "      <td>1.0</td>\n",
       "      <td>16.536804</td>\n",
       "      <td>-17.601196</td>\n",
       "      <td>778.675303</td>\n",
       "      <td>0.0</td>\n",
       "      <td>1.0</td>\n",
       "      <td>-0.000006</td>\n",
       "      <td>-6.646096</td>\n",
       "      <td>14.011904</td>\n",
       "      <td>1</td>\n",
       "    </tr>\n",
       "    <tr>\n",
       "      <th>2</th>\n",
       "      <td>18341.359361</td>\n",
       "      <td>12.0</td>\n",
       "      <td>-0.554339</td>\n",
       "      <td>0.0</td>\n",
       "      <td>1.0</td>\n",
       "      <td>0.0</td>\n",
       "      <td>-2.653786</td>\n",
       "      <td>-3.922639</td>\n",
       "      <td>1.0</td>\n",
       "      <td>0.936484</td>\n",
       "      <td>...</td>\n",
       "      <td>1.0</td>\n",
       "      <td>-1.306109</td>\n",
       "      <td>-4.536409</td>\n",
       "      <td>7915.212420</td>\n",
       "      <td>0.0</td>\n",
       "      <td>1.0</td>\n",
       "      <td>1.371346</td>\n",
       "      <td>-2.132609</td>\n",
       "      <td>-5.617409</td>\n",
       "      <td>2</td>\n",
       "    </tr>\n",
       "    <tr>\n",
       "      <th>3</th>\n",
       "      <td>27486.710933</td>\n",
       "      <td>7.0</td>\n",
       "      <td>-0.492411</td>\n",
       "      <td>1.0</td>\n",
       "      <td>1.0</td>\n",
       "      <td>3.2</td>\n",
       "      <td>-999.000000</td>\n",
       "      <td>2.034453</td>\n",
       "      <td>1.0</td>\n",
       "      <td>-999.000000</td>\n",
       "      <td>...</td>\n",
       "      <td>1.0</td>\n",
       "      <td>-4.222793</td>\n",
       "      <td>3.149207</td>\n",
       "      <td>-999.000000</td>\n",
       "      <td>1.0</td>\n",
       "      <td>1.0</td>\n",
       "      <td>61.985428</td>\n",
       "      <td>0.946207</td>\n",
       "      <td>-8.657193</td>\n",
       "      <td>3</td>\n",
       "    </tr>\n",
       "    <tr>\n",
       "      <th>4</th>\n",
       "      <td>6842.249996</td>\n",
       "      <td>16.0</td>\n",
       "      <td>0.098706</td>\n",
       "      <td>0.0</td>\n",
       "      <td>1.0</td>\n",
       "      <td>3.2</td>\n",
       "      <td>2.644499</td>\n",
       "      <td>-1.471364</td>\n",
       "      <td>1.0</td>\n",
       "      <td>-2.909470</td>\n",
       "      <td>...</td>\n",
       "      <td>1.0</td>\n",
       "      <td>-3.425113</td>\n",
       "      <td>23.147387</td>\n",
       "      <td>-0.000013</td>\n",
       "      <td>0.0</td>\n",
       "      <td>1.0</td>\n",
       "      <td>2.468453</td>\n",
       "      <td>2.614987</td>\n",
       "      <td>-5.713513</td>\n",
       "      <td>4</td>\n",
       "    </tr>\n",
       "  </tbody>\n",
       "</table>\n",
       "<p>5 rows × 50 columns</p>\n",
       "</div>"
      ],
      "text/plain": [
       "         TrackP  TrackNDoFSubdetector2  BremDLLbeElectron  MuonLooseFlag  \\\n",
       "0  55086.199233                   18.0          -0.438763            0.0   \n",
       "1   3393.820071                   17.0          -0.554341            0.0   \n",
       "2  18341.359361                   12.0          -0.554339            0.0   \n",
       "3  27486.710933                    7.0          -0.492411            1.0   \n",
       "4   6842.249996                   16.0           0.098706            0.0   \n",
       "\n",
       "   FlagSpd  SpdE  EcalDLLbeElectron   DLLmuon  RICHpFlagElectron  \\\n",
       "0      1.0   3.2          -1.843821 -4.579244                1.0   \n",
       "1      1.0   0.0          -0.883237 -6.203035                1.0   \n",
       "2      1.0   0.0          -2.653786 -3.922639                1.0   \n",
       "3      1.0   3.2        -999.000000  2.034453                1.0   \n",
       "4      1.0   3.2           2.644499 -1.471364                1.0   \n",
       "\n",
       "   EcalDLLbeMuon ...  RICHpFlagMuon  RICH_DLLbeKaon  RICH_DLLbeElectron  \\\n",
       "0      -1.732886 ...            1.0       18.674086           -1.355015   \n",
       "1      -0.097206 ...            1.0       16.536804          -17.601196   \n",
       "2       0.936484 ...            1.0       -1.306109           -4.536409   \n",
       "3    -999.000000 ...            1.0       -4.222793            3.149207   \n",
       "4      -2.909470 ...            1.0       -3.425113           23.147387   \n",
       "\n",
       "          HcalE  MuonFlag  FlagMuon       PrsE  RICH_DLLbeMuon  \\\n",
       "0  24510.990244       0.0       1.0   9.325265       -0.250015   \n",
       "1    778.675303       0.0       1.0  -0.000006       -6.646096   \n",
       "2   7915.212420       0.0       1.0   1.371346       -2.132609   \n",
       "3   -999.000000       1.0       1.0  61.985428        0.946207   \n",
       "4     -0.000013       0.0       1.0   2.468453        2.614987   \n",
       "\n",
       "   RICH_DLLbeProton  ID  \n",
       "0         35.408585   0  \n",
       "1         14.011904   1  \n",
       "2         -5.617409   2  \n",
       "3         -8.657193   3  \n",
       "4         -5.713513   4  \n",
       "\n",
       "[5 rows x 50 columns]"
      ]
     },
     "execution_count": 13,
     "metadata": {
      "tags": []
     },
     "output_type": "execute_result"
    }
   ],
   "source": [
    "test.head()"
   ]
  },
  {
   "cell_type": "markdown",
   "metadata": {
    "colab_type": "text",
    "id": "6dQOUeAEniwM"
   },
   "source": [
    "### Look at the labels set"
   ]
  },
  {
   "cell_type": "code",
   "execution_count": 0,
   "metadata": {
    "colab": {
     "base_uri": "https://localhost:8080/",
     "height": 34
    },
    "colab_type": "code",
    "id": "w-aoq8WWniwR",
    "outputId": "b7036fc7-577a-4329-b4b4-1bbc876ab494"
   },
   "outputs": [
    {
     "data": {
      "text/plain": [
       "{'Electron', 'Ghost', 'Kaon', 'Muon', 'Pion', 'Proton'}"
      ]
     },
     "execution_count": 14,
     "metadata": {
      "tags": []
     },
     "output_type": "execute_result"
    }
   ],
   "source": [
    "set(data.Label)"
   ]
  },
  {
   "cell_type": "markdown",
   "metadata": {
    "colab_type": "text",
    "id": "2lJPD-f6niwa"
   },
   "source": [
    "### Define training features\n",
    "\n",
    "Exclude `Label` from the features set"
   ]
  },
  {
   "cell_type": "code",
   "execution_count": 0,
   "metadata": {
    "colab": {
     "base_uri": "https://localhost:8080/",
     "height": 850
    },
    "colab_type": "code",
    "id": "5MmyGiXfniwb",
    "outputId": "7965a799-92fa-495f-e679-f531fec12906"
   },
   "outputs": [
    {
     "data": {
      "text/plain": [
       "['GhostProbability',\n",
       " 'RICHpFlagPion',\n",
       " 'EcalE',\n",
       " 'RICHpFlagMuon',\n",
       " 'EcalShowerLongitudinalParameter',\n",
       " 'RICH_DLLbeBCK',\n",
       " 'RICHpFlagElectron',\n",
       " 'RICHpFlagProton',\n",
       " 'PrsE',\n",
       " 'HcalDLLbeMuon',\n",
       " 'FlagSpd',\n",
       " 'MuonLLbeMuon',\n",
       " 'TrackQualitySubdetector1',\n",
       " 'Calo2dFitQuality',\n",
       " 'DLLelectron',\n",
       " 'TrackQualitySubdetector2',\n",
       " 'DLLproton',\n",
       " 'FlagHcal',\n",
       " 'FlagBrem',\n",
       " 'RICH_DLLbeProton',\n",
       " 'FlagPrs',\n",
       " 'BremDLLbeElectron',\n",
       " 'HcalE',\n",
       " 'RICH_DLLbeKaon',\n",
       " 'HcalDLLbeElectron',\n",
       " 'FlagRICH2',\n",
       " 'TrackNDoFSubdetector2',\n",
       " 'MuonLooseFlag',\n",
       " 'MuonLLbeBCK',\n",
       " 'TrackNDoF',\n",
       " 'TrackPt',\n",
       " 'TrackDistanceToZ',\n",
       " 'Calo3dFitQuality',\n",
       " 'TrackNDoFSubdetector1',\n",
       " 'TrackP',\n",
       " 'DLLmuon',\n",
       " 'PrsDLLbeElectron',\n",
       " 'DLLkaon',\n",
       " 'FlagEcal',\n",
       " 'RICHpFlagKaon',\n",
       " 'SpdE',\n",
       " 'EcalDLLbeElectron',\n",
       " 'EcalDLLbeMuon',\n",
       " 'FlagMuon',\n",
       " 'RICH_DLLbeElectron',\n",
       " 'MuonFlag',\n",
       " 'RICH_DLLbeMuon',\n",
       " 'TrackQualityPerNDoF',\n",
       " 'FlagRICH1']"
      ]
     },
     "execution_count": 15,
     "metadata": {
      "tags": []
     },
     "output_type": "execute_result"
    }
   ],
   "source": [
    "features = list(set(data.columns) - {'Label'})\n",
    "features"
   ]
  },
  {
   "cell_type": "markdown",
   "metadata": {
    "colab_type": "text",
    "id": "4mV2Z4dUniwl"
   },
   "source": [
    "### Divide training data into 2 parts"
   ]
  },
  {
   "cell_type": "code",
   "execution_count": 0,
   "metadata": {
    "colab": {
     "base_uri": "https://localhost:8080/",
     "height": 71
    },
    "colab_type": "code",
    "id": "Bm5eCaW4niwn",
    "outputId": "3670cb3d-3e4b-4de4-8fb6-ff1f29075bd6"
   },
   "outputs": [
    {
     "name": "stderr",
     "output_type": "stream",
     "text": [
      "/usr/local/lib/python3.6/dist-packages/sklearn/model_selection/_split.py:2179: FutureWarning: From version 0.21, test_size will always complement train_size unless both are specified.\n",
      "  FutureWarning)\n"
     ]
    }
   ],
   "source": [
    "training_data, validation_data = train_test_split(data, random_state=11, train_size=0.10)"
   ]
  },
  {
   "cell_type": "code",
   "execution_count": 0,
   "metadata": {
    "colab": {
     "base_uri": "https://localhost:8080/",
     "height": 34
    },
    "colab_type": "code",
    "id": "BhwNCCQLniwr",
    "outputId": "4870f1c6-9c9b-4cfe-9d84-0827072ac104"
   },
   "outputs": [
    {
     "data": {
      "text/plain": [
       "(120000, 1080000)"
      ]
     },
     "execution_count": 17,
     "metadata": {
      "tags": []
     },
     "output_type": "execute_result"
    }
   ],
   "source": [
    "len(training_data), len(validation_data)"
   ]
  },
  {
   "cell_type": "markdown",
   "metadata": {
    "colab_type": "text",
    "id": "OjSJ0TLSniww"
   },
   "source": [
    "### Simple logistic regression forest from `sklearn` training\n",
    "\n",
    "train multiclassification model"
   ]
  },
  {
   "cell_type": "code",
   "execution_count": 0,
   "metadata": {
    "colab": {},
    "colab_type": "code",
    "id": "XKeRGnijniwx"
   },
   "outputs": [],
   "source": [
    "from sklearn.linear_model import LogisticRegression\n",
    "from sklearn.model_selection import GridSearchCV"
   ]
  },
  {
   "cell_type": "code",
   "execution_count": 0,
   "metadata": {
    "colab": {},
    "colab_type": "code",
    "id": "HtwVjVJZniw3"
   },
   "outputs": [],
   "source": [
    "from sklearn.preprocessing import StandardScaler\n",
    "\n",
    "scaler = StandardScaler()\n",
    "\n",
    "X_train = scaler.fit_transform(training_data[features])"
   ]
  },
  {
   "cell_type": "code",
   "execution_count": 0,
   "metadata": {
    "colab": {
     "base_uri": "https://localhost:8080/",
     "height": 156
    },
    "colab_type": "code",
    "id": "pe5BVzNWniw6",
    "outputId": "9055ec87-2940-43aa-df32-077e8343febd"
   },
   "outputs": [
    {
     "name": "stdout",
     "output_type": "stream",
     "text": [
      "Fitting 3 folds for each of 2 candidates, totalling 6 fits\n"
     ]
    },
    {
     "name": "stderr",
     "output_type": "stream",
     "text": [
      "[Parallel(n_jobs=-1)]: Using backend LokyBackend with 2 concurrent workers.\n",
      "[Parallel(n_jobs=-1)]: Done   6 out of   6 | elapsed:  1.8min finished\n"
     ]
    },
    {
     "name": "stdout",
     "output_type": "stream",
     "text": [
      "CPU times: user 38.8 s, sys: 187 ms, total: 39 s\n",
      "Wall time: 2min 28s\n"
     ]
    },
    {
     "name": "stderr",
     "output_type": "stream",
     "text": [
      "/usr/local/lib/python3.6/dist-packages/sklearn/linear_model/sag.py:334: ConvergenceWarning: The max_iter was reached which means the coef_ did not converge\n",
      "  \"the coef_ did not converge\", ConvergenceWarning)\n"
     ]
    }
   ],
   "source": [
    "%%time\n",
    "\n",
    "clf = LogisticRegression(penalty='l2', n_jobs=-1, solver='saga', multi_class='multinomial', random_state=42)\n",
    "param_grid = {'C': [0.1, 1]}\n",
    "\n",
    "gscv = GridSearchCV(clf, param_grid, scoring='neg_log_loss', cv=3, n_jobs=-1, verbose=1)\n",
    "gscv.fit(X_train, training_data.Label)"
   ]
  },
  {
   "cell_type": "code",
   "execution_count": 0,
   "metadata": {
    "colab": {
     "base_uri": "https://localhost:8080/",
     "height": 547
    },
    "colab_type": "code",
    "id": "N6WtAsUAnixA",
    "outputId": "278e94c5-f706-4333-8f1e-3005bd7fa4a7"
   },
   "outputs": [
    {
     "name": "stderr",
     "output_type": "stream",
     "text": [
      "/usr/local/lib/python3.6/dist-packages/sklearn/utils/deprecation.py:125: FutureWarning: You are accessing a training score ('mean_train_score'), which will not be available by default any more in 0.21. If you need training scores, please set return_train_score=True\n",
      "  warnings.warn(*warn_args, **warn_kwargs)\n",
      "/usr/local/lib/python3.6/dist-packages/sklearn/utils/deprecation.py:125: FutureWarning: You are accessing a training score ('split0_train_score'), which will not be available by default any more in 0.21. If you need training scores, please set return_train_score=True\n",
      "  warnings.warn(*warn_args, **warn_kwargs)\n",
      "/usr/local/lib/python3.6/dist-packages/sklearn/utils/deprecation.py:125: FutureWarning: You are accessing a training score ('split1_train_score'), which will not be available by default any more in 0.21. If you need training scores, please set return_train_score=True\n",
      "  warnings.warn(*warn_args, **warn_kwargs)\n",
      "/usr/local/lib/python3.6/dist-packages/sklearn/utils/deprecation.py:125: FutureWarning: You are accessing a training score ('split2_train_score'), which will not be available by default any more in 0.21. If you need training scores, please set return_train_score=True\n",
      "  warnings.warn(*warn_args, **warn_kwargs)\n",
      "/usr/local/lib/python3.6/dist-packages/sklearn/utils/deprecation.py:125: FutureWarning: You are accessing a training score ('std_train_score'), which will not be available by default any more in 0.21. If you need training scores, please set return_train_score=True\n",
      "  warnings.warn(*warn_args, **warn_kwargs)\n"
     ]
    },
    {
     "data": {
      "text/plain": [
       "{'mean_fit_time': array([34.65780274, 35.07985179]),\n",
       " 'mean_score_time': array([0.41966661, 0.36462768]),\n",
       " 'mean_test_score': array([-0.87774634, -0.87361161]),\n",
       " 'mean_train_score': array([-0.87553757, -0.87138096]),\n",
       " 'param_C': masked_array(data=[0.1, 1],\n",
       "              mask=[False, False],\n",
       "        fill_value='?',\n",
       "             dtype=object),\n",
       " 'params': [{'C': 0.1}, {'C': 1}],\n",
       " 'rank_test_score': array([2, 1], dtype=int32),\n",
       " 'split0_test_score': array([-0.90848259, -0.90595279]),\n",
       " 'split0_train_score': array([-0.90506437, -0.90247521]),\n",
       " 'split1_test_score': array([-0.81828495, -0.81098105]),\n",
       " 'split1_train_score': array([-0.81632204, -0.80901035]),\n",
       " 'split2_test_score': array([-0.90647142, -0.90390092]),\n",
       " 'split2_train_score': array([-0.9052263 , -0.90265731]),\n",
       " 'std_fit_time': array([0.11267883, 0.18753866]),\n",
       " 'std_score_time': array([0.05861189, 0.01642174]),\n",
       " 'std_test_score': array([0.04205356, 0.04429441]),\n",
       " 'std_train_score': array([0.04187175, 0.04410274])}"
      ]
     },
     "execution_count": 18,
     "metadata": {
      "tags": []
     },
     "output_type": "execute_result"
    }
   ],
   "source": [
    "gscv.cv_results_"
   ]
  },
  {
   "cell_type": "markdown",
   "metadata": {
    "colab_type": "text",
    "id": "IsbpawjnnixH"
   },
   "source": [
    "Train best model:"
   ]
  },
  {
   "cell_type": "code",
   "execution_count": 0,
   "metadata": {
    "colab": {
     "base_uri": "https://localhost:8080/",
     "height": 85
    },
    "colab_type": "code",
    "id": "t6Rog1QjnixI",
    "outputId": "8ebeb6f7-5778-4019-e880-60e65ae89977"
   },
   "outputs": [
    {
     "name": "stdout",
     "output_type": "stream",
     "text": [
      "CPU times: user 37.3 s, sys: 30.5 ms, total: 37.3 s\n",
      "Wall time: 37.4 s\n"
     ]
    },
    {
     "name": "stderr",
     "output_type": "stream",
     "text": [
      "/usr/local/lib/python3.6/dist-packages/sklearn/linear_model/sag.py:334: ConvergenceWarning: The max_iter was reached which means the coef_ did not converge\n",
      "  \"the coef_ did not converge\", ConvergenceWarning)\n"
     ]
    }
   ],
   "source": [
    "%%time\n",
    "c = 1\n",
    "clf = LogisticRegression(penalty='l2', C=c, n_jobs=-1, solver='saga', multi_class='multinomial')\n",
    "clf.fit(X_train, training_data.Label)"
   ]
  },
  {
   "cell_type": "markdown",
   "metadata": {
    "colab_type": "text",
    "id": "D-tMaH8inixP"
   },
   "source": [
    "### Evaluate predictions on the validation sample"
   ]
  },
  {
   "cell_type": "code",
   "execution_count": 0,
   "metadata": {
    "colab": {},
    "colab_type": "code",
    "id": "dJrnonzAnixQ"
   },
   "outputs": [],
   "source": [
    "# predict each track\n",
    "X_val = scaler.fit_transform(validation_data[features])\n",
    "proba = clf.predict_proba(X_val)"
   ]
  },
  {
   "cell_type": "markdown",
   "metadata": {
    "colab_type": "text",
    "id": "rrixTQGmnixU"
   },
   "source": [
    "### Log loss on the cross validation sample"
   ]
  },
  {
   "cell_type": "code",
   "execution_count": 0,
   "metadata": {
    "colab": {
     "base_uri": "https://localhost:8080/",
     "height": 34
    },
    "colab_type": "code",
    "id": "dNRK_PXLnixV",
    "outputId": "ad71692f-6476-4fe4-ba5d-d2eb4652b3a4"
   },
   "outputs": [
    {
     "data": {
      "text/plain": [
       "0.8708060229871727"
      ]
     },
     "execution_count": 22,
     "metadata": {
      "tags": []
     },
     "output_type": "execute_result"
    }
   ],
   "source": [
    "log_loss(validation_data.Label, proba)"
   ]
  },
  {
   "cell_type": "markdown",
   "metadata": {
    "colab_type": "text",
    "id": "M9u_Ci2lnixa"
   },
   "source": [
    "## Prepare submission to kaggle"
   ]
  },
  {
   "cell_type": "code",
   "execution_count": 0,
   "metadata": {
    "colab": {},
    "colab_type": "code",
    "id": "fy3D6t5Qnixc"
   },
   "outputs": [],
   "source": [
    "# predict test sample\n",
    "X_test = scaler.fit_transform(test[features])\n",
    "kaggle_proba = clf.predict_proba(X_test)\n",
    "kaggle_ids = test.ID"
   ]
  },
  {
   "cell_type": "code",
   "execution_count": 0,
   "metadata": {
    "colab": {
     "base_uri": "https://localhost:8080/",
     "height": 34
    },
    "colab_type": "code",
    "id": "AcScoZgmnixk",
    "outputId": "409e7ee7-a745-4948-8260-8dde64f1ad81"
   },
   "outputs": [
    {
     "data": {
      "text/html": [
       "<a href='/content/gdrive/My Drive/kaggle_1/baseline.csv' target='_blank'>/content/gdrive/My Drive/kaggle_1/baseline.csv</a><br>"
      ],
      "text/plain": [
       "/content/gdrive/My Drive/kaggle_1/baseline.csv"
      ]
     },
     "execution_count": 23,
     "metadata": {
      "tags": []
     },
     "output_type": "execute_result"
    }
   ],
   "source": [
    "from IPython.display import FileLink\n",
    "\n",
    "def create_solution(ids, proba, names, filename='baseline.csv'):\n",
    "    \"\"\"saves predictions to file and provides a link for downloading \"\"\"\n",
    "    solution = pd.DataFrame({'ID': ids})\n",
    "    \n",
    "    for name in ['Ghost', 'Electron', 'Muon', 'Pion', 'Kaon', 'Proton']:\n",
    "        solution[name] = proba[:, np.where(names == name)[0]]\n",
    "    \n",
    "    solution.to_csv(os.path.join(DATA_PATH, '{}'.format(filename)), index=False)\n",
    "    return FileLink(os.path.join(DATA_PATH, '{}'.format(filename)))\n",
    "    \n",
    "create_solution(kaggle_ids, kaggle_proba, clf.classes_)"
   ]
  },
  {
   "cell_type": "markdown",
   "metadata": {
    "colab_type": "text",
    "id": "JlYLod36OKDJ"
   },
   "source": [
    "# Lets use kaggle API again to submit results"
   ]
  },
  {
   "cell_type": "code",
   "execution_count": 0,
   "metadata": {
    "colab": {
     "base_uri": "https://localhost:8080/",
     "height": 34
    },
    "colab_type": "code",
    "id": "ygCq1KK_X-2x",
    "outputId": "a34a4953-7463-4add-91f7-077bee5a8373"
   },
   "outputs": [
    {
     "name": "stdout",
     "output_type": "stream",
     "text": [
      "mkdir: cannot create directory ‘/content/.kaggle’: File exists\n"
     ]
    }
   ],
   "source": [
    "!mkdir /content/.kaggle\n",
    "!cp /content/gdrive/My\\ Drive/kaggle.json /content/.kaggle/\n",
    "!chmod 600 /content/.kaggle/kaggle.json"
   ]
  },
  {
   "cell_type": "code",
   "execution_count": 0,
   "metadata": {
    "colab": {
     "base_uri": "https://localhost:8080/",
     "height": 34
    },
    "colab_type": "code",
    "id": "Yi8T5T7bXiUj",
    "outputId": "d75139d3-1331-49e5-b2c5-15995a9814c4"
   },
   "outputs": [
    {
     "name": "stdout",
     "output_type": "stream",
     "text": [
      "env: KAGGLE_CONFIG_DIR=/content/.kaggle\n"
     ]
    }
   ],
   "source": [
    "%env KAGGLE_CONFIG_DIR=/content/.kaggle"
   ]
  },
  {
   "cell_type": "code",
   "execution_count": 0,
   "metadata": {
    "colab": {
     "base_uri": "https://localhost:8080/",
     "height": 51
    },
    "colab_type": "code",
    "id": "UTZxKwPGMd6S",
    "outputId": "683203b3-58a2-405e-abe5-56af28a6ca91"
   },
   "outputs": [
    {
     "name": "stdout",
     "output_type": "stream",
     "text": [
      "100% 147M/147M [00:04<00:00, 36.1MB/s]\n",
      "Successfully submitted to PID(ICL2018)"
     ]
    }
   ],
   "source": [
    "!kaggle competitions submit -c icl2019-pid -f \"{DATA_PATH}/baseline.csv\" -m \"Message\""
   ]
  },
  {
   "cell_type": "code",
   "execution_count": 0,
   "metadata": {
    "colab": {},
    "colab_type": "code",
    "id": "DopCJRHoS07H"
   },
   "outputs": [],
   "source": []
  }
 ],
 "metadata": {
  "colab": {
   "collapsed_sections": [],
   "name": "baseline_kaggle_1.ipynb",
   "provenance": [],
   "version": "0.3.2"
  },
  "kernelspec": {
   "display_name": "Python 3",
   "language": "python",
   "name": "python3"
  },
  "language_info": {
   "codemirror_mode": {
    "name": "ipython",
    "version": 3
   },
   "file_extension": ".py",
   "mimetype": "text/x-python",
   "name": "python",
   "nbconvert_exporter": "python",
   "pygments_lexer": "ipython3",
   "version": "3.5.2"
  }
 },
 "nbformat": 4,
 "nbformat_minor": 1
}
