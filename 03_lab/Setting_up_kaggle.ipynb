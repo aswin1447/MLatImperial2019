{
 "cells": [
  {
   "cell_type": "markdown",
   "metadata": {},
   "source": [
    "<a href=\"https://colab.research.google.com/github/yandexdataschool/MLatImperial2019/blob/master/03_lab/Setting_up_kaggle.ipynb\" target=\"_parent\"><img src=\"https://colab.research.google.com/assets/colab-badge.svg\" alt=\"Open In Colab\"/></a>"
   ]
  },
  {
   "cell_type": "markdown",
   "metadata": {
    "colab_type": "text",
    "id": "TegjGrHdBbvu"
   },
   "source": [
    "- Register on [kaggle](https://www.kaggle.com) \n",
    "- accept the competition rules [LINK TO COMPETITION](https://www.kaggle.com/t/590bfa6b77b54fdeb2a28b9cf43c3b16).\n",
    "- Go to My Account and under API section click **create new API Token**.\n",
    "- Download created kaggle.json\n",
    "- Upload it to your google drive root folder."
   ]
  },
  {
   "cell_type": "markdown",
   "metadata": {
    "colab_type": "text",
    "id": "oOCBykoqCTCW"
   },
   "source": [
    "Now execute the following magic. - It installs kaggle, mounts google drive and downloads data from competition to you drive."
   ]
  },
  {
   "cell_type": "code",
   "execution_count": 0,
   "metadata": {
    "colab": {
     "base_uri": "https://localhost:8080/",
     "height": 122
    },
    "colab_type": "code",
    "id": "mA_GTt99C8ud",
    "outputId": "519b145f-7067-406f-ead6-cdb02321b377"
   },
   "outputs": [
    {
     "name": "stdout",
     "output_type": "stream",
     "text": [
      "Go to this URL in a browser: https://accounts.google.com/o/oauth2/auth?client_id=947318989803-6bn6qk8qdgf4n4g3pfee6491hc0brc4i.apps.googleusercontent.com&redirect_uri=urn%3Aietf%3Awg%3Aoauth%3A2.0%3Aoob&scope=email%20https%3A%2F%2Fwww.googleapis.com%2Fauth%2Fdocs.test%20https%3A%2F%2Fwww.googleapis.com%2Fauth%2Fdrive%20https%3A%2F%2Fwww.googleapis.com%2Fauth%2Fdrive.photos.readonly%20https%3A%2F%2Fwww.googleapis.com%2Fauth%2Fpeopleapi.readonly&response_type=code\n",
      "\n",
      "Enter your authorization code:\n",
      "··········\n",
      "Mounted at /content/gdrive\n"
     ]
    }
   ],
   "source": [
    "from google.colab import drive\n",
    "drive.mount('/content/gdrive')"
   ]
  },
  {
   "cell_type": "code",
   "execution_count": 0,
   "metadata": {
    "colab": {
     "base_uri": "https://localhost:8080/",
     "height": 204
    },
    "colab_type": "code",
    "id": "wa-sUfy0CgbY",
    "outputId": "9a13bc3d-5b38-4122-9def-ca0a1d05e80e"
   },
   "outputs": [
    {
     "name": "stdout",
     "output_type": "stream",
     "text": [
      "Requirement already up-to-date: kaggle in /usr/local/lib/python3.6/dist-packages (1.5.2)\n",
      "Requirement already satisfied, skipping upgrade: urllib3<1.23.0,>=1.15 in /usr/local/lib/python3.6/dist-packages (from kaggle) (1.22)\n",
      "Requirement already satisfied, skipping upgrade: six>=1.10 in /usr/local/lib/python3.6/dist-packages (from kaggle) (1.11.0)\n",
      "Requirement already satisfied, skipping upgrade: certifi in /usr/local/lib/python3.6/dist-packages (from kaggle) (2018.11.29)\n",
      "Requirement already satisfied, skipping upgrade: python-dateutil in /usr/local/lib/python3.6/dist-packages (from kaggle) (2.5.3)\n",
      "Requirement already satisfied, skipping upgrade: requests in /usr/local/lib/python3.6/dist-packages (from kaggle) (2.18.4)\n",
      "Requirement already satisfied, skipping upgrade: tqdm in /usr/local/lib/python3.6/dist-packages (from kaggle) (4.28.1)\n",
      "Requirement already satisfied, skipping upgrade: python-slugify in /usr/local/lib/python3.6/dist-packages (from kaggle) (2.0.1)\n",
      "Requirement already satisfied, skipping upgrade: chardet<3.1.0,>=3.0.2 in /usr/local/lib/python3.6/dist-packages (from requests->kaggle) (3.0.4)\n",
      "Requirement already satisfied, skipping upgrade: idna<2.7,>=2.5 in /usr/local/lib/python3.6/dist-packages (from requests->kaggle) (2.6)\n",
      "Requirement already satisfied, skipping upgrade: Unidecode>=0.04.16 in /usr/local/lib/python3.6/dist-packages (from python-slugify->kaggle) (1.0.23)\n"
     ]
    }
   ],
   "source": [
    "!pip install --upgrade kaggle"
   ]
  },
  {
   "cell_type": "code",
   "execution_count": 0,
   "metadata": {
    "colab": {
     "base_uri": "https://localhost:8080/",
     "height": 51
    },
    "colab_type": "code",
    "id": "S0XzA9woCoTD",
    "outputId": "4c1fd6ab-53a1-4d5c-b24e-5407f0c07ad9"
   },
   "outputs": [
    {
     "name": "stdout",
     "output_type": "stream",
     "text": [
      "total 4\n",
      "-rw------- 1 root root 63 Jan 30 22:53 kaggle.json\n"
     ]
    }
   ],
   "source": [
    "!mkdir /content/.kaggle\n",
    "!cp /content/gdrive/My\\ Drive/kaggle.json /content/.kaggle/\n",
    "!chmod 600 /content/.kaggle/kaggle.json\n",
    "!ls -l /content/.kaggle"
   ]
  },
  {
   "cell_type": "code",
   "execution_count": 0,
   "metadata": {
    "colab": {
     "base_uri": "https://localhost:8080/",
     "height": 34
    },
    "colab_type": "code",
    "id": "LuJQ42G_CpnW",
    "outputId": "238340e9-4c0a-4c1a-fa5c-a78446a06b8b"
   },
   "outputs": [
    {
     "name": "stdout",
     "output_type": "stream",
     "text": [
      "env: KAGGLE_CONFIG_DIR=/content/.kaggle\n"
     ]
    }
   ],
   "source": [
    "%env KAGGLE_CONFIG_DIR=/content/.kaggle"
   ]
  },
  {
   "cell_type": "code",
   "execution_count": 0,
   "metadata": {
    "colab": {
     "base_uri": "https://localhost:8080/",
     "height": 170
    },
    "colab_type": "code",
    "id": "iLDh_M1zCuRA",
    "outputId": "9d422e77-5f87-4559-a460-7555dfe407a2"
   },
   "outputs": [
    {
     "name": "stdout",
     "output_type": "stream",
     "text": [
      "Downloading test.csv.zip to /content/gdrive/My Drive/kaggle_1\n",
      " 95% 225M/237M [00:01<00:00, 136MB/s]\n",
      "100% 237M/237M [00:01<00:00, 129MB/s]\n",
      "Downloading training.csv.zip to /content/gdrive/My Drive/kaggle_1\n",
      " 95% 223M/236M [00:01<00:00, 151MB/s]\n",
      "100% 236M/236M [00:01<00:00, 137MB/s]\n",
      "Downloading submission.csv to /content/gdrive/My Drive/kaggle_1\n",
      "  0% 0.00/91.0 [00:00<?, ?B/s]\n",
      "100% 91.0/91.0 [00:00<00:00, 11.9kB/s]\n"
     ]
    }
   ],
   "source": [
    "!kaggle competitions download -c icl2019-pid -p '/content/gdrive/My Drive/kaggle_1'"
   ]
  }
 ],
 "metadata": {
  "colab": {
   "collapsed_sections": [],
   "name": "Setting up kaggle.ipynb",
   "provenance": [],
   "version": "0.3.2"
  },
  "kernelspec": {
   "display_name": "Python 3",
   "language": "python",
   "name": "python3"
  },
  "language_info": {
   "codemirror_mode": {
    "name": "ipython",
    "version": 3
   },
   "file_extension": ".py",
   "mimetype": "text/x-python",
   "name": "python",
   "nbconvert_exporter": "python",
   "pygments_lexer": "ipython3",
   "version": "3.5.2"
  }
 },
 "nbformat": 4,
 "nbformat_minor": 1
}
