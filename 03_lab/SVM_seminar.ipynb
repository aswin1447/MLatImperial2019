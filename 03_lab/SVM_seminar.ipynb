{
 "cells": [
  {
   "cell_type": "markdown",
   "metadata": {},
   "source": [
    "<a href=\"https://colab.research.google.com/github/yandexdataschool/MLatImperial2019/blob/master/03_lab/SVM_seminar.ipynb\" target=\"_parent\"><img src=\"https://colab.research.google.com/assets/colab-badge.svg\" alt=\"Open In Colab\"/></a>"
   ]
  },
  {
   "cell_type": "code",
   "execution_count": 1,
   "metadata": {},
   "outputs": [
    {
     "name": "stdout",
     "output_type": "stream",
     "text": [
      "Populating the interactive namespace from numpy and matplotlib\n"
     ]
    },
    {
     "name": "stderr",
     "output_type": "stream",
     "text": [
      "/Library/Frameworks/Python.framework/Versions/3.5/lib/python3.5/site-packages/IPython/core/magics/pylab.py:160: UserWarning: pylab import has clobbered these variables: ['plt']\n",
      "`%matplotlib` prevents importing * from pylab and numpy\n",
      "  \"\\n`%matplotlib` prevents importing * from pylab and numpy\"\n"
     ]
    }
   ],
   "source": [
    "import numpy as np\n",
    "import pandas as pd\n",
    "import pylab as plt\n",
    "from sklearn.datasets import make_classification\n",
    "%pylab inline\n",
    "import seaborn as sns\n",
    "sns.set_style('whitegrid')\n",
    "pylab.rcParams['figure.figsize'] = (12.0, 5.0)\n",
    "\n",
    "import warnings\n",
    "warnings.filterwarnings('ignore')"
   ]
  },
  {
   "cell_type": "code",
   "execution_count": 4,
   "metadata": {},
   "outputs": [],
   "source": [
    "from sklearn import svm\n",
    "from sklearn.svm import SVC\n",
    "from matplotlib.colors import ListedColormap\n",
    "from sklearn.preprocessing import StandardScaler\n",
    "from sklearn.datasets import make_moons, make_circles, make_classification\n",
    "from sklearn.model_selection import train_test_split\n",
    "from sklearn.datasets import make_blobs\n",
    "from sklearn.preprocessing import PolynomialFeatures\n",
    "cm_bright = ListedColormap(['#FF0000', '#0000FF'])"
   ]
  },
  {
   "cell_type": "markdown",
   "metadata": {},
   "source": [
    "## Linear SVM reminder\n",
    "\n",
    "Let's look at binary classification problem. Training samples are given by $\\{(x_n, y_n)\\}_{n=1}^N$, where $N$ — number of objects, $\\boldsymbol x_n \\in \\mathbb{R}^d$ — feature vector of object, $y_n \\in \\{+1, -1\\}$ — class of object.\n",
    "\n",
    "SVM trains model for separating hyperplane:\n",
    "$$f(\\boldsymbol x) = \\boldsymbol w^T \\boldsymbol x + b$$\n",
    "Parameters of model — vector of weights $\\boldsymbol w \\in \\mathbb{R}^d$ and bias $b \\in \\mathbb{R}$.\n",
    "\n",
    "Training is done by solving optimisation problem:\n",
    "$$\n",
    "\\begin{gather}\n",
    "    \\frac{1}{2} \\| \\boldsymbol w \\|^2 + C \\sum_{n=1}^N \\xi_n \\to \\min_{\\boldsymbol w, \\boldsymbol \\xi, b} \\\\\n",
    "    \\text{s.t.: } \\quad y_n (\\boldsymbol w^T \\boldsymbol x_n + b) \\geq 1 - \\xi_n, \\quad \\xi_n \\geq 0, \\quad \\forall n=1,\\dots,N\n",
    "\\end{gather}\n",
    "$$\n",
    "\n",
    "Constraint $y_n (\\boldsymbol w^T \\boldsymbol x_n + b) \\geq 1$ assures that objects are correctly classified by separating hyperplane. Since in practice the sample could not be linearly separable the slack variables $\\xi_n$ are introduced , which weakens condition of right classification. $\\| \\boldsymbol w \\|^2$ penalise small width of margin,  $\\sum_n \\xi_n$ penalise weakens of constraints. \n",
    "\n",
    "The solution of optimisation problem is given by $(\\boldsymbol w_{\\star}, \\boldsymbol \\xi_{\\star}, b_{\\star})$, some of the constraints become active, i.e. become a exact equality:\n",
    "$$\\quad y_n (\\boldsymbol w_{\\star}^T \\boldsymbol x_n + b_{\\star}) = 1 - \\xi_{\\star,n}$$\n",
    "Objects, corresponding to active constraints called $\\textbf{support vectors}$.\n",
    "\n",
    "\n",
    "Hyperparameter $C$ is responsible of balancing the width of margin and errors, made by classifier. It shows the generalizing property of the separating hyperplane - big values of $C$ corresponds to less generalizing ability and can lead to overfitting, if the data is well described by linear model. To select $C$ one must do cross-validation on validation set to find the best value.\n",
    "\n",
    "### Realisation\n",
    "\n",
    "There are two realisations of linear SVM in sklearn : [LinearSVC](http://scikit-learn.org/stable/modules/generated/sklearn.svm.LinearSVC.html#sklearn.svm.LinearSVC) and [SVC](http://scikit-learn.org/stable/modules/generated/sklearn.svm.SVC.html#sklearn.svm.SVC) with *linear* kernel. They build on different libraries, with solve optimisation problem *liblinear* in first case and *libsvm* in second.\n",
    "\n",
    "Here we will use [sklearn.svm.SVC](http://scikit-learn.org/stable/modules/generated/sklearn.svm.SVC.html#sklearn.svm.SVC) with *kernel='linear'*."
   ]
  },
  {
   "cell_type": "markdown",
   "metadata": {},
   "source": [
    "We generate data samples with:\n",
    "- linearly separable classes\n",
    "- with well separable classes, but not linearly\n",
    "- with non separable classes."
   ]
  },
  {
   "cell_type": "markdown",
   "metadata": {},
   "source": [
    "### The function below provides imaging and data samples creatinon. Your task is to use it according to the next exercises."
   ]
  },
  {
   "cell_type": "code",
   "execution_count": 75,
   "metadata": {},
   "outputs": [],
   "source": [
    "# From sklearn SVC examples\n",
    "def svc_plotter(classifiers, name, poly_f=False, polynomial_expand=None):\n",
    "    h = .02  # step size in the mesh\n",
    "        \n",
    "    X_sep, y_sep = make_blobs(n_samples=400, n_features=2, centers=2, cluster_std=1.5, random_state=42)\n",
    "    linearly_separable = (X_sep, y_sep)\n",
    "\n",
    "    X, y = make_classification(n_samples=400, n_features=2, n_redundant=0, n_informative=2,\n",
    "                               random_state=231, n_clusters_per_class=1)\n",
    "\n",
    "    rng = np.random.RandomState(2)\n",
    "    X += 15 * rng.uniform(size=X.shape)\n",
    "    linearly_bad_separable = (X, y)\n",
    "\n",
    "\n",
    "    datasets = [linearly_separable,\n",
    "                linearly_bad_separable,\n",
    "                make_circles(n_samples=400, noise=0.05, random_state=42)]\n",
    "\n",
    "    # iterate over datasets\n",
    "    f, axes = plt.subplots(len(datasets), len(classifiers), figsize=(20, 20))\n",
    "    for ds_cnt, ds in enumerate(datasets):\n",
    "        # preprocess dataset, split into training and test part\n",
    "        X, y = ds\n",
    "        X = StandardScaler().fit_transform(X)\n",
    "        X_train, X_test, y_train, y_test = \\\n",
    "            train_test_split(X, y, test_size=.4, random_state=42)\n",
    "\n",
    "        x_min, x_max = X[:, 0].min() - .5, X[:, 0].max() + .5\n",
    "        y_min, y_max = X[:, 1].min() - .5, X[:, 1].max() + .5\n",
    "        xx, yy = np.meshgrid(np.arange(x_min, x_max, h),\n",
    "                             np.arange(y_min, y_max, h))\n",
    "        # iterate over classifiers\n",
    "        index = 0\n",
    "        for clf in classifiers:\n",
    "            if poly_f:\n",
    "                clf.fit(polynomial_expand.fit_transform(X_train), y_train)\n",
    "            else:\n",
    "                clf.fit(X_train, y_train)\n",
    "            ax = axes[ds_cnt, index]\n",
    "            index += 1\n",
    "\n",
    "            # Plot the decision boundary. For that, we will assign a color to each\n",
    "            # point in the mesh [x_min, x_max]x[y_amin, y_max].\n",
    "            if hasattr(clf, \"decision_function\"):\n",
    "                if poly_f:\n",
    "                    Z = clf.decision_function(polynomial_expand.transform(np.c_[xx.ravel(), yy.ravel()]))\n",
    "                else:\n",
    "                    Z = clf.decision_function(np.c_[xx.ravel(), yy.ravel()])\n",
    "            else:\n",
    "                Z = clf.predict_proba(np.c_[xx.ravel(), yy.ravel()])[:, 1]\n",
    "            # Put the result into a color plot\n",
    "            Z = Z.reshape(xx.shape)\n",
    "            #ax.pcolormesh(xx, yy, Z > 0, cmap=plt.cm.Paired)\n",
    "            ax.contourf(xx, yy, Z, cmap=cm.RdBu, alpha=.8, linestyles=['--', '-', '--'],levels=[-1, 0, 1])\n",
    "            ax.contour(xx, yy, Z, colors=['k', 'k', 'k'], linestyles=['--', '-', '--'], levels=[-1, 0, 1])\n",
    "\n",
    "            #support vectors\n",
    "#             ax.scatter(clf.support_vectors_[:, 0], clf.support_vectors_[:, 1], s=80,\n",
    "#                     facecolors='none', zorder=10)\n",
    "\n",
    "            if poly_f:\n",
    "                poly_features= polynomial_expand.fit_transform(X_train)\n",
    "                train_classes = [poly_features[~y_train.astype(bool)], poly_features[y_train.astype(bool)]] \n",
    "            else:\n",
    "                train_classes = [X_train[~y_train.astype(bool)], X_train[y_train.astype(bool)]] \n",
    "            \n",
    "            ax.scatter(clf.support_vectors_[:, 0], clf.support_vectors_[:, 1], s=180,\n",
    "                    facecolors='none', zorder=10, edgecolors='black', linewidths=0.5)\n",
    "            # Plot also the training points\n",
    "            ax.scatter(X_train[:, 0], X_train[:, 1], c=y_train, cmap=cm_bright, alpha=0.3, s=36)\n",
    "            # and testing points\n",
    "            ax.scatter(X_test[:, 0], X_test[:, 1], c=y_test, cmap=cm_bright,\n",
    "                       alpha=0.5, s=36)\n",
    "\n",
    "            ax.set_xlim(xx.min(), xx.max())\n",
    "            ax.set_ylim(yy.min(), yy.max())\n",
    "            ax.set_xlabel(\"x_1\")\n",
    "            ax.set_ylabel(\"x_2\")\n",
    "            ax.set_title(name[index - 1])"
   ]
  },
  {
   "cell_type": "markdown",
   "metadata": {},
   "source": [
    "### Task 1\n",
    "\n",
    "Vary parameter C(in log scale) and provide a list of SVMs with linear kernel to function. name is list of strings, denoting different labels(values of c)"
   ]
  },
  {
   "cell_type": "code",
   "execution_count": 24,
   "metadata": {},
   "outputs": [],
   "source": [
    "classifiers = []\n",
    "name = []\n",
    "# YOUR CODE HERE\n",
    "svc_plotter(classifiers, name)"
   ]
  },
  {
   "cell_type": "markdown",
   "metadata": {},
   "source": [
    "### Task 2\n",
    "\n",
    "How do the number of support vectors depends on C on different datasets?\n",
    "Extract info about support vectors from SVC and plot a graph: Number of Support Vectors VS value of C for all 3 datasets declared below."
   ]
  },
  {
   "cell_type": "code",
   "execution_count": 14,
   "metadata": {},
   "outputs": [],
   "source": [
    "X_sep, y_sep = make_blobs(n_samples=400, n_features=2, centers=2, cluster_std=1.5, random_state=42)\n",
    "linearly_separable = (X_sep, y_sep)\n",
    "\n",
    "X, y = make_classification(n_samples=400, n_features=2, n_redundant=0, n_informative=2,\n",
    "                           random_state=231, n_clusters_per_class=1)\n",
    "\n",
    "rng = np.random.RandomState(2)\n",
    "X += 15 * rng.uniform(size=X.shape)\n",
    "linearly_bad_separable = (X, y)\n",
    "\n",
    "\n",
    "datasets = [linearly_separable,\n",
    "            linearly_bad_separable,\n",
    "            make_circles(n_samples=400, noise=0.05, random_state=42)]"
   ]
  },
  {
   "cell_type": "code",
   "execution_count": 80,
   "metadata": {},
   "outputs": [],
   "source": [
    "vectors = []\n",
    "paramd_grid = ?\n",
    "for dataset in datasets:\n",
    "    # YOUR CODE HERE\n",
    "    for ? in ?:\n",
    "        ?.fit(dataset[0], dataset[1])\n",
    "    # YOUR CODE HERE"
   ]
  },
  {
   "cell_type": "code",
   "execution_count": null,
   "metadata": {},
   "outputs": [],
   "source": [
    "plt.figure\n",
    "plt.plot(paramd_grid, vectors[0], label = 'Dataset_1')\n",
    "plt.plot(paramd_grid, vectors[1], label = 'Dataset_2')\n",
    "plt.plot(paramd_grid, vectors[2], label = 'Dataset_3')\n",
    "plt.xscale('log')\n",
    "plt.xlabel('C(log scale)')\n",
    "plt.ylabel('Number of support vectors')\n",
    "plt.ylim(0, 410)\n",
    "plt.title(\"Dependance of number of support vectors from C\")\n",
    "plt.legend()"
   ]
  },
  {
   "cell_type": "markdown",
   "metadata": {},
   "source": [
    "## Task 3"
   ]
  },
  {
   "cell_type": "markdown",
   "metadata": {},
   "source": [
    "As you can see, for dataset 3, there is no linear hyperplane(e.g. classes can't be separated with a hyperplane)\n",
    ", thus, to solve this problem, one can change feature space, in which the linear model describe dataset better.\n",
    "\n",
    "$$\\boldsymbol x \\in \\mathbb{R}^d \\mapsto \\phi(\\boldsymbol x) \\in \\mathbb{R}^t$$\n",
    "\n",
    "For example, adding all pairwise product of features: $\\phi(x_1, \\dots, x_d) = (x_1, \\dots, x_d, x_1^2, x_1x_2, \\dots, x_d^2)$ transform to the space, where linear hyperplane is a quadratic form in initial feature space.\n",
    "\n",
    "[Video with demonstration](https://youtu.be/9NrALgHFwTo)"
   ]
  },
  {
   "cell_type": "markdown",
   "metadata": {},
   "source": [
    "Remember expand(X) from yesterday? There is a module in sklearn which will can it for you, and not only. Have a look at it.\n",
    "\n",
    "Use $\\textbf{sklearn.preprocessing PolynomialFeatures(with include_bias=False)}$ and plot the results as above. Briefly describe the results"
   ]
  },
  {
   "cell_type": "code",
   "execution_count": 23,
   "metadata": {},
   "outputs": [],
   "source": [
    "classifiers = []\n",
    "name = []\n",
    "# YOUR CODE HERE\n",
    "svc_plotter(classifiers, name, poly_f=True, polynomial_expand=<YOUR instance of PolynomialFeatures>)"
   ]
  },
  {
   "cell_type": "markdown",
   "metadata": {},
   "source": [
    "## Kernel SVM\n",
    "\n",
    "![](http://i.imgur.com/bJAzRCt.png)\n",
    "\n",
    "Linaer SVM problem, covered above, is usually called direct optimisation problem. Any direct problem has $\\textbf{dual}$ problem and in some cases optimums of both problems coincide.\n",
    "\n",
    "\n",
    "Dual problem for SVM is:\n",
    "$$\n",
    "\\begin{gather}\n",
    "    \\sum_{n} \\alpha_n - \\frac{1}{2}\\sum_{n}\\sum_{n'} \\alpha_{n}\\alpha_{n'} y_{n}y_{n'} x_{n}^Tx_{n'} \\to \\max_{\\alpha} \\\\\n",
    "    \\begin{aligned}\n",
    "        \\text{s.t. } \\quad  \n",
    "        & 0 \\le \\alpha_n \\le C, \\quad \\forall n = 1, \\dots, N \\\\\n",
    "        & \\sum_{n} \\alpha_n y_n = 0\n",
    "    \\end{aligned}\n",
    "\\end{gather}\n",
    "$$\n",
    "\n",
    "Vector of dual variables is being optimised $\\alpha_n$. Object $x_n$ is a SV, if $\\alpha_n > 0$.\n",
    "\n",
    "The predicted label is given by:\n",
    "$$\\hat{y}(x) = \\text{sign}\\left(\\sum_{n}\\alpha_{n}y_{n}x^Tx_{n} + b\\right).$$\n",
    "\n",
    "#### Kernel trick\n",
    "Notice, that dual problem has features only as a scalar product $x^Tx'$. This observation helps us to perform kernel trick - implicitly change feature space. Instead of calculating $\\phi(\\boldsymbol x)$ (as we did before) we will compute scalar product $k(\\boldsymbol x, \\boldsymbol x')$ called $\\textbf{kernel}$ and plug it insted of $x^Tx'$ above. "
   ]
  },
  {
   "cell_type": "markdown",
   "metadata": {},
   "source": [
    "### Task 4\n",
    "\n",
    "Try different SVM kernel and plot pictures as above, look what other parameters kernels have and how they affect results.\n",
    "- polynomial: $k(x, x') = (x^Tx' + 1)^d$ with different $d = 2,3,\\dots$\n",
    "- Gaussian RBF: $k(x, x') = \\exp(-\\sigma\\|x - x'\\|^2)$"
   ]
  },
  {
   "cell_type": "markdown",
   "metadata": {},
   "source": [
    "## Poly kernel"
   ]
  },
  {
   "cell_type": "markdown",
   "metadata": {},
   "source": [
    "### degree=2"
   ]
  },
  {
   "cell_type": "code",
   "execution_count": null,
   "metadata": {
    "collapsed": true
   },
   "outputs": [],
   "source": [
    "classifiers = []\n",
    "name = []\n",
    "# YOUR CODE HERE\n",
    "svc_plotter(classifiers, name)"
   ]
  },
  {
   "cell_type": "markdown",
   "metadata": {},
   "source": [
    "### degree=5"
   ]
  },
  {
   "cell_type": "code",
   "execution_count": null,
   "metadata": {
    "collapsed": true
   },
   "outputs": [],
   "source": [
    "classifiers = []\n",
    "name = []\n",
    "# YOUR CODE HERE\n",
    "svc_plotter(classifiers, name)"
   ]
  },
  {
   "cell_type": "markdown",
   "metadata": {},
   "source": [
    "### degree=10"
   ]
  },
  {
   "cell_type": "code",
   "execution_count": null,
   "metadata": {
    "collapsed": true
   },
   "outputs": [],
   "source": [
    "classifiers = []\n",
    "name = []\n",
    "# YOUR CODE HERE\n",
    "svc_plotter(classifiers, name)"
   ]
  },
  {
   "cell_type": "markdown",
   "metadata": {},
   "source": [
    "<img src=\"https://imgur.com/download/e0mznWZ\" alt=\"Drawing\" style=\"width: 500px;\"/>"
   ]
  },
  {
   "cell_type": "markdown",
   "metadata": {},
   "source": [
    "## RBF kernel(vary gamma parameter in logscale)"
   ]
  },
  {
   "cell_type": "code",
   "execution_count": null,
   "metadata": {
    "collapsed": true
   },
   "outputs": [],
   "source": [
    "classifiers = []\n",
    "name = []\n",
    "# YOUR CODE HERE\n",
    "svc_plotter(classifiers, name)"
   ]
  },
  {
   "cell_type": "code",
   "execution_count": null,
   "metadata": {},
   "outputs": [],
   "source": []
  },
  {
   "cell_type": "markdown",
   "metadata": {},
   "source": [
    "# Bonus"
   ]
  },
  {
   "cell_type": "markdown",
   "metadata": {},
   "source": [
    "# Modelgym"
   ]
  },
  {
   "cell_type": "markdown",
   "metadata": {},
   "source": [
    "You have been already told about cross-validation and hyperparamter search. Here, let's look at toy example of how you can optimise this search, making it black box optimisation problem."
   ]
  },
  {
   "cell_type": "markdown",
   "metadata": {},
   "source": [
    "Let's make a dateset, but now, with 200 features - much more real example rather than 2D examples above."
   ]
  },
  {
   "cell_type": "code",
   "execution_count": 85,
   "metadata": {},
   "outputs": [
    {
     "name": "stdout",
     "output_type": "stream",
     "text": [
      "Collecting https://github.com/yandexdataschool/modelgym/archive/master.zip\n",
      "  Downloading https://github.com/yandexdataschool/modelgym/archive/master.zip\n",
      "\u001b[K     | 1.3MB 42.5MB/s\n",
      "Requirement already satisfied (use --upgrade to upgrade): modelgym==0.1.5 from https://github.com/yandexdataschool/modelgym/archive/master.zip in /Library/Frameworks/Python.framework/Versions/3.5/lib/python3.5/site-packages\n",
      "Requirement already satisfied: numpy in /Library/Frameworks/Python.framework/Versions/3.5/lib/python3.5/site-packages (from modelgym==0.1.5) (1.16.0)\n",
      "Requirement already satisfied: scipy in /Library/Frameworks/Python.framework/Versions/3.5/lib/python3.5/site-packages (from modelgym==0.1.5) (1.2.0)\n",
      "Requirement already satisfied: scikit-learn>=0.18 in /Library/Frameworks/Python.framework/Versions/3.5/lib/python3.5/site-packages (from modelgym==0.1.5) (0.20.2)\n",
      "Requirement already satisfied: matplotlib in /Library/Frameworks/Python.framework/Versions/3.5/lib/python3.5/site-packages (from modelgym==0.1.5) (3.0.2)\n",
      "Requirement already satisfied: pandas in /Library/Frameworks/Python.framework/Versions/3.5/lib/python3.5/site-packages (from modelgym==0.1.5) (0.23.4)\n",
      "Requirement already satisfied: seaborn in /Library/Frameworks/Python.framework/Versions/3.5/lib/python3.5/site-packages (from modelgym==0.1.5) (0.9.0)\n",
      "Requirement already satisfied: networkx==1.11 in /Library/Frameworks/Python.framework/Versions/3.5/lib/python3.5/site-packages (from modelgym==0.1.5) (1.11)\n",
      "Requirement already satisfied: hyperopt==0.1 in /Library/Frameworks/Python.framework/Versions/3.5/lib/python3.5/site-packages (from modelgym==0.1.5) (0.1)\n",
      "Requirement already satisfied: pymongo==3.4.0 in /Library/Frameworks/Python.framework/Versions/3.5/lib/python3.5/site-packages (from modelgym==0.1.5) (3.4.0)\n",
      "Requirement already satisfied: pyyaml==3.12 in /Library/Frameworks/Python.framework/Versions/3.5/lib/python3.5/site-packages (from modelgym==0.1.5) (3.12)\n",
      "Requirement already satisfied: scikit-optimize==0.4 in /Library/Frameworks/Python.framework/Versions/3.5/lib/python3.5/site-packages (from modelgym==0.1.5) (0.4)\n",
      "Collecting catboost==0.5 (from modelgym==0.1.5)\n",
      "\u001b[?25l  Downloading https://files.pythonhosted.org/packages/ea/ee/6c4b21bc60e84f19309d60034bfc3061a2c1828932dfb988d4c76d6dad61/catboost-0.5-cp35-none-macosx_10_6_intel.macosx_10_9_intel.macosx_10_9_x86_64.macosx_10_10_intel.macosx_10_10_x86_64.whl (13.3MB)\n",
      "\u001b[K    100% |████████████████████████████████| 13.3MB 11.0MB/s ta 0:00:01\n",
      "\u001b[?25hRequirement already satisfied: cycler>=0.10 in /Library/Frameworks/Python.framework/Versions/3.5/lib/python3.5/site-packages (from matplotlib->modelgym==0.1.5) (0.10.0)\n",
      "Requirement already satisfied: python-dateutil>=2.1 in /Library/Frameworks/Python.framework/Versions/3.5/lib/python3.5/site-packages (from matplotlib->modelgym==0.1.5) (2.6.1)\n",
      "Requirement already satisfied: kiwisolver>=1.0.1 in /Library/Frameworks/Python.framework/Versions/3.5/lib/python3.5/site-packages (from matplotlib->modelgym==0.1.5) (1.0.1)\n",
      "Requirement already satisfied: pyparsing!=2.0.4,!=2.1.2,!=2.1.6,>=2.0.1 in /Library/Frameworks/Python.framework/Versions/3.5/lib/python3.5/site-packages (from matplotlib->modelgym==0.1.5) (2.2.0)\n",
      "Requirement already satisfied: pytz>=2011k in /Library/Frameworks/Python.framework/Versions/3.5/lib/python3.5/site-packages (from pandas->modelgym==0.1.5) (2018.3)\n",
      "Requirement already satisfied: decorator>=3.4.0 in /Library/Frameworks/Python.framework/Versions/3.5/lib/python3.5/site-packages (from networkx==1.11->modelgym==0.1.5) (4.1.2)\n",
      "Requirement already satisfied: future in /Library/Frameworks/Python.framework/Versions/3.5/lib/python3.5/site-packages (from hyperopt==0.1->modelgym==0.1.5) (0.16.0)\n",
      "Requirement already satisfied: nose in /Library/Frameworks/Python.framework/Versions/3.5/lib/python3.5/site-packages (from hyperopt==0.1->modelgym==0.1.5) (1.3.7)\n",
      "Requirement already satisfied: six in /Library/Frameworks/Python.framework/Versions/3.5/lib/python3.5/site-packages (from hyperopt==0.1->modelgym==0.1.5) (1.11.0)\n",
      "Requirement already satisfied: scikit-garden in /Library/Frameworks/Python.framework/Versions/3.5/lib/python3.5/site-packages (from scikit-optimize==0.4->modelgym==0.1.5) (0.1.3)\n",
      "Requirement already satisfied: setuptools in /Library/Frameworks/Python.framework/Versions/3.5/lib/python3.5/site-packages (from kiwisolver>=1.0.1->matplotlib->modelgym==0.1.5) (39.0.1)\n",
      "Requirement already satisfied: cython in /Library/Frameworks/Python.framework/Versions/3.5/lib/python3.5/site-packages (from scikit-garden->scikit-optimize==0.4->modelgym==0.1.5) (0.27.3)\n",
      "Installing collected packages: catboost\n",
      "  Found existing installation: catboost 0.11.0\n",
      "    Uninstalling catboost-0.11.0:\n",
      "      Successfully uninstalled catboost-0.11.0\n",
      "Successfully installed catboost-0.5\n",
      "\u001b[33mYou are using pip version 10.0.0, however version 18.1 is available.\n",
      "You should consider upgrading via the 'pip install --upgrade pip' command.\u001b[0m\n"
     ]
    }
   ],
   "source": [
    "!pip3 install https://github.com/yandexdataschool/modelgym/archive/master.zip --no-cache"
   ]
  },
  {
   "cell_type": "code",
   "execution_count": 91,
   "metadata": {},
   "outputs": [
    {
     "name": "stdout",
     "output_type": "stream",
     "text": [
      "Collecting lightgbm\n",
      "\u001b[?25l  Downloading https://files.pythonhosted.org/packages/38/5b/3d0eee91cde5de48acf34c4416b285f9f0117392f29a367b64440c08edea/lightgbm-2.2.2-py2.py3-none-macosx_10_8_x86_64.macosx_10_9_x86_64.macosx_10_10_x86_64.macosx_10_11_x86_64.macosx_10_12_x86_64.macosx_10_13_x86_64.macosx_10_14_x86_64.whl (629kB)\n",
      "\u001b[K    100% |████████████████████████████████| 634kB 7.1MB/s eta 0:00:01\n",
      "\u001b[?25hRequirement already satisfied: scikit-learn in /Library/Frameworks/Python.framework/Versions/3.5/lib/python3.5/site-packages (from lightgbm) (0.20.2)\n",
      "Requirement already satisfied: scipy in /Library/Frameworks/Python.framework/Versions/3.5/lib/python3.5/site-packages (from lightgbm) (1.2.0)\n",
      "Requirement already satisfied: numpy in /Library/Frameworks/Python.framework/Versions/3.5/lib/python3.5/site-packages (from lightgbm) (1.16.0)\n",
      "Installing collected packages: lightgbm\n",
      "Successfully installed lightgbm-2.2.2\n",
      "\u001b[33mYou are using pip version 10.0.0, however version 18.1 is available.\n",
      "You should consider upgrading via the 'pip install --upgrade pip' command.\u001b[0m\n"
     ]
    }
   ],
   "source": [
    "!pip3 install lightgbm"
   ]
  },
  {
   "cell_type": "code",
   "execution_count": 86,
   "metadata": {},
   "outputs": [],
   "source": [
    "X_sep, y_sep = make_classification(n_samples=1000, n_features=200, n_informative=150, n_classes=2, random_state=42)\n",
    "X_train, X_test, y_train, y_test = train_test_split(X_sep, y_sep, test_size=.4, random_state=42)"
   ]
  },
  {
   "cell_type": "markdown",
   "metadata": {},
   "source": [
    "Let's do cross-validaiton on grid, applying SVM with RBF kernel."
   ]
  },
  {
   "cell_type": "code",
   "execution_count": 87,
   "metadata": {},
   "outputs": [
    {
     "name": "stdout",
     "output_type": "stream",
     "text": [
      "CPU times: user 14.5 s, sys: 70.8 ms, total: 14.6 s\n",
      "Wall time: 14.6 s\n"
     ]
    }
   ],
   "source": [
    "%%time\n",
    "predictions = []\n",
    "for c in np.logspace(-5, 5, 10):\n",
    "    for gamma in np.logspace(-5, 5, 10):\n",
    "        clf = SVC(kernel='rbf', C=c, gamma=gamma)\n",
    "        clf.fit(X_train, y_train)\n",
    "        predictions.append(clf.predict(X_test))"
   ]
  },
  {
   "cell_type": "markdown",
   "metadata": {},
   "source": [
    "Now, since SVM by default does not produce probability of classification, we can only use metrics, applicable to hard classification, for example accuracy and F1 score."
   ]
  },
  {
   "cell_type": "code",
   "execution_count": 88,
   "metadata": {},
   "outputs": [],
   "source": [
    "accuracy = []\n",
    "f1 = []\n",
    "from sklearn import metrics\n",
    "for c_predict in predictions:\n",
    "    accuracy.append(metrics.accuracy_score(y_test, c_predict))\n",
    "    f1.append(metrics.f1_score(y_test, c_predict))"
   ]
  },
  {
   "cell_type": "markdown",
   "metadata": {},
   "source": [
    "Print the maximum of it, we get"
   ]
  },
  {
   "cell_type": "code",
   "execution_count": 89,
   "metadata": {},
   "outputs": [
    {
     "name": "stdout",
     "output_type": "stream",
     "text": [
      "Accuracy: 0.8575\n",
      "F1: 0.85785536159601\n"
     ]
    }
   ],
   "source": [
    "print (\"Accuracy:\", np.max(accuracy))\n",
    "print (\"F1:\", np.max(f1))"
   ]
  },
  {
   "cell_type": "markdown",
   "metadata": {},
   "source": [
    "Now, let's see what happens if we use _modelgym_ - Gym for predictive models). It's made to make cross-validation in smart manner, not just by looping over possible space of parameters, but rather optimising given metric function, trying to find it's maxima and corresponding parameters."
   ]
  },
  {
   "cell_type": "code",
   "execution_count": 93,
   "metadata": {},
   "outputs": [],
   "source": [
    "import os\n",
    "import sys\n",
    "sys.path.append(os.path.join(os.getcwd(), \"modelgym\"))\n",
    "    \n",
    "from svm_model import SVCClassifier    \n",
    "models = [SVCClassifier]"
   ]
  },
  {
   "cell_type": "code",
   "execution_count": 94,
   "metadata": {},
   "outputs": [],
   "source": [
    "from sklearn.datasets import make_classification\n",
    "from modelgym.utils import XYCDataset"
   ]
  },
  {
   "cell_type": "code",
   "execution_count": 95,
   "metadata": {},
   "outputs": [],
   "source": [
    "dataset = XYCDataset(X_sep, y_sep)"
   ]
  },
  {
   "cell_type": "markdown",
   "metadata": {},
   "source": [
    "Create optimizer."
   ]
  },
  {
   "cell_type": "code",
   "execution_count": 96,
   "metadata": {},
   "outputs": [],
   "source": [
    "from modelgym.trainers import TpeTrainer\n",
    "trainer = TpeTrainer(models)"
   ]
  },
  {
   "cell_type": "code",
   "execution_count": 97,
   "metadata": {},
   "outputs": [],
   "source": [
    "from modelgym.metrics import Accuracy, RocAuc, F1"
   ]
  },
  {
   "cell_type": "markdown",
   "metadata": {},
   "source": [
    "$$\n",
    "F_1 = 2 * \\frac{precision * recall}{precision + recall}\n",
    "$$\n",
    "\n",
    "$$\n",
    "$$\n",
    "\n",
    "$$\n",
    "Accuracy(y, \\hat y) = \\frac{1}{N_{samples}} \\sum_{i=1}^{N_{samples}} \\mathbb{1} (\\hat y_i = y_i)\n",
    "$$"
   ]
  },
  {
   "cell_type": "markdown",
   "metadata": {},
   "source": [
    "Send lazy model to workout"
   ]
  },
  {
   "cell_type": "code",
   "execution_count": 98,
   "metadata": {},
   "outputs": [
    {
     "name": "stdout",
     "output_type": "stream",
     "text": [
      "CPU times: user 26.7 s, sys: 586 ms, total: 27.2 s\n",
      "Wall time: 28.1 s\n"
     ]
    }
   ],
   "source": [
    "%%time\n",
    "trainer.crossval_optimize_params(Accuracy(), dataset, metrics=[Accuracy(), F1()])"
   ]
  },
  {
   "cell_type": "code",
   "execution_count": 13,
   "metadata": {
    "collapsed": true
   },
   "outputs": [],
   "source": [
    "# dataset = XYCDataset(X_test, y_test)"
   ]
  },
  {
   "cell_type": "markdown",
   "metadata": {},
   "source": [
    "Proudly look at the results."
   ]
  },
  {
   "cell_type": "code",
   "execution_count": 99,
   "metadata": {},
   "outputs": [
    {
     "name": "stdout",
     "output_type": "stream",
     "text": [
      "\n",
      "~~~~~~~~~~~~~~~~~~~~~~~~~~~~~~~~~~~~~~~~~~~~~~    f1_score    ~~~~~~~~~~~~~~~~~~~~~~~~~~~~~~~~~~~~~~~~~~~~~~~\n",
      "\n",
      "                           tuned\n",
      "SVCClassifier  0.885049 (+0.00%)\n",
      "\n",
      "~~~~~~~~~~~~~~~~~~~~~~~~~~~~~~~~~~~~~~~~~~~~~~    accuracy    ~~~~~~~~~~~~~~~~~~~~~~~~~~~~~~~~~~~~~~~~~~~~~~~\n",
      "\n",
      "                           tuned\n",
      "SVCClassifier  0.885002 (+0.00%)\n"
     ]
    }
   ],
   "source": [
    "from modelgym.report import Report\n",
    "reporter = Report(trainer.get_best_results(), dataset, [Accuracy(), F1()])\n",
    "reporter.print_all_metric_results()"
   ]
  },
  {
   "cell_type": "code",
   "execution_count": 100,
   "metadata": {},
   "outputs": [
    {
     "name": "stdout",
     "output_type": "stream",
     "text": [
      "\n",
      "~~~~~~~~~~~~~~~~~~~~~~~~~~~~~~~~~~~~~~~~~~~~~~    f1_score    ~~~~~~~~~~~~~~~~~~~~~~~~~~~~~~~~~~~~~~~~~~~~~~~\n",
      "\n"
     ]
    },
    {
     "data": {
      "image/png": "[encoded data removed]",
      "text/plain": [
       "<Figure size 1440x504 with 1 Axes>"
      ]
     },
     "metadata": {},
     "output_type": "display_data"
    },
    {
     "name": "stdout",
     "output_type": "stream",
     "text": [
      "\n",
      "~~~~~~~~~~~~~~~~~~~~~~~~~~~~~~~~~~~~~~~~~~~~~~    accuracy    ~~~~~~~~~~~~~~~~~~~~~~~~~~~~~~~~~~~~~~~~~~~~~~~\n",
      "\n"
     ]
    },
    {
     "data": {
      "image/png": "[encoded data removed]",
      "text/plain": [
       "<Figure size 1440x504 with 1 Axes>"
      ]
     },
     "metadata": {},
     "output_type": "display_data"
    }
   ],
   "source": [
    "reporter.plot_all_metrics()"
   ]
  },
  {
   "cell_type": "code",
   "execution_count": 101,
   "metadata": {},
   "outputs": [
    {
     "data": {
      "text/plain": [
       "{'SVCClassifier': {'model_space': <modelgym.utils.model_space.ModelSpace at 0x12630a320>,\n",
       "  'result': {'loss': -0.8850017682353011,\n",
       "   'loss_variance': 0.0027523346570104434,\n",
       "   'metric_cv_results': [{'accuracy': 0.8832335329341318,\n",
       "     'f1_score': 0.8785046728971964},\n",
       "    {'accuracy': 0.8888888888888888, 'f1_score': 0.895184135977337},\n",
       "    {'accuracy': 0.8828828828828829, 'f1_score': 0.8814589665653495}],\n",
       "   'params': {'C': 599.4842503189421,\n",
       "    'gamma': 0.0001291549665014884,\n",
       "    'kernel': 'rbf'},\n",
       "   'status': 'ok'}}}"
      ]
     },
     "execution_count": 101,
     "metadata": {},
     "output_type": "execute_result"
    }
   ],
   "source": [
    "trainer.get_best_results()"
   ]
  },
  {
   "cell_type": "markdown",
   "metadata": {},
   "source": [
    "This is more or less simple example, when you have only two parameters to optimize. Image more complex ML methods, which has about 10-15 paramters to find at CV... More interesting example of modelgym on tomorrow seminar."
   ]
  },
  {
   "cell_type": "code",
   "execution_count": null,
   "metadata": {
    "collapsed": true
   },
   "outputs": [],
   "source": []
  }
 ],
 "metadata": {
  "kernelspec": {
   "display_name": "Python 3",
   "language": "python",
   "name": "python3"
  },
  "language_info": {
   "codemirror_mode": {
    "name": "ipython",
    "version": 3
   },
   "file_extension": ".py",
   "mimetype": "text/x-python",
   "name": "python",
   "nbconvert_exporter": "python",
   "pygments_lexer": "ipython3",
   "version": "3.5.2"
  }
 },
 "nbformat": 4,
 "nbformat_minor": 1
}
